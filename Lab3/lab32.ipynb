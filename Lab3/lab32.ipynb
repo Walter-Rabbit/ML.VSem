{
 "nbformat": 4,
 "nbformat_minor": 0,
 "metadata": {
  "kernelspec": {
   "display_name": "Python 3",
   "language": "python",
   "name": "python3"
  },
  "language_info": {
   "codemirror_mode": {
    "name": "ipython",
    "version": 3
   },
   "file_extension": ".py",
   "mimetype": "text/x-python",
   "name": "python",
   "nbconvert_exporter": "python",
   "pygments_lexer": "ipython3",
   "version": "3.6.5"
  },
  "toc": {
   "base_numbering": 1,
   "nav_menu": {},
   "number_sections": true,
   "sideBar": true,
   "skip_h1_title": false,
   "title_cell": "Table of Contents",
   "title_sidebar": "Contents",
   "toc_cell": false,
   "toc_position": {},
   "toc_section_display": true,
   "toc_window_display": false
  },
  "colab": {
   "provenance": [],
   "collapsed_sections": []
  }
 },
 "cells": [
  {
   "cell_type": "markdown",
   "metadata": {
    "id": "-7WO78Auf0qu"
   },
   "source": [
    "Это вторая часть задания.\n",
    "\n",
    "Первая часть задания (задания 3.1-3.4) находится в [ноутбуке про линейную регрессию](https://colab.research.google.com/drive/1eX21oBHRAzNr3PimxhMJENF3yeBC2DBe?usp=sharing)."
   ]
  },
  {
   "cell_type": "markdown",
   "metadata": {
    "id": "LYKqDli0Lqas"
   },
   "source": [
    "# Предсказание цен на недвижимость\n",
    "\n",
    "Компании по продаже недвижимости оценивают её стоимость, используя методы машинного обучения. \n",
    "Задача оценки цены на недвижимость также может быть нужна для выявления наиболее выгодных предложений, или, например, для выявления аномально низких цен на объект недвижимости."
   ]
  },
  {
   "cell_type": "markdown",
   "metadata": {
    "id": "FB3xfscxLqat"
   },
   "source": [
    "**Постановка задачи анализа данных** \n",
    "\n",
    "Целью данной задачи является прогнозирование стоимости домов в округе Кинг (штат Вашингтон, США) с помощью построения регрессионных моделей и их анализа. Набор данных состоит из цен на дома в округе Кинг, проданных в период с мая 2014 года по май 2015 года. Данные опубликованы в открытом доступе на платформе Kaggle. "
   ]
  },
  {
   "cell_type": "markdown",
   "metadata": {
    "id": "rvJWkambLqau"
   },
   "source": [
    "Данные с сайта renthub.com по стоимости квартир для аренды:"
   ]
  },
  {
   "cell_type": "markdown",
   "metadata": {
    "id": "_vD1NqACLqav"
   },
   "source": [
    "<a href=\"https://drive.google.com/uc?id=1Dr-p-o5yMi3uIS2kPcUUwT5bH0cCt1Be\n",
    "\" target=\"_blank\"><img src=\"https://drive.google.com/uc?id=1Dr-p-o5yMi3uIS2kPcUUwT5bH0cCt1Be\" \n",
    "alt=\"IMAGE ALT TEXT HERE\" width=\"360\" border=\"0\" /></a>\n"
   ]
  },
  {
   "cell_type": "markdown",
   "metadata": {
    "id": "S15gn1XfLqaw"
   },
   "source": [
    "**Обзор доступных данных**\n",
    "\n",
    "В наборе данных 21613 наблюдений и 16 признаков. \n",
    "Таким образом, про каждый из 21613 объектов недвижимости мы знаем значения 16 характеристик (число спален, оценка состояния риелтором, наличие вида на воду и т.п.)\n",
    "\n",
    "Выборка была разбита на две части для обучения и для тестирования модели. Данные на обучение и тест обычно делят случайно и равномерно: нужно чтобы и обучающая, и тестовая выборка были похожие на те данные, на которых модель будет использоваться в боевых условиях. \n",
    "\n",
    "Более сложные разбиения могут использоваться если в данных есть временная компонента - например, мы строим скоринговую модель и для теста откладываем данные за последние несколько месяцев, а всю остальную выборку используем для обучения. Такое разбиение имитирует реальную работу модели: мы можем обучаться только на данных прошлых кредитов, а работать модель уже будет на данных из будущего. \n",
    "\n",
    "Доли общей выборки для обучения и тестирования обычно 70% и 30% соотвественно. Любые разумные числа подходят, если для обучения используется достаточно много данных (обычно больше 50%), но и для тестирования что-то остается (10% и больше).\n"
   ]
  },
  {
   "cell_type": "markdown",
   "metadata": {
    "id": "iOeVms4dLqax"
   },
   "source": [
    "Данные содержат два типа переменных:\n",
    "\n",
    "* Целевая: **Целевая. Цена**\n",
    "* Остальные переменные **могут использоваться для прогноза целевой переменной.**"
   ]
  },
  {
   "cell_type": "markdown",
   "metadata": {
    "id": "OFP_i1F1Lqay"
   },
   "source": [
    "## План анализа данных (data mining):\n",
    "\n",
    "  1. Загрузить данные для обучения\n",
    "  2. Обработать данные перед обучением модели\n",
    "  3. Обучить модель на обучающей выборке\n",
    "  4. Загрузить и предобработать данные для тестирования\n",
    "  5. Провалидировать модель на тестовой выборке\n",
    "  6. Проанализировать важность признаков и не забыть про постановку задачи"
   ]
  },
  {
   "cell_type": "markdown",
   "metadata": {
    "id": "mKUYn0nHLqaz"
   },
   "source": [
    "## 1. Загрузить данные для обучения"
   ]
  },
  {
   "cell_type": "markdown",
   "metadata": {
    "id": "Bqqurd70Lqaz"
   },
   "source": [
    "**Шаг 1.1. Загружаем библиотеки** "
   ]
  },
  {
   "cell_type": "markdown",
   "metadata": {
    "id": "rY5oSQ0-Lqa0"
   },
   "source": [
    "Библиотека **warnings** отвечает за то, какие предупреждения (warnings) о работе будут выводиться пользователю. \n",
    "FutureWarning - предупреждения о том, как изменится работа библиотек в будущих версиях.\n",
    "Поэтому такие предупреждения мы будем игнорировать.\n",
    "Чтобы включить режим игнорирования мы отбираем все предупреждения из категории FutureWarning и выбираем для них действия 'ignore'.\n",
    "Это делается вызовом функции simplefilter c задание двух атрибутов: действия action и категории предупреждений category."
   ]
  },
  {
   "cell_type": "code",
   "metadata": {
    "id": "SVfM6HC8Lqa1"
   },
   "source": [
    "import warnings\n",
    "warnings.simplefilter(action='ignore', category=FutureWarning)"
   ],
   "execution_count": null,
   "outputs": []
  },
  {
   "cell_type": "markdown",
   "metadata": {
    "id": "28Bf-HdaLqa4"
   },
   "source": [
    "Для корректной работы с данными в python требуется загрузить специальную библиотеку\n",
    "**pandas**, программную библиотеку на языке python для обработки и анализа данных. "
   ]
  },
  {
   "cell_type": "code",
   "metadata": {
    "id": "DuCW163qLqa4"
   },
   "source": [
    "import pandas as pd # загружаем библиотеку и для простоты обращения в коде называем её сокращенно pd"
   ],
   "execution_count": null,
   "outputs": []
  },
  {
   "cell_type": "markdown",
   "metadata": {
    "id": "NT0TLhqxLqa7"
   },
   "source": [
    "Для корректной работы с графиками в python требуется загрузить специальную библиотеку\n",
    "**matplotlib**, программную библиотеку на языке python для визуализации данных двумерной и трехмерной графикой.\n",
    "\n",
    "Графики используются для облегчения интерпретации полученных результатов, а также в качестве иллюстраций в презентациях и отчетах. \n",
    "\n",
    "Оснвные методы для построения:\n",
    "* plot() - графики\n",
    "* semilogy() - график логарифмический\n",
    "* hist() - гистограммы"
   ]
  },
  {
   "cell_type": "code",
   "metadata": {
    "id": "gHGUZu8rLqa8"
   },
   "source": [
    "import matplotlib.pyplot as plt # загружаем библиотеку и для простоты обращения в коде называем её сокращенно plt\n",
    "# указываем, чтобы картинки отображались прямо в ноутбуке \n",
    "%matplotlib inline "
   ],
   "execution_count": null,
   "outputs": []
  },
  {
   "cell_type": "markdown",
   "metadata": {
    "id": "JVr8btg7Qk3x"
   },
   "source": [
    "**Шаг 1.2. Загрузим данные**"
   ]
  },
  {
   "cell_type": "markdown",
   "metadata": {
    "id": "5pzU4iRyQN9H"
   },
   "source": [
    "Для решения задачи мы будем использовать данные. Они состоят из двух частей: часть для обучения и часть для тестирования модели. Загружаем данные с помощие команды !wget. Для того, чтобы игнорировать сообщения в процессе загрузки используем магическую команду %%capture в первой строке."
   ]
  },
  {
   "cell_type": "code",
   "metadata": {
    "id": "g6rmRg3BOTxG"
   },
   "source": [
    "%%capture\n",
    "!wget https://www.dropbox.com/s/afwb0tnqm9izxha/predict_house_price_training_data.xlsx\n",
    "!wget https://www.dropbox.com/s/sur2avqf4n5f4az/predict_house_price_test_data.xlsx"
   ],
   "execution_count": null,
   "outputs": []
  },
  {
   "cell_type": "markdown",
   "metadata": {
    "id": "yJpKlVRBLqa-"
   },
   "source": [
    "Так как данные в формате xlsx (Excel), мы будем использовать специальную функцию\n",
    "из библиотеки pandas для загрузки таких данных **read_excel**.\n",
    "\n",
    "В функции передаем один атрибут: название таблицы с данными."
   ]
  },
  {
   "cell_type": "code",
   "metadata": {
    "id": "jaBeMSeuLqa_"
   },
   "source": [
    "training_data = pd.read_excel('predict_house_price_training_data.xlsx') # загружаем таблицу в переменную training_data"
   ],
   "execution_count": null,
   "outputs": []
  },
  {
   "cell_type": "markdown",
   "metadata": {
    "id": "jK9Xd2a5LqbB"
   },
   "source": [
    "*Что важно посмотреть после того, как мы загрузили данные?*\n",
    "- проверить, что данные действительно загрузились\n",
    "- посмотреть на данные, чтобы удостовериться, что они правильные: колонки имеют те же названия, что и в таблице и т.д.\n",
    "\n",
    "Для того чтобы это сделать, нужно вызвать от переменной *training_data* метод **head()**, который выводит первые 5 строк таблицы. \n",
    "\n",
    "Для вызова метода объекта необходимо сначала написать *имя объекта*, затем поставить *точку*, затем уже написать *название метода*. Обратите внимание, что в конце обязательно ставить скобочки, потому что метод - это функция и в ней есть аргументы, просто в данном случае мы их не передаем, поэтому оставляем поле пустым"
   ]
  },
  {
   "cell_type": "code",
   "metadata": {
    "id": "q3Me_dg-LqbC",
    "colab": {
     "base_uri": "https://localhost:8080/",
     "height": 206
    },
    "outputId": "a33a611c-3deb-4501-c379-c44d30be5dbf"
   },
   "source": [
    "training_data.head()"
   ],
   "execution_count": null,
   "outputs": [
    {
     "output_type": "execute_result",
     "data": {
      "text/plain": [
       "   Целевая.Цена  Спальни  Ванные  Жилая площадь  Общая площадь  \\\n",
       "0        830000        5    3.50           3490          21780   \n",
       "1        385000        4    1.75           2360           7620   \n",
       "2        610000        6    2.75           2040           8560   \n",
       "3        550000        3    1.75           1940           8376   \n",
       "4       1300000        3    2.75           3450           5350   \n",
       "\n",
       "   Количество этажей  Вид на воду  Просмотрены ранее  Состояние  \\\n",
       "0                2.0            0                  0          3   \n",
       "1                1.0            0                  0          4   \n",
       "2                1.0            0                  2          4   \n",
       "3                1.0            0                  0          4   \n",
       "4                1.5            0                  3          4   \n",
       "\n",
       "   Оценка риелтора  Площадь без подвала  Площадь подвала  Год постройки  \\\n",
       "0                8                 3490                0           1996   \n",
       "1                7                 1180             1180           1955   \n",
       "2                7                 1100              940           1961   \n",
       "3                8                 1290              650           1963   \n",
       "4                9                 2590              860           1925   \n",
       "\n",
       "   Год реновации   Широта  Долгота  \n",
       "0              0  47.6707 -122.144  \n",
       "1              0  47.5278 -122.345  \n",
       "2              0  47.6160 -122.115  \n",
       "3              0  47.5586 -122.173  \n",
       "4              0  47.6389 -122.407  "
      ],
      "text/html": [
       "\n",
       "  <div id=\"df-6d3f5822-30e5-4c11-b2f2-ca8ca0c0de86\">\n",
       "    <div class=\"colab-df-container\">\n",
       "      <div>\n",
       "<style scoped>\n",
       "    .dataframe tbody tr th:only-of-type {\n",
       "        vertical-align: middle;\n",
       "    }\n",
       "\n",
       "    .dataframe tbody tr th {\n",
       "        vertical-align: top;\n",
       "    }\n",
       "\n",
       "    .dataframe thead th {\n",
       "        text-align: right;\n",
       "    }\n",
       "</style>\n",
       "<table border=\"1\" class=\"dataframe\">\n",
       "  <thead>\n",
       "    <tr style=\"text-align: right;\">\n",
       "      <th></th>\n",
       "      <th>Целевая.Цена</th>\n",
       "      <th>Спальни</th>\n",
       "      <th>Ванные</th>\n",
       "      <th>Жилая площадь</th>\n",
       "      <th>Общая площадь</th>\n",
       "      <th>Количество этажей</th>\n",
       "      <th>Вид на воду</th>\n",
       "      <th>Просмотрены ранее</th>\n",
       "      <th>Состояние</th>\n",
       "      <th>Оценка риелтора</th>\n",
       "      <th>Площадь без подвала</th>\n",
       "      <th>Площадь подвала</th>\n",
       "      <th>Год постройки</th>\n",
       "      <th>Год реновации</th>\n",
       "      <th>Широта</th>\n",
       "      <th>Долгота</th>\n",
       "    </tr>\n",
       "  </thead>\n",
       "  <tbody>\n",
       "    <tr>\n",
       "      <th>0</th>\n",
       "      <td>830000</td>\n",
       "      <td>5</td>\n",
       "      <td>3.50</td>\n",
       "      <td>3490</td>\n",
       "      <td>21780</td>\n",
       "      <td>2.0</td>\n",
       "      <td>0</td>\n",
       "      <td>0</td>\n",
       "      <td>3</td>\n",
       "      <td>8</td>\n",
       "      <td>3490</td>\n",
       "      <td>0</td>\n",
       "      <td>1996</td>\n",
       "      <td>0</td>\n",
       "      <td>47.6707</td>\n",
       "      <td>-122.144</td>\n",
       "    </tr>\n",
       "    <tr>\n",
       "      <th>1</th>\n",
       "      <td>385000</td>\n",
       "      <td>4</td>\n",
       "      <td>1.75</td>\n",
       "      <td>2360</td>\n",
       "      <td>7620</td>\n",
       "      <td>1.0</td>\n",
       "      <td>0</td>\n",
       "      <td>0</td>\n",
       "      <td>4</td>\n",
       "      <td>7</td>\n",
       "      <td>1180</td>\n",
       "      <td>1180</td>\n",
       "      <td>1955</td>\n",
       "      <td>0</td>\n",
       "      <td>47.5278</td>\n",
       "      <td>-122.345</td>\n",
       "    </tr>\n",
       "    <tr>\n",
       "      <th>2</th>\n",
       "      <td>610000</td>\n",
       "      <td>6</td>\n",
       "      <td>2.75</td>\n",
       "      <td>2040</td>\n",
       "      <td>8560</td>\n",
       "      <td>1.0</td>\n",
       "      <td>0</td>\n",
       "      <td>2</td>\n",
       "      <td>4</td>\n",
       "      <td>7</td>\n",
       "      <td>1100</td>\n",
       "      <td>940</td>\n",
       "      <td>1961</td>\n",
       "      <td>0</td>\n",
       "      <td>47.6160</td>\n",
       "      <td>-122.115</td>\n",
       "    </tr>\n",
       "    <tr>\n",
       "      <th>3</th>\n",
       "      <td>550000</td>\n",
       "      <td>3</td>\n",
       "      <td>1.75</td>\n",
       "      <td>1940</td>\n",
       "      <td>8376</td>\n",
       "      <td>1.0</td>\n",
       "      <td>0</td>\n",
       "      <td>0</td>\n",
       "      <td>4</td>\n",
       "      <td>8</td>\n",
       "      <td>1290</td>\n",
       "      <td>650</td>\n",
       "      <td>1963</td>\n",
       "      <td>0</td>\n",
       "      <td>47.5586</td>\n",
       "      <td>-122.173</td>\n",
       "    </tr>\n",
       "    <tr>\n",
       "      <th>4</th>\n",
       "      <td>1300000</td>\n",
       "      <td>3</td>\n",
       "      <td>2.75</td>\n",
       "      <td>3450</td>\n",
       "      <td>5350</td>\n",
       "      <td>1.5</td>\n",
       "      <td>0</td>\n",
       "      <td>3</td>\n",
       "      <td>4</td>\n",
       "      <td>9</td>\n",
       "      <td>2590</td>\n",
       "      <td>860</td>\n",
       "      <td>1925</td>\n",
       "      <td>0</td>\n",
       "      <td>47.6389</td>\n",
       "      <td>-122.407</td>\n",
       "    </tr>\n",
       "  </tbody>\n",
       "</table>\n",
       "</div>\n",
       "      <button class=\"colab-df-convert\" onclick=\"convertToInteractive('df-6d3f5822-30e5-4c11-b2f2-ca8ca0c0de86')\"\n",
       "              title=\"Convert this dataframe to an interactive table.\"\n",
       "              style=\"display:none;\">\n",
       "        \n",
       "  <svg xmlns=\"http://www.w3.org/2000/svg\" height=\"24px\"viewBox=\"0 0 24 24\"\n",
       "       width=\"24px\">\n",
       "    <path d=\"M0 0h24v24H0V0z\" fill=\"none\"/>\n",
       "    <path d=\"M18.56 5.44l.94 2.06.94-2.06 2.06-.94-2.06-.94-.94-2.06-.94 2.06-2.06.94zm-11 1L8.5 8.5l.94-2.06 2.06-.94-2.06-.94L8.5 2.5l-.94 2.06-2.06.94zm10 10l.94 2.06.94-2.06 2.06-.94-2.06-.94-.94-2.06-.94 2.06-2.06.94z\"/><path d=\"M17.41 7.96l-1.37-1.37c-.4-.4-.92-.59-1.43-.59-.52 0-1.04.2-1.43.59L10.3 9.45l-7.72 7.72c-.78.78-.78 2.05 0 2.83L4 21.41c.39.39.9.59 1.41.59.51 0 1.02-.2 1.41-.59l7.78-7.78 2.81-2.81c.8-.78.8-2.07 0-2.86zM5.41 20L4 18.59l7.72-7.72 1.47 1.35L5.41 20z\"/>\n",
       "  </svg>\n",
       "      </button>\n",
       "      \n",
       "  <style>\n",
       "    .colab-df-container {\n",
       "      display:flex;\n",
       "      flex-wrap:wrap;\n",
       "      gap: 12px;\n",
       "    }\n",
       "\n",
       "    .colab-df-convert {\n",
       "      background-color: #E8F0FE;\n",
       "      border: none;\n",
       "      border-radius: 50%;\n",
       "      cursor: pointer;\n",
       "      display: none;\n",
       "      fill: #1967D2;\n",
       "      height: 32px;\n",
       "      padding: 0 0 0 0;\n",
       "      width: 32px;\n",
       "    }\n",
       "\n",
       "    .colab-df-convert:hover {\n",
       "      background-color: #E2EBFA;\n",
       "      box-shadow: 0px 1px 2px rgba(60, 64, 67, 0.3), 0px 1px 3px 1px rgba(60, 64, 67, 0.15);\n",
       "      fill: #174EA6;\n",
       "    }\n",
       "\n",
       "    [theme=dark] .colab-df-convert {\n",
       "      background-color: #3B4455;\n",
       "      fill: #D2E3FC;\n",
       "    }\n",
       "\n",
       "    [theme=dark] .colab-df-convert:hover {\n",
       "      background-color: #434B5C;\n",
       "      box-shadow: 0px 1px 3px 1px rgba(0, 0, 0, 0.15);\n",
       "      filter: drop-shadow(0px 1px 2px rgba(0, 0, 0, 0.3));\n",
       "      fill: #FFFFFF;\n",
       "    }\n",
       "  </style>\n",
       "\n",
       "      <script>\n",
       "        const buttonEl =\n",
       "          document.querySelector('#df-6d3f5822-30e5-4c11-b2f2-ca8ca0c0de86 button.colab-df-convert');\n",
       "        buttonEl.style.display =\n",
       "          google.colab.kernel.accessAllowed ? 'block' : 'none';\n",
       "\n",
       "        async function convertToInteractive(key) {\n",
       "          const element = document.querySelector('#df-6d3f5822-30e5-4c11-b2f2-ca8ca0c0de86');\n",
       "          const dataTable =\n",
       "            await google.colab.kernel.invokeFunction('convertToInteractive',\n",
       "                                                     [key], {});\n",
       "          if (!dataTable) return;\n",
       "\n",
       "          const docLinkHtml = 'Like what you see? Visit the ' +\n",
       "            '<a target=\"_blank\" href=https://colab.research.google.com/notebooks/data_table.ipynb>data table notebook</a>'\n",
       "            + ' to learn more about interactive tables.';\n",
       "          element.innerHTML = '';\n",
       "          dataTable['output_type'] = 'display_data';\n",
       "          await google.colab.output.renderOutput(dataTable, element);\n",
       "          const docLink = document.createElement('div');\n",
       "          docLink.innerHTML = docLinkHtml;\n",
       "          element.appendChild(docLink);\n",
       "        }\n",
       "      </script>\n",
       "    </div>\n",
       "  </div>\n",
       "  "
      ]
     },
     "metadata": {},
     "execution_count": 326
    }
   ]
  },
  {
   "cell_type": "markdown",
   "metadata": {
    "id": "wkuIAKG4LqbF"
   },
   "source": [
    "**Шаг 1.3. Посмотрим на размеры загруженной таблицы**, у которой мы видели только первые 5 строк.\n",
    "\n",
    "Для этого вызываем поле **shape** у нашей переменной *training_data*. Поле вызывается также как метод, но в конце скобки не ставятся, так как для поля не предусмотрена передача аргументов.  "
   ]
  },
  {
   "cell_type": "code",
   "metadata": {
    "id": "8uNkaQKWLqbG",
    "colab": {
     "base_uri": "https://localhost:8080/"
    },
    "outputId": "b351e539-8658-46d9-d184-1b84ade6702a"
   },
   "source": [
    "training_data.shape"
   ],
   "execution_count": null,
   "outputs": [
    {
     "output_type": "execute_result",
     "data": {
      "text/plain": [
       "(15129, 16)"
      ]
     },
     "metadata": {},
     "execution_count": 327
    }
   ]
  },
  {
   "cell_type": "markdown",
   "metadata": {
    "id": "8oiD7YJjLqbI"
   },
   "source": [
    "*Что означает первое и второе число?*\n",
    "\n",
    "Итак, таблица содержит 15129 строк (объектов) и 16 столбцов (признаков), включая выходной (целевой) признак.\n",
    "15129 меньше 21613, так как мы пока загрузили только часть данных, которую будем использовать для обучения модели.\n",
    "\n",
    "Таблицу проверили, теперь можно приступать к обработке данных."
   ]
  },
  {
   "cell_type": "markdown",
   "metadata": {
    "id": "Mz4rsFhALqbJ"
   },
   "source": [
    "# 2. Обработать данные перед обучением модели"
   ]
  },
  {
   "cell_type": "markdown",
   "metadata": {
    "id": "0Z2QQXxSLqbK"
   },
   "source": [
    "**Шаг 2.1. Проверяем данные на наличие пропусков и типов переменных**\n",
    "\n",
    "Начнем с проверки общей информации о данных.\n",
    "Для того чтобы это сделать, нужно обратиться вызвать у переменной *training_data* метод **info()**.\n",
    "\n",
    "Напомним, что в конце необходимо поставить скобочки."
   ]
  },
  {
   "cell_type": "code",
   "metadata": {
    "id": "yBfVVIN7LqbL",
    "colab": {
     "base_uri": "https://localhost:8080/"
    },
    "outputId": "ba657e9c-483f-4c0a-977a-0471f35f2eab"
   },
   "source": [
    "training_data.info()"
   ],
   "execution_count": null,
   "outputs": [
    {
     "output_type": "stream",
     "name": "stdout",
     "text": [
      "<class 'pandas.core.frame.DataFrame'>\n",
      "RangeIndex: 15129 entries, 0 to 15128\n",
      "Data columns (total 16 columns):\n",
      " #   Column               Non-Null Count  Dtype  \n",
      "---  ------               --------------  -----  \n",
      " 0   Целевая.Цена         15129 non-null  int64  \n",
      " 1   Спальни              15129 non-null  int64  \n",
      " 2   Ванные               15129 non-null  float64\n",
      " 3   Жилая площадь        15129 non-null  int64  \n",
      " 4   Общая площадь        15129 non-null  int64  \n",
      " 5   Количество этажей    15129 non-null  float64\n",
      " 6   Вид на воду          15129 non-null  int64  \n",
      " 7   Просмотрены ранее    15129 non-null  int64  \n",
      " 8   Состояние            15129 non-null  int64  \n",
      " 9   Оценка риелтора      15129 non-null  int64  \n",
      " 10  Площадь без подвала  15129 non-null  int64  \n",
      " 11  Площадь подвала      15129 non-null  int64  \n",
      " 12  Год постройки        15129 non-null  int64  \n",
      " 13  Год реновации        15129 non-null  int64  \n",
      " 14  Широта               15129 non-null  float64\n",
      " 15  Долгота              15129 non-null  float64\n",
      "dtypes: float64(4), int64(12)\n",
      "memory usage: 1.8 MB\n"
     ]
    }
   ]
  },
  {
   "cell_type": "markdown",
   "metadata": {
    "id": "va78W9uuLqbN"
   },
   "source": [
    "Анализируем результата выполнения команды:\n",
    "\n",
    "* 15129 строк (entries)\n",
    "* 16 столбцов (Data columns)\n",
    "\n",
    "В данных присутствует всего два типа dtypes:\n",
    "* int64 - целое число  (12 столбцов)\n",
    "* float64 - дробное число (4 столбца)\n",
    "\n",
    "Цифры в каждой строчке обозначают количество заполненных (*non-null*) значений. Так как эти цифры в каждой строчке совпадают с числом строк (15129), то в данных нет пропусков и можно двигаться дальше. "
   ]
  },
  {
   "cell_type": "markdown",
   "metadata": {
    "id": "oPiLacxmLqbO"
   },
   "source": [
    "**Шаг 2.2. Работаем с целевой переменной**\n",
    "\n",
    "*Какая переменная целевая?*\n",
    "\n",
    "В данном случае по условию задачи мы должны прогнозировать стоимость, поэтому целевая переменная - это цена. "
   ]
  },
  {
   "cell_type": "code",
   "metadata": {
    "id": "EsyYEJd0LqbP"
   },
   "source": [
    "target_variable_name = 'Целевая.Цена'"
   ],
   "execution_count": null,
   "outputs": []
  },
  {
   "cell_type": "markdown",
   "metadata": {
    "id": "gOM9Kj8pLqbS"
   },
   "source": [
    "Нам нужно выделить в отдельную переменную *training_values* столбец из нашей таблицы, который соответствует определенной выше целевой переменной. Для этого мы у таблицы *training_data* в квадратных скобках указываем имя нужного столбца. В нашем случае это имя записано в переменной *target_variable_name*. "
   ]
  },
  {
   "cell_type": "code",
   "metadata": {
    "id": "BbEcpf4mLqbT"
   },
   "source": [
    "training_values = training_data[target_variable_name]"
   ],
   "execution_count": null,
   "outputs": []
  },
  {
   "cell_type": "markdown",
   "metadata": {
    "id": "INrEpAUkLqbV"
   },
   "source": [
    "Отделим входные переменные от выходной (целевой), чтобы можно было построить модель предсказания целевой переменной по входным. \n",
    "Для это нужно у переменной *training_data* вызвать метод **drop()**. Результат мы записываем в новую переменную *training_points*. После выполнения запроса *training_points* будет содержать исходную таблицу без целевого столбца. \n",
    "\n",
    "Обратите внимание, что в данном случае мы передаем два аргумента:\n",
    "    1. target_variable_name - название столбца цены, который мы ранее записали в эту переменную и теперь хотим удалить из training_data\n",
    "    2. axis=1 - означает, что мы удаляем столбец, а в случае axis=0 - означает, что мы удаляем строку"
   ]
  },
  {
   "cell_type": "code",
   "metadata": {
    "id": "DDXkAIHBLqbW"
   },
   "source": [
    "training_points = training_data.drop(target_variable_name, axis=1)"
   ],
   "execution_count": null,
   "outputs": []
  },
  {
   "cell_type": "markdown",
   "metadata": {
    "id": "civG1etNLqbY"
   },
   "source": [
    "Можно посмотреть результаты этих действий, вызвав метод **head()** и поле **shape**, которыми мы пользовались ранее, но сейчас нужно вызывать их от новой переменной *training_points*."
   ]
  },
  {
   "cell_type": "code",
   "metadata": {
    "id": "tiglFXjuLqbZ",
    "colab": {
     "base_uri": "https://localhost:8080/",
     "height": 206
    },
    "outputId": "ca05f575-3991-4677-d653-dea4f727d5de"
   },
   "source": [
    "training_points.head()"
   ],
   "execution_count": null,
   "outputs": [
    {
     "output_type": "execute_result",
     "data": {
      "text/plain": [
       "   Спальни  Ванные  Жилая площадь  Общая площадь  Количество этажей  \\\n",
       "0        5    3.50           3490          21780                2.0   \n",
       "1        4    1.75           2360           7620                1.0   \n",
       "2        6    2.75           2040           8560                1.0   \n",
       "3        3    1.75           1940           8376                1.0   \n",
       "4        3    2.75           3450           5350                1.5   \n",
       "\n",
       "   Вид на воду  Просмотрены ранее  Состояние  Оценка риелтора  \\\n",
       "0            0                  0          3                8   \n",
       "1            0                  0          4                7   \n",
       "2            0                  2          4                7   \n",
       "3            0                  0          4                8   \n",
       "4            0                  3          4                9   \n",
       "\n",
       "   Площадь без подвала  Площадь подвала  Год постройки  Год реновации  \\\n",
       "0                 3490                0           1996              0   \n",
       "1                 1180             1180           1955              0   \n",
       "2                 1100              940           1961              0   \n",
       "3                 1290              650           1963              0   \n",
       "4                 2590              860           1925              0   \n",
       "\n",
       "    Широта  Долгота  \n",
       "0  47.6707 -122.144  \n",
       "1  47.5278 -122.345  \n",
       "2  47.6160 -122.115  \n",
       "3  47.5586 -122.173  \n",
       "4  47.6389 -122.407  "
      ],
      "text/html": [
       "\n",
       "  <div id=\"df-79a18a4a-7424-46ea-b71d-2d34abfe8068\">\n",
       "    <div class=\"colab-df-container\">\n",
       "      <div>\n",
       "<style scoped>\n",
       "    .dataframe tbody tr th:only-of-type {\n",
       "        vertical-align: middle;\n",
       "    }\n",
       "\n",
       "    .dataframe tbody tr th {\n",
       "        vertical-align: top;\n",
       "    }\n",
       "\n",
       "    .dataframe thead th {\n",
       "        text-align: right;\n",
       "    }\n",
       "</style>\n",
       "<table border=\"1\" class=\"dataframe\">\n",
       "  <thead>\n",
       "    <tr style=\"text-align: right;\">\n",
       "      <th></th>\n",
       "      <th>Спальни</th>\n",
       "      <th>Ванные</th>\n",
       "      <th>Жилая площадь</th>\n",
       "      <th>Общая площадь</th>\n",
       "      <th>Количество этажей</th>\n",
       "      <th>Вид на воду</th>\n",
       "      <th>Просмотрены ранее</th>\n",
       "      <th>Состояние</th>\n",
       "      <th>Оценка риелтора</th>\n",
       "      <th>Площадь без подвала</th>\n",
       "      <th>Площадь подвала</th>\n",
       "      <th>Год постройки</th>\n",
       "      <th>Год реновации</th>\n",
       "      <th>Широта</th>\n",
       "      <th>Долгота</th>\n",
       "    </tr>\n",
       "  </thead>\n",
       "  <tbody>\n",
       "    <tr>\n",
       "      <th>0</th>\n",
       "      <td>5</td>\n",
       "      <td>3.50</td>\n",
       "      <td>3490</td>\n",
       "      <td>21780</td>\n",
       "      <td>2.0</td>\n",
       "      <td>0</td>\n",
       "      <td>0</td>\n",
       "      <td>3</td>\n",
       "      <td>8</td>\n",
       "      <td>3490</td>\n",
       "      <td>0</td>\n",
       "      <td>1996</td>\n",
       "      <td>0</td>\n",
       "      <td>47.6707</td>\n",
       "      <td>-122.144</td>\n",
       "    </tr>\n",
       "    <tr>\n",
       "      <th>1</th>\n",
       "      <td>4</td>\n",
       "      <td>1.75</td>\n",
       "      <td>2360</td>\n",
       "      <td>7620</td>\n",
       "      <td>1.0</td>\n",
       "      <td>0</td>\n",
       "      <td>0</td>\n",
       "      <td>4</td>\n",
       "      <td>7</td>\n",
       "      <td>1180</td>\n",
       "      <td>1180</td>\n",
       "      <td>1955</td>\n",
       "      <td>0</td>\n",
       "      <td>47.5278</td>\n",
       "      <td>-122.345</td>\n",
       "    </tr>\n",
       "    <tr>\n",
       "      <th>2</th>\n",
       "      <td>6</td>\n",
       "      <td>2.75</td>\n",
       "      <td>2040</td>\n",
       "      <td>8560</td>\n",
       "      <td>1.0</td>\n",
       "      <td>0</td>\n",
       "      <td>2</td>\n",
       "      <td>4</td>\n",
       "      <td>7</td>\n",
       "      <td>1100</td>\n",
       "      <td>940</td>\n",
       "      <td>1961</td>\n",
       "      <td>0</td>\n",
       "      <td>47.6160</td>\n",
       "      <td>-122.115</td>\n",
       "    </tr>\n",
       "    <tr>\n",
       "      <th>3</th>\n",
       "      <td>3</td>\n",
       "      <td>1.75</td>\n",
       "      <td>1940</td>\n",
       "      <td>8376</td>\n",
       "      <td>1.0</td>\n",
       "      <td>0</td>\n",
       "      <td>0</td>\n",
       "      <td>4</td>\n",
       "      <td>8</td>\n",
       "      <td>1290</td>\n",
       "      <td>650</td>\n",
       "      <td>1963</td>\n",
       "      <td>0</td>\n",
       "      <td>47.5586</td>\n",
       "      <td>-122.173</td>\n",
       "    </tr>\n",
       "    <tr>\n",
       "      <th>4</th>\n",
       "      <td>3</td>\n",
       "      <td>2.75</td>\n",
       "      <td>3450</td>\n",
       "      <td>5350</td>\n",
       "      <td>1.5</td>\n",
       "      <td>0</td>\n",
       "      <td>3</td>\n",
       "      <td>4</td>\n",
       "      <td>9</td>\n",
       "      <td>2590</td>\n",
       "      <td>860</td>\n",
       "      <td>1925</td>\n",
       "      <td>0</td>\n",
       "      <td>47.6389</td>\n",
       "      <td>-122.407</td>\n",
       "    </tr>\n",
       "  </tbody>\n",
       "</table>\n",
       "</div>\n",
       "      <button class=\"colab-df-convert\" onclick=\"convertToInteractive('df-79a18a4a-7424-46ea-b71d-2d34abfe8068')\"\n",
       "              title=\"Convert this dataframe to an interactive table.\"\n",
       "              style=\"display:none;\">\n",
       "        \n",
       "  <svg xmlns=\"http://www.w3.org/2000/svg\" height=\"24px\"viewBox=\"0 0 24 24\"\n",
       "       width=\"24px\">\n",
       "    <path d=\"M0 0h24v24H0V0z\" fill=\"none\"/>\n",
       "    <path d=\"M18.56 5.44l.94 2.06.94-2.06 2.06-.94-2.06-.94-.94-2.06-.94 2.06-2.06.94zm-11 1L8.5 8.5l.94-2.06 2.06-.94-2.06-.94L8.5 2.5l-.94 2.06-2.06.94zm10 10l.94 2.06.94-2.06 2.06-.94-2.06-.94-.94-2.06-.94 2.06-2.06.94z\"/><path d=\"M17.41 7.96l-1.37-1.37c-.4-.4-.92-.59-1.43-.59-.52 0-1.04.2-1.43.59L10.3 9.45l-7.72 7.72c-.78.78-.78 2.05 0 2.83L4 21.41c.39.39.9.59 1.41.59.51 0 1.02-.2 1.41-.59l7.78-7.78 2.81-2.81c.8-.78.8-2.07 0-2.86zM5.41 20L4 18.59l7.72-7.72 1.47 1.35L5.41 20z\"/>\n",
       "  </svg>\n",
       "      </button>\n",
       "      \n",
       "  <style>\n",
       "    .colab-df-container {\n",
       "      display:flex;\n",
       "      flex-wrap:wrap;\n",
       "      gap: 12px;\n",
       "    }\n",
       "\n",
       "    .colab-df-convert {\n",
       "      background-color: #E8F0FE;\n",
       "      border: none;\n",
       "      border-radius: 50%;\n",
       "      cursor: pointer;\n",
       "      display: none;\n",
       "      fill: #1967D2;\n",
       "      height: 32px;\n",
       "      padding: 0 0 0 0;\n",
       "      width: 32px;\n",
       "    }\n",
       "\n",
       "    .colab-df-convert:hover {\n",
       "      background-color: #E2EBFA;\n",
       "      box-shadow: 0px 1px 2px rgba(60, 64, 67, 0.3), 0px 1px 3px 1px rgba(60, 64, 67, 0.15);\n",
       "      fill: #174EA6;\n",
       "    }\n",
       "\n",
       "    [theme=dark] .colab-df-convert {\n",
       "      background-color: #3B4455;\n",
       "      fill: #D2E3FC;\n",
       "    }\n",
       "\n",
       "    [theme=dark] .colab-df-convert:hover {\n",
       "      background-color: #434B5C;\n",
       "      box-shadow: 0px 1px 3px 1px rgba(0, 0, 0, 0.15);\n",
       "      filter: drop-shadow(0px 1px 2px rgba(0, 0, 0, 0.3));\n",
       "      fill: #FFFFFF;\n",
       "    }\n",
       "  </style>\n",
       "\n",
       "      <script>\n",
       "        const buttonEl =\n",
       "          document.querySelector('#df-79a18a4a-7424-46ea-b71d-2d34abfe8068 button.colab-df-convert');\n",
       "        buttonEl.style.display =\n",
       "          google.colab.kernel.accessAllowed ? 'block' : 'none';\n",
       "\n",
       "        async function convertToInteractive(key) {\n",
       "          const element = document.querySelector('#df-79a18a4a-7424-46ea-b71d-2d34abfe8068');\n",
       "          const dataTable =\n",
       "            await google.colab.kernel.invokeFunction('convertToInteractive',\n",
       "                                                     [key], {});\n",
       "          if (!dataTable) return;\n",
       "\n",
       "          const docLinkHtml = 'Like what you see? Visit the ' +\n",
       "            '<a target=\"_blank\" href=https://colab.research.google.com/notebooks/data_table.ipynb>data table notebook</a>'\n",
       "            + ' to learn more about interactive tables.';\n",
       "          element.innerHTML = '';\n",
       "          dataTable['output_type'] = 'display_data';\n",
       "          await google.colab.output.renderOutput(dataTable, element);\n",
       "          const docLink = document.createElement('div');\n",
       "          docLink.innerHTML = docLinkHtml;\n",
       "          element.appendChild(docLink);\n",
       "        }\n",
       "      </script>\n",
       "    </div>\n",
       "  </div>\n",
       "  "
      ]
     },
     "metadata": {},
     "execution_count": 332
    }
   ]
  },
  {
   "cell_type": "code",
   "metadata": {
    "id": "DAfReQdsLqbb",
    "colab": {
     "base_uri": "https://localhost:8080/"
    },
    "outputId": "a6e8f11c-6322-4832-b1d5-697f369ca7d2"
   },
   "source": [
    "training_points.shape"
   ],
   "execution_count": null,
   "outputs": [
    {
     "output_type": "execute_result",
     "data": {
      "text/plain": [
       "(15129, 15)"
      ]
     },
     "metadata": {},
     "execution_count": 333
    }
   ]
  },
  {
   "cell_type": "markdown",
   "metadata": {
    "id": "kx5oc0ScLqbf"
   },
   "source": [
    "Видно, что столбца действительно нет, а количество строк не изменилось. Данные в 5 первых строках такие же, как были ранее."
   ]
  },
  {
   "cell_type": "markdown",
   "metadata": {
    "id": "pJyxgxErLqbg"
   },
   "source": [
    "##   3. Обучить модель на обучающей выборке"
   ]
  },
  {
   "cell_type": "markdown",
   "metadata": {
    "id": "0FvCNInJLqbg"
   },
   "source": [
    "**Шаг 3.1. Выбираем метод, который будем использовать**\n",
    "\n",
    "Проще всего начать с простых методов. \n",
    "\n",
    "На выбор метода для построения модели влияет набор признаков, размер выборки, интуиция про то, какая связь между входными переменными и целевой. Но часто решение принимается исходя из того, какая модель сработала лучше."
   ]
  },
  {
   "cell_type": "markdown",
   "metadata": {
    "id": "m84QeANALqbi"
   },
   "source": [
    "Для корректной работы с методами построения моделей в python требуется загрузить специальную библиотеку\n",
    "**sklearn**, программную библиотеку на языке python для для машинного обучения и анализа данных.\n",
    "\n",
    "Импортируем модуль из этой библиотеки:\n",
    " * *linear_model* - тут находятся все линейные модели"
   ]
  },
  {
   "cell_type": "code",
   "metadata": {
    "id": "f1mxLNeZLqbj"
   },
   "source": [
    "from sklearn import linear_model"
   ],
   "execution_count": null,
   "outputs": []
  },
  {
   "cell_type": "markdown",
   "metadata": {
    "id": "Zm15N2pvLqbq"
   },
   "source": [
    "Чтобы создать модель линейной регресии, пишем имя модуля 'linear_model', затем точку, затем название модели."
   ]
  },
  {
   "cell_type": "code",
   "metadata": {
    "id": "aJdy5rsFLqbt"
   },
   "source": [
    "linear_regression_model = linear_model.LinearRegression() # создаем модель"
   ],
   "execution_count": null,
   "outputs": []
  },
  {
   "cell_type": "code",
   "metadata": {
    "id": "nYk4bedkLqbw",
    "colab": {
     "base_uri": "https://localhost:8080/"
    },
    "outputId": "96203d2a-d9a8-4820-c590-530acc7702e7"
   },
   "source": [
    "linear_regression_model # смотрим, что получилось"
   ],
   "execution_count": null,
   "outputs": [
    {
     "output_type": "execute_result",
     "data": {
      "text/plain": [
       "LinearRegression()"
      ]
     },
     "metadata": {},
     "execution_count": 336
    }
   ]
  },
  {
   "cell_type": "markdown",
   "metadata": {
    "id": "TM7UfC6uLqb2"
   },
   "source": [
    "**Шаг 3.2. Обучить модель**\n",
    "\n",
    "Теперь, когда мы создали прототип модели, можем её обучить на обучающей выборке. \n",
    "\n",
    "Для этого вызываем метод **fit()** и передаем ему на вход два аргумента: \n",
    "таблицу входных признаков и столбец значений целевой переменной - (training_points, training_values)"
   ]
  },
  {
   "cell_type": "code",
   "metadata": {
    "id": "zlMSe5KOLqb3",
    "colab": {
     "base_uri": "https://localhost:8080/"
    },
    "outputId": "6e3a4403-fcfb-47c1-e7c9-329f66b33c16"
   },
   "source": [
    "linear_regression_model.fit(training_points, training_values)"
   ],
   "execution_count": null,
   "outputs": [
    {
     "output_type": "execute_result",
     "data": {
      "text/plain": [
       "LinearRegression()"
      ]
     },
     "metadata": {},
     "execution_count": 337
    }
   ]
  },
  {
   "cell_type": "markdown",
   "metadata": {
    "id": "s_MADgOMhxKd"
   },
   "source": [
    "## Задание 3.5\n",
    "\n",
    "Реализуйте настройку параметров модели не с помощью встроенной функции, а с помощью своей реализации.\n",
    "\n",
    "Настроить параметры нужно либо с помощью **стохастического градиентного спуска** либо с помощью **mini-batch градиентного спуска**. \n",
    "Нужно использовать регуляризацию **L1, L2 или Elastic Net**. "
   ]
  },
  {
   "cell_type": "code",
   "source": [
    "import numpy as np\n",
    "from sklearn.preprocessing import StandardScaler\n",
    "from sklearn.metrics import mean_squared_error\n",
    "from sklearn.metrics import mean_absolute_error"
   ],
   "metadata": {
    "id": "ajy6rQGispHR"
   },
   "execution_count": null,
   "outputs": []
  },
  {
   "cell_type": "code",
   "source": [
    "def fit(x, y):\n",
    "  n_iterations = 100\n",
    "  minibatch_size = 20\n",
    "  l1 = 2\n",
    "  alpha = 0.01\n",
    "  size = x_train.shape[0]\n",
    "  x_b = np.c_[x, np.ones((x_train.shape[0], 1))]\n",
    "  theta = np.random.randn(16, 1)\n",
    "\n",
    "  for epoch in range(n_iterations):\n",
    "      shuffled_indices = np.random.permutation(size)\n",
    "      x_b_shuffled = x_b[shuffled_indices]\n",
    "      y_shuffled = y[shuffled_indices]\n",
    "\n",
    "      for i in range(0, size, minibatch_size):\n",
    "          xi = x_b_shuffled[i:i+minibatch_size]\n",
    "          yi = y_shuffled[i:i+minibatch_size]\n",
    "          gradients = 1 / minibatch_size * xi.T.dot(xi.dot(theta) - yi)\n",
    "          theta = theta - alpha * gradients + l1 * np.sign(theta)\n",
    "\n",
    "  return theta[:-1], theta[-1]"
   ],
   "metadata": {
    "id": "Q8ty56sCsnQX"
   },
   "execution_count": null,
   "outputs": []
  },
  {
   "cell_type": "code",
   "source": [
    "def predict(x_test, w, b):\n",
    "  return x_test.dot(w) + b"
   ],
   "metadata": {
    "id": "P8sVRaXptZke"
   },
   "execution_count": null,
   "outputs": []
  },
  {
   "cell_type": "markdown",
   "metadata": {
    "id": "y8BB5t5DLqb8"
   },
   "source": [
    "# 4. Загрузить и предобработать данные для тестирования"
   ]
  },
  {
   "cell_type": "markdown",
   "metadata": {
    "id": "V70UJoRnLqb9"
   },
   "source": [
    "**Шаг 4.1. Загрузим и проанализируем тестовые данные.**\n",
    "\n",
    "Так как данные в формате xlsx (Excel), мы будем использовать специальную функцию\n",
    "из библиотеки pandas для загрузки таких данных **read_excel**.\n",
    "\n",
    "В функции передаем один атрибут: название файла, в котором находится таблица с данными."
   ]
  },
  {
   "cell_type": "code",
   "metadata": {
    "id": "G2QC-fcBLqb9"
   },
   "source": [
    "test_data = pd.read_excel('predict_house_price_test_data.xlsx')"
   ],
   "execution_count": null,
   "outputs": []
  },
  {
   "cell_type": "markdown",
   "metadata": {
    "id": "D5c96FglLqcA"
   },
   "source": [
    "*Что важно посмотреть, после того, как мы загрузили данные?*\n",
    "\n",
    "- проверить, что данные действительно загрузились\n",
    "- посмотреть на данные, чтобы удостовериться, что они правильные: колонки имеют те же названия, что и в таблице и т.д.\n",
    "\n",
    "Для того чтобы это сделать, нужно вызвать от переменной *test_data* метод **head()**, который выводит первые 5 строк таблицы. \n",
    "\n",
    "Для вызова метода объекта необходимо сначала написать *имя объекта*, затем поставить *точку*, затем уже написать *название метода*. Обратите внимание, что в конце обязательно ставить скобочки, потому что метод - это функция и в ней есть аргументы, просто в данном случае мы их не передаем, поэтому оставляем поле пустым"
   ]
  },
  {
   "cell_type": "code",
   "metadata": {
    "id": "aWplqmHwLqcC",
    "colab": {
     "base_uri": "https://localhost:8080/",
     "height": 206
    },
    "outputId": "aa9b3c3e-9201-4061-bac7-95e4308ca047"
   },
   "source": [
    "test_data.head()"
   ],
   "execution_count": null,
   "outputs": [
    {
     "output_type": "execute_result",
     "data": {
      "text/plain": [
       "   Целевая.Цена  Спальни  Ванные  Жилая площадь  Общая площадь  \\\n",
       "0        260000        3    1.00           1300          10139   \n",
       "1        734500        4    2.75           3280           6845   \n",
       "2        325000        1    1.00           1220          12426   \n",
       "3       1990000        3    2.50           2880          13500   \n",
       "4        315000        3    2.00           1300           3731   \n",
       "\n",
       "   Количество этажей  Вид на воду  Просмотрены ранее  Состояние  \\\n",
       "0                1.0            0                  0          3   \n",
       "1                2.0            0                  0          3   \n",
       "2                1.0            0                  4          4   \n",
       "3                1.0            0                  4          5   \n",
       "4                1.0            0                  0          3   \n",
       "\n",
       "   Оценка риелтора  Площадь без подвала  Площадь подвала  Год постройки  \\\n",
       "0                7                 1300                0           1962   \n",
       "1               10                 3280                0           2003   \n",
       "2                6                 1220                0           1946   \n",
       "3                8                 1520             1360           1950   \n",
       "4                7                  900              400           1993   \n",
       "\n",
       "   Год реновации   Широта  Долгота  \n",
       "0           2007  47.3427 -122.087  \n",
       "1              0  47.7042 -122.107  \n",
       "2              0  47.4047 -122.331  \n",
       "3              0  47.6281 -122.216  \n",
       "4              0  47.5374 -122.270  "
      ],
      "text/html": [
       "\n",
       "  <div id=\"df-0990baca-dbde-4445-ae28-c18a4bda7d32\">\n",
       "    <div class=\"colab-df-container\">\n",
       "      <div>\n",
       "<style scoped>\n",
       "    .dataframe tbody tr th:only-of-type {\n",
       "        vertical-align: middle;\n",
       "    }\n",
       "\n",
       "    .dataframe tbody tr th {\n",
       "        vertical-align: top;\n",
       "    }\n",
       "\n",
       "    .dataframe thead th {\n",
       "        text-align: right;\n",
       "    }\n",
       "</style>\n",
       "<table border=\"1\" class=\"dataframe\">\n",
       "  <thead>\n",
       "    <tr style=\"text-align: right;\">\n",
       "      <th></th>\n",
       "      <th>Целевая.Цена</th>\n",
       "      <th>Спальни</th>\n",
       "      <th>Ванные</th>\n",
       "      <th>Жилая площадь</th>\n",
       "      <th>Общая площадь</th>\n",
       "      <th>Количество этажей</th>\n",
       "      <th>Вид на воду</th>\n",
       "      <th>Просмотрены ранее</th>\n",
       "      <th>Состояние</th>\n",
       "      <th>Оценка риелтора</th>\n",
       "      <th>Площадь без подвала</th>\n",
       "      <th>Площадь подвала</th>\n",
       "      <th>Год постройки</th>\n",
       "      <th>Год реновации</th>\n",
       "      <th>Широта</th>\n",
       "      <th>Долгота</th>\n",
       "    </tr>\n",
       "  </thead>\n",
       "  <tbody>\n",
       "    <tr>\n",
       "      <th>0</th>\n",
       "      <td>260000</td>\n",
       "      <td>3</td>\n",
       "      <td>1.00</td>\n",
       "      <td>1300</td>\n",
       "      <td>10139</td>\n",
       "      <td>1.0</td>\n",
       "      <td>0</td>\n",
       "      <td>0</td>\n",
       "      <td>3</td>\n",
       "      <td>7</td>\n",
       "      <td>1300</td>\n",
       "      <td>0</td>\n",
       "      <td>1962</td>\n",
       "      <td>2007</td>\n",
       "      <td>47.3427</td>\n",
       "      <td>-122.087</td>\n",
       "    </tr>\n",
       "    <tr>\n",
       "      <th>1</th>\n",
       "      <td>734500</td>\n",
       "      <td>4</td>\n",
       "      <td>2.75</td>\n",
       "      <td>3280</td>\n",
       "      <td>6845</td>\n",
       "      <td>2.0</td>\n",
       "      <td>0</td>\n",
       "      <td>0</td>\n",
       "      <td>3</td>\n",
       "      <td>10</td>\n",
       "      <td>3280</td>\n",
       "      <td>0</td>\n",
       "      <td>2003</td>\n",
       "      <td>0</td>\n",
       "      <td>47.7042</td>\n",
       "      <td>-122.107</td>\n",
       "    </tr>\n",
       "    <tr>\n",
       "      <th>2</th>\n",
       "      <td>325000</td>\n",
       "      <td>1</td>\n",
       "      <td>1.00</td>\n",
       "      <td>1220</td>\n",
       "      <td>12426</td>\n",
       "      <td>1.0</td>\n",
       "      <td>0</td>\n",
       "      <td>4</td>\n",
       "      <td>4</td>\n",
       "      <td>6</td>\n",
       "      <td>1220</td>\n",
       "      <td>0</td>\n",
       "      <td>1946</td>\n",
       "      <td>0</td>\n",
       "      <td>47.4047</td>\n",
       "      <td>-122.331</td>\n",
       "    </tr>\n",
       "    <tr>\n",
       "      <th>3</th>\n",
       "      <td>1990000</td>\n",
       "      <td>3</td>\n",
       "      <td>2.50</td>\n",
       "      <td>2880</td>\n",
       "      <td>13500</td>\n",
       "      <td>1.0</td>\n",
       "      <td>0</td>\n",
       "      <td>4</td>\n",
       "      <td>5</td>\n",
       "      <td>8</td>\n",
       "      <td>1520</td>\n",
       "      <td>1360</td>\n",
       "      <td>1950</td>\n",
       "      <td>0</td>\n",
       "      <td>47.6281</td>\n",
       "      <td>-122.216</td>\n",
       "    </tr>\n",
       "    <tr>\n",
       "      <th>4</th>\n",
       "      <td>315000</td>\n",
       "      <td>3</td>\n",
       "      <td>2.00</td>\n",
       "      <td>1300</td>\n",
       "      <td>3731</td>\n",
       "      <td>1.0</td>\n",
       "      <td>0</td>\n",
       "      <td>0</td>\n",
       "      <td>3</td>\n",
       "      <td>7</td>\n",
       "      <td>900</td>\n",
       "      <td>400</td>\n",
       "      <td>1993</td>\n",
       "      <td>0</td>\n",
       "      <td>47.5374</td>\n",
       "      <td>-122.270</td>\n",
       "    </tr>\n",
       "  </tbody>\n",
       "</table>\n",
       "</div>\n",
       "      <button class=\"colab-df-convert\" onclick=\"convertToInteractive('df-0990baca-dbde-4445-ae28-c18a4bda7d32')\"\n",
       "              title=\"Convert this dataframe to an interactive table.\"\n",
       "              style=\"display:none;\">\n",
       "        \n",
       "  <svg xmlns=\"http://www.w3.org/2000/svg\" height=\"24px\"viewBox=\"0 0 24 24\"\n",
       "       width=\"24px\">\n",
       "    <path d=\"M0 0h24v24H0V0z\" fill=\"none\"/>\n",
       "    <path d=\"M18.56 5.44l.94 2.06.94-2.06 2.06-.94-2.06-.94-.94-2.06-.94 2.06-2.06.94zm-11 1L8.5 8.5l.94-2.06 2.06-.94-2.06-.94L8.5 2.5l-.94 2.06-2.06.94zm10 10l.94 2.06.94-2.06 2.06-.94-2.06-.94-.94-2.06-.94 2.06-2.06.94z\"/><path d=\"M17.41 7.96l-1.37-1.37c-.4-.4-.92-.59-1.43-.59-.52 0-1.04.2-1.43.59L10.3 9.45l-7.72 7.72c-.78.78-.78 2.05 0 2.83L4 21.41c.39.39.9.59 1.41.59.51 0 1.02-.2 1.41-.59l7.78-7.78 2.81-2.81c.8-.78.8-2.07 0-2.86zM5.41 20L4 18.59l7.72-7.72 1.47 1.35L5.41 20z\"/>\n",
       "  </svg>\n",
       "      </button>\n",
       "      \n",
       "  <style>\n",
       "    .colab-df-container {\n",
       "      display:flex;\n",
       "      flex-wrap:wrap;\n",
       "      gap: 12px;\n",
       "    }\n",
       "\n",
       "    .colab-df-convert {\n",
       "      background-color: #E8F0FE;\n",
       "      border: none;\n",
       "      border-radius: 50%;\n",
       "      cursor: pointer;\n",
       "      display: none;\n",
       "      fill: #1967D2;\n",
       "      height: 32px;\n",
       "      padding: 0 0 0 0;\n",
       "      width: 32px;\n",
       "    }\n",
       "\n",
       "    .colab-df-convert:hover {\n",
       "      background-color: #E2EBFA;\n",
       "      box-shadow: 0px 1px 2px rgba(60, 64, 67, 0.3), 0px 1px 3px 1px rgba(60, 64, 67, 0.15);\n",
       "      fill: #174EA6;\n",
       "    }\n",
       "\n",
       "    [theme=dark] .colab-df-convert {\n",
       "      background-color: #3B4455;\n",
       "      fill: #D2E3FC;\n",
       "    }\n",
       "\n",
       "    [theme=dark] .colab-df-convert:hover {\n",
       "      background-color: #434B5C;\n",
       "      box-shadow: 0px 1px 3px 1px rgba(0, 0, 0, 0.15);\n",
       "      filter: drop-shadow(0px 1px 2px rgba(0, 0, 0, 0.3));\n",
       "      fill: #FFFFFF;\n",
       "    }\n",
       "  </style>\n",
       "\n",
       "      <script>\n",
       "        const buttonEl =\n",
       "          document.querySelector('#df-0990baca-dbde-4445-ae28-c18a4bda7d32 button.colab-df-convert');\n",
       "        buttonEl.style.display =\n",
       "          google.colab.kernel.accessAllowed ? 'block' : 'none';\n",
       "\n",
       "        async function convertToInteractive(key) {\n",
       "          const element = document.querySelector('#df-0990baca-dbde-4445-ae28-c18a4bda7d32');\n",
       "          const dataTable =\n",
       "            await google.colab.kernel.invokeFunction('convertToInteractive',\n",
       "                                                     [key], {});\n",
       "          if (!dataTable) return;\n",
       "\n",
       "          const docLinkHtml = 'Like what you see? Visit the ' +\n",
       "            '<a target=\"_blank\" href=https://colab.research.google.com/notebooks/data_table.ipynb>data table notebook</a>'\n",
       "            + ' to learn more about interactive tables.';\n",
       "          element.innerHTML = '';\n",
       "          dataTable['output_type'] = 'display_data';\n",
       "          await google.colab.output.renderOutput(dataTable, element);\n",
       "          const docLink = document.createElement('div');\n",
       "          docLink.innerHTML = docLinkHtml;\n",
       "          element.appendChild(docLink);\n",
       "        }\n",
       "      </script>\n",
       "    </div>\n",
       "  </div>\n",
       "  "
      ]
     },
     "metadata": {},
     "execution_count": 342
    }
   ]
  },
  {
   "cell_type": "markdown",
   "metadata": {
    "id": "rNOKBtaVLqcF"
   },
   "source": [
    "Посмотрим на размеры загруженной таблицы, так как мы видели только 5 строк\n",
    "\n",
    "Для этого вызываем поле **shape** у нашей переменной *test_data*. Поле вызывается также как метод, но в конце скобки не ставятся (!), так как для поля не предусмотрена передача аргументов.  "
   ]
  },
  {
   "cell_type": "code",
   "metadata": {
    "id": "FHzoBYPKLqcG",
    "colab": {
     "base_uri": "https://localhost:8080/"
    },
    "outputId": "c47ce780-748f-40e8-8ccc-bde184d78cb6"
   },
   "source": [
    "test_data.shape"
   ],
   "execution_count": null,
   "outputs": [
    {
     "output_type": "execute_result",
     "data": {
      "text/plain": [
       "(6484, 16)"
      ]
     },
     "metadata": {},
     "execution_count": 343
    }
   ]
  },
  {
   "cell_type": "markdown",
   "metadata": {
    "id": "Sic-zsmxLqcI"
   },
   "source": [
    "*Что означает первое и второе число?* \n",
    "Таблица содержит 6484 строк (объектов) и 16 столбцов (признаков), включая выходной (целевой) признак. Также как в учебных данных до обучения.\n",
    "\n",
    "Таблицу проверили, теперь можно приступать к обработке данных\n",
    "Действуем аналогично тому, как делали с данными для обучения"
   ]
  },
  {
   "cell_type": "markdown",
   "metadata": {
    "id": "cirwOcb7LqcJ"
   },
   "source": [
    "Проверим, есть ли в данных пропуски. Для того чтобы это сделать, нужно обратиться вызвать у переменной *test_data* метод **info()**."
   ]
  },
  {
   "cell_type": "code",
   "metadata": {
    "id": "-TMC8NvMLqcJ",
    "colab": {
     "base_uri": "https://localhost:8080/"
    },
    "outputId": "578a6991-0907-4bea-e78c-45f85932bbb7"
   },
   "source": [
    "test_data.info()"
   ],
   "execution_count": null,
   "outputs": [
    {
     "output_type": "stream",
     "name": "stdout",
     "text": [
      "<class 'pandas.core.frame.DataFrame'>\n",
      "RangeIndex: 6484 entries, 0 to 6483\n",
      "Data columns (total 16 columns):\n",
      " #   Column               Non-Null Count  Dtype  \n",
      "---  ------               --------------  -----  \n",
      " 0   Целевая.Цена         6484 non-null   int64  \n",
      " 1   Спальни              6484 non-null   int64  \n",
      " 2   Ванные               6484 non-null   float64\n",
      " 3   Жилая площадь        6484 non-null   int64  \n",
      " 4   Общая площадь        6484 non-null   int64  \n",
      " 5   Количество этажей    6484 non-null   float64\n",
      " 6   Вид на воду          6484 non-null   int64  \n",
      " 7   Просмотрены ранее    6484 non-null   int64  \n",
      " 8   Состояние            6484 non-null   int64  \n",
      " 9   Оценка риелтора      6484 non-null   int64  \n",
      " 10  Площадь без подвала  6484 non-null   int64  \n",
      " 11  Площадь подвала      6484 non-null   int64  \n",
      " 12  Год постройки        6484 non-null   int64  \n",
      " 13  Год реновации        6484 non-null   int64  \n",
      " 14  Широта               6484 non-null   float64\n",
      " 15  Долгота              6484 non-null   float64\n",
      "dtypes: float64(4), int64(12)\n",
      "memory usage: 810.6 KB\n"
     ]
    }
   ]
  },
  {
   "cell_type": "markdown",
   "metadata": {
    "id": "AN3MKGbcLqcL"
   },
   "source": [
    "Цифры в каждой строчке обозначают количество заполненных (*non-null*) значений. Так как эти цифры в каждой строчке совпадают с числом строк (6484), то в данных нет пропусков."
   ]
  },
  {
   "cell_type": "markdown",
   "metadata": {
    "id": "2cUtLvm8LqcM"
   },
   "source": [
    "**Шаг 4.2. Отделяем целевую переменную**"
   ]
  },
  {
   "cell_type": "markdown",
   "metadata": {
    "id": "s2QuCPmzLqcM"
   },
   "source": [
    "Нам нужно выделить в отдельную переменную *test_values* столбец из нашей таблицы, который соответствует определенной выше целевой переменной. Для этого мы у таблицы *test_data* в квадратных скобках указываем имя нужного столбца. В нашем случае это имя записано в переменной *target_variable_name*. "
   ]
  },
  {
   "cell_type": "code",
   "metadata": {
    "id": "-mJZ2H7QLqcN"
   },
   "source": [
    "test_values = test_data[target_variable_name]"
   ],
   "execution_count": null,
   "outputs": []
  },
  {
   "cell_type": "markdown",
   "metadata": {
    "id": "65B_7B2YLqcP"
   },
   "source": [
    "Отделим входные переменные от выходной (целевой), чтобы можно было построить модель предсказания целевой переменной по входным. \n",
    "Для это нужно у переменной *test_data* вызвать метод **drop()**. Результат мы записываем в новую переменную *test_points*. После выполнения запроса *test_points* будет содержать исходную таблицу без целевого столбца. \n",
    "\n",
    "Обратите внимание, что в данном случае мы передаем два аргумента:\n",
    "    1. target_variable_name - название столбца цены, который мы ранее записали в эту переменную и теперь хотим удалить из training_data\n",
    "    2. axis=1 - означает, что мы удаляем столбец, а в случае axis=0 - означает, что мы удаляем строку"
   ]
  },
  {
   "cell_type": "code",
   "metadata": {
    "id": "-VIMWvPLLqcQ"
   },
   "source": [
    "test_points = test_data.drop(target_variable_name, axis=1)"
   ],
   "execution_count": null,
   "outputs": []
  },
  {
   "cell_type": "markdown",
   "metadata": {
    "id": "y3Cwim1CLqcV"
   },
   "source": [
    "И проверяем результат записанный в test_points"
   ]
  },
  {
   "cell_type": "code",
   "metadata": {
    "id": "s20UtLqELqcV",
    "colab": {
     "base_uri": "https://localhost:8080/",
     "height": 206
    },
    "outputId": "646ecd30-dae8-4091-cb65-4ad548356f3f"
   },
   "source": [
    "test_points.head()"
   ],
   "execution_count": null,
   "outputs": [
    {
     "output_type": "execute_result",
     "data": {
      "text/plain": [
       "   Спальни  Ванные  Жилая площадь  Общая площадь  Количество этажей  \\\n",
       "0        3    1.00           1300          10139                1.0   \n",
       "1        4    2.75           3280           6845                2.0   \n",
       "2        1    1.00           1220          12426                1.0   \n",
       "3        3    2.50           2880          13500                1.0   \n",
       "4        3    2.00           1300           3731                1.0   \n",
       "\n",
       "   Вид на воду  Просмотрены ранее  Состояние  Оценка риелтора  \\\n",
       "0            0                  0          3                7   \n",
       "1            0                  0          3               10   \n",
       "2            0                  4          4                6   \n",
       "3            0                  4          5                8   \n",
       "4            0                  0          3                7   \n",
       "\n",
       "   Площадь без подвала  Площадь подвала  Год постройки  Год реновации  \\\n",
       "0                 1300                0           1962           2007   \n",
       "1                 3280                0           2003              0   \n",
       "2                 1220                0           1946              0   \n",
       "3                 1520             1360           1950              0   \n",
       "4                  900              400           1993              0   \n",
       "\n",
       "    Широта  Долгота  \n",
       "0  47.3427 -122.087  \n",
       "1  47.7042 -122.107  \n",
       "2  47.4047 -122.331  \n",
       "3  47.6281 -122.216  \n",
       "4  47.5374 -122.270  "
      ],
      "text/html": [
       "\n",
       "  <div id=\"df-9af090f0-9465-48df-9e7e-f05808a8e0a8\">\n",
       "    <div class=\"colab-df-container\">\n",
       "      <div>\n",
       "<style scoped>\n",
       "    .dataframe tbody tr th:only-of-type {\n",
       "        vertical-align: middle;\n",
       "    }\n",
       "\n",
       "    .dataframe tbody tr th {\n",
       "        vertical-align: top;\n",
       "    }\n",
       "\n",
       "    .dataframe thead th {\n",
       "        text-align: right;\n",
       "    }\n",
       "</style>\n",
       "<table border=\"1\" class=\"dataframe\">\n",
       "  <thead>\n",
       "    <tr style=\"text-align: right;\">\n",
       "      <th></th>\n",
       "      <th>Спальни</th>\n",
       "      <th>Ванные</th>\n",
       "      <th>Жилая площадь</th>\n",
       "      <th>Общая площадь</th>\n",
       "      <th>Количество этажей</th>\n",
       "      <th>Вид на воду</th>\n",
       "      <th>Просмотрены ранее</th>\n",
       "      <th>Состояние</th>\n",
       "      <th>Оценка риелтора</th>\n",
       "      <th>Площадь без подвала</th>\n",
       "      <th>Площадь подвала</th>\n",
       "      <th>Год постройки</th>\n",
       "      <th>Год реновации</th>\n",
       "      <th>Широта</th>\n",
       "      <th>Долгота</th>\n",
       "    </tr>\n",
       "  </thead>\n",
       "  <tbody>\n",
       "    <tr>\n",
       "      <th>0</th>\n",
       "      <td>3</td>\n",
       "      <td>1.00</td>\n",
       "      <td>1300</td>\n",
       "      <td>10139</td>\n",
       "      <td>1.0</td>\n",
       "      <td>0</td>\n",
       "      <td>0</td>\n",
       "      <td>3</td>\n",
       "      <td>7</td>\n",
       "      <td>1300</td>\n",
       "      <td>0</td>\n",
       "      <td>1962</td>\n",
       "      <td>2007</td>\n",
       "      <td>47.3427</td>\n",
       "      <td>-122.087</td>\n",
       "    </tr>\n",
       "    <tr>\n",
       "      <th>1</th>\n",
       "      <td>4</td>\n",
       "      <td>2.75</td>\n",
       "      <td>3280</td>\n",
       "      <td>6845</td>\n",
       "      <td>2.0</td>\n",
       "      <td>0</td>\n",
       "      <td>0</td>\n",
       "      <td>3</td>\n",
       "      <td>10</td>\n",
       "      <td>3280</td>\n",
       "      <td>0</td>\n",
       "      <td>2003</td>\n",
       "      <td>0</td>\n",
       "      <td>47.7042</td>\n",
       "      <td>-122.107</td>\n",
       "    </tr>\n",
       "    <tr>\n",
       "      <th>2</th>\n",
       "      <td>1</td>\n",
       "      <td>1.00</td>\n",
       "      <td>1220</td>\n",
       "      <td>12426</td>\n",
       "      <td>1.0</td>\n",
       "      <td>0</td>\n",
       "      <td>4</td>\n",
       "      <td>4</td>\n",
       "      <td>6</td>\n",
       "      <td>1220</td>\n",
       "      <td>0</td>\n",
       "      <td>1946</td>\n",
       "      <td>0</td>\n",
       "      <td>47.4047</td>\n",
       "      <td>-122.331</td>\n",
       "    </tr>\n",
       "    <tr>\n",
       "      <th>3</th>\n",
       "      <td>3</td>\n",
       "      <td>2.50</td>\n",
       "      <td>2880</td>\n",
       "      <td>13500</td>\n",
       "      <td>1.0</td>\n",
       "      <td>0</td>\n",
       "      <td>4</td>\n",
       "      <td>5</td>\n",
       "      <td>8</td>\n",
       "      <td>1520</td>\n",
       "      <td>1360</td>\n",
       "      <td>1950</td>\n",
       "      <td>0</td>\n",
       "      <td>47.6281</td>\n",
       "      <td>-122.216</td>\n",
       "    </tr>\n",
       "    <tr>\n",
       "      <th>4</th>\n",
       "      <td>3</td>\n",
       "      <td>2.00</td>\n",
       "      <td>1300</td>\n",
       "      <td>3731</td>\n",
       "      <td>1.0</td>\n",
       "      <td>0</td>\n",
       "      <td>0</td>\n",
       "      <td>3</td>\n",
       "      <td>7</td>\n",
       "      <td>900</td>\n",
       "      <td>400</td>\n",
       "      <td>1993</td>\n",
       "      <td>0</td>\n",
       "      <td>47.5374</td>\n",
       "      <td>-122.270</td>\n",
       "    </tr>\n",
       "  </tbody>\n",
       "</table>\n",
       "</div>\n",
       "      <button class=\"colab-df-convert\" onclick=\"convertToInteractive('df-9af090f0-9465-48df-9e7e-f05808a8e0a8')\"\n",
       "              title=\"Convert this dataframe to an interactive table.\"\n",
       "              style=\"display:none;\">\n",
       "        \n",
       "  <svg xmlns=\"http://www.w3.org/2000/svg\" height=\"24px\"viewBox=\"0 0 24 24\"\n",
       "       width=\"24px\">\n",
       "    <path d=\"M0 0h24v24H0V0z\" fill=\"none\"/>\n",
       "    <path d=\"M18.56 5.44l.94 2.06.94-2.06 2.06-.94-2.06-.94-.94-2.06-.94 2.06-2.06.94zm-11 1L8.5 8.5l.94-2.06 2.06-.94-2.06-.94L8.5 2.5l-.94 2.06-2.06.94zm10 10l.94 2.06.94-2.06 2.06-.94-2.06-.94-.94-2.06-.94 2.06-2.06.94z\"/><path d=\"M17.41 7.96l-1.37-1.37c-.4-.4-.92-.59-1.43-.59-.52 0-1.04.2-1.43.59L10.3 9.45l-7.72 7.72c-.78.78-.78 2.05 0 2.83L4 21.41c.39.39.9.59 1.41.59.51 0 1.02-.2 1.41-.59l7.78-7.78 2.81-2.81c.8-.78.8-2.07 0-2.86zM5.41 20L4 18.59l7.72-7.72 1.47 1.35L5.41 20z\"/>\n",
       "  </svg>\n",
       "      </button>\n",
       "      \n",
       "  <style>\n",
       "    .colab-df-container {\n",
       "      display:flex;\n",
       "      flex-wrap:wrap;\n",
       "      gap: 12px;\n",
       "    }\n",
       "\n",
       "    .colab-df-convert {\n",
       "      background-color: #E8F0FE;\n",
       "      border: none;\n",
       "      border-radius: 50%;\n",
       "      cursor: pointer;\n",
       "      display: none;\n",
       "      fill: #1967D2;\n",
       "      height: 32px;\n",
       "      padding: 0 0 0 0;\n",
       "      width: 32px;\n",
       "    }\n",
       "\n",
       "    .colab-df-convert:hover {\n",
       "      background-color: #E2EBFA;\n",
       "      box-shadow: 0px 1px 2px rgba(60, 64, 67, 0.3), 0px 1px 3px 1px rgba(60, 64, 67, 0.15);\n",
       "      fill: #174EA6;\n",
       "    }\n",
       "\n",
       "    [theme=dark] .colab-df-convert {\n",
       "      background-color: #3B4455;\n",
       "      fill: #D2E3FC;\n",
       "    }\n",
       "\n",
       "    [theme=dark] .colab-df-convert:hover {\n",
       "      background-color: #434B5C;\n",
       "      box-shadow: 0px 1px 3px 1px rgba(0, 0, 0, 0.15);\n",
       "      filter: drop-shadow(0px 1px 2px rgba(0, 0, 0, 0.3));\n",
       "      fill: #FFFFFF;\n",
       "    }\n",
       "  </style>\n",
       "\n",
       "      <script>\n",
       "        const buttonEl =\n",
       "          document.querySelector('#df-9af090f0-9465-48df-9e7e-f05808a8e0a8 button.colab-df-convert');\n",
       "        buttonEl.style.display =\n",
       "          google.colab.kernel.accessAllowed ? 'block' : 'none';\n",
       "\n",
       "        async function convertToInteractive(key) {\n",
       "          const element = document.querySelector('#df-9af090f0-9465-48df-9e7e-f05808a8e0a8');\n",
       "          const dataTable =\n",
       "            await google.colab.kernel.invokeFunction('convertToInteractive',\n",
       "                                                     [key], {});\n",
       "          if (!dataTable) return;\n",
       "\n",
       "          const docLinkHtml = 'Like what you see? Visit the ' +\n",
       "            '<a target=\"_blank\" href=https://colab.research.google.com/notebooks/data_table.ipynb>data table notebook</a>'\n",
       "            + ' to learn more about interactive tables.';\n",
       "          element.innerHTML = '';\n",
       "          dataTable['output_type'] = 'display_data';\n",
       "          await google.colab.output.renderOutput(dataTable, element);\n",
       "          const docLink = document.createElement('div');\n",
       "          docLink.innerHTML = docLinkHtml;\n",
       "          element.appendChild(docLink);\n",
       "        }\n",
       "      </script>\n",
       "    </div>\n",
       "  </div>\n",
       "  "
      ]
     },
     "metadata": {},
     "execution_count": 347
    }
   ]
  },
  {
   "cell_type": "code",
   "metadata": {
    "id": "ig4hw7enLqca",
    "colab": {
     "base_uri": "https://localhost:8080/"
    },
    "outputId": "ef43a320-6208-4ceb-e5c5-b1a9af2ec09d"
   },
   "source": [
    "test_points.shape"
   ],
   "execution_count": null,
   "outputs": [
    {
     "output_type": "execute_result",
     "data": {
      "text/plain": [
       "(6484, 15)"
      ]
     },
     "metadata": {},
     "execution_count": 348
    }
   ]
  },
  {
   "cell_type": "markdown",
   "metadata": {
    "id": "xvDMV5yoLqce"
   },
   "source": [
    "Видно, что количество столбцов уменьшилось на один. Данные в 5 первых строках такие же, как были ранее."
   ]
  },
  {
   "cell_type": "markdown",
   "metadata": {
    "id": "5QFgDcQXLqcf"
   },
   "source": [
    "# 5. Провалидировать модель на тестовой выборке"
   ]
  },
  {
   "cell_type": "markdown",
   "metadata": {
    "id": "LL7Pb7IlLqcg"
   },
   "source": [
    "**Шаг 5.1. Сравнение моделей.**\n",
    "\n",
    "Теперь мы готовы сравнить качество двух моделей! 😎"
   ]
  },
  {
   "cell_type": "markdown",
   "metadata": {
    "id": "NDTfUzZdLqch"
   },
   "source": [
    "## Задание 3.6 Какая модель лучше?\n",
    "\n",
    "Получим прогнозы целевой переменной на тестовых данных для модели линейной регрессии из sklearn и для своей реализации. \n",
    "\n"
   ]
  },
  {
   "cell_type": "code",
   "metadata": {
    "id": "DK3TytoFLqch"
   },
   "source": [
    "test_predictions_linear = linear_regression_model.predict(test_points)"
   ],
   "execution_count": null,
   "outputs": []
  },
  {
   "cell_type": "code",
   "metadata": {
    "id": "WfESQh1Limzq"
   },
   "source": [
    "### введите свой код\n",
    "### код для получения предсказаний с помощью своей реализации алгоритма настройки параметров модели\n",
    "\n",
    "scaler = StandardScaler()\n",
    "x_train = scaler.fit_transform(training_points)\n",
    "y_train = training_values.values.reshape(-1, 1) \n",
    "w, b = fit(x_train, y_train)\n",
    "\n",
    "x_test = scaler.transform(test_points)\n",
    "predicted = predict(x_test, w, b)"
   ],
   "execution_count": null,
   "outputs": []
  },
  {
   "cell_type": "markdown",
   "metadata": {
    "id": "kxRo4sq1Lqcm"
   },
   "source": [
    "Качество регрессионных моделей оценим двумя способами: \n",
    "1. Сравним визуально прогнозы с настоящими ценами (тестовые с предсказанием)\n",
    "2. Сравним метрики качества MSE и MAE"
   ]
  },
  {
   "cell_type": "markdown",
   "metadata": {
    "id": "Swg445QcLqct"
   },
   "source": [
    "Для корректного подсчета метрик качества модели в python требуется загрузить их из библиотеки **sklearn**. \n",
    "\n",
    "Мы используем две метрики качества:\n",
    " * *mean_absolute_error* - средняя абсолютная ошибка $|y_i - \\hat{y}_i|$\n",
    " * *mean_squared_error* - средняя квадратичная ошибка $(y_i - \\hat{y}_i)^2$"
   ]
  },
  {
   "cell_type": "markdown",
   "metadata": {
    "id": "gmkMZN2FLqcw"
   },
   "source": [
    "Подсчитаем ошибки для линейной модели.\n",
    "\n",
    "Для этого вызовем методы **mean_absolute_error()** и **mean_squared_error()**. На вход им передается столбец настоящих значений *test_values* и столбец значений, предсказанных моделью линейной регрессии *test_predictions_linear*."
   ]
  },
  {
   "cell_type": "code",
   "metadata": {
    "id": "k14DseleLqcw",
    "colab": {
     "base_uri": "https://localhost:8080/"
    },
    "outputId": "000b2210-2e88-44e2-91ab-dccb6dd4b164"
   },
   "source": [
    "mean_absolute_error_linear_model = mean_absolute_error(test_values, test_predictions_linear) \n",
    "mean_squared_error_linear_model = mean_squared_error(test_values, test_predictions_linear)\n",
    "\n",
    "print('sklearn func: ')\n",
    "print('mse: ', mean_squared_error_linear_model)\n",
    "print('mae: ', mean_absolute_error_linear_model)"
   ],
   "execution_count": null,
   "outputs": [
    {
     "output_type": "stream",
     "name": "stdout",
     "text": [
      "sklearn func: \n",
      "mse:  40756843765.100815\n",
      "mae:  126852.51255005135\n"
     ]
    }
   ]
  },
  {
   "cell_type": "markdown",
   "metadata": {
    "id": "R84sQt9LLqc0"
   },
   "source": [
    "Подсчитайте ошибки для своей реализации модели."
   ]
  },
  {
   "cell_type": "code",
   "source": [
    "print('own func: ')\n",
    "print('mse: ', mean_squared_error(test_values, predicted))\n",
    "print('mae: ', mean_absolute_error(test_values, predicted))"
   ],
   "metadata": {
    "colab": {
     "base_uri": "https://localhost:8080/"
    },
    "id": "Pcb8P_5A5HBh",
    "outputId": "8f0425d3-ef7c-423f-e42c-022a836e1889"
   },
   "execution_count": null,
   "outputs": [
    {
     "output_type": "stream",
     "name": "stdout",
     "text": [
      "own func: \n",
      "mse:  41424953547.92618\n",
      "mae:  124506.52808313543\n"
     ]
    }
   ]
  },
  {
   "cell_type": "markdown",
   "metadata": {
    "id": "yvsElUo7Lqc2"
   },
   "source": [
    "Теперь напечатаем полученные ошибки. Обычно смотрят на корень из среднеквадратичной ошибки, RMSE. Чтобы извлечь корень нам понадобится библиотека **Numpy**. С помощью неё можно быстро производить вычисления сразу над массивами чисел."
   ]
  },
  {
   "cell_type": "code",
   "source": [
    "print('sklearn func RMSE: ', np.sqrt(mean_squared_error_linear_model))\n",
    "print('own func RMSE: ', np.sqrt(mean_squared_error(test_values, predicted)))"
   ],
   "metadata": {
    "colab": {
     "base_uri": "https://localhost:8080/"
    },
    "id": "aNlasmbU5J_s",
    "outputId": "4c2ce75f-1f51-4264-af2d-cb13e9862ebc"
   },
   "execution_count": null,
   "outputs": [
    {
     "output_type": "stream",
     "name": "stdout",
     "text": [
      "sklearn func RMSE:  201883.24290317117\n",
      "own func RMSE:  203531.21025515025\n"
     ]
    }
   ]
  },
  {
   "cell_type": "markdown",
   "source": [
    "Видно, что точность у моей модели ниже, чем у модели из sklearn, но отклонение всего-лишь на доли процента. Однако время моя модель работает заметно дольше модели sklearn."
   ],
   "metadata": {
    "id": "9FVzlQOq5yiV"
   }
  },
  {
   "cell_type": "markdown",
   "metadata": {
    "id": "RQS6gBO1Lqc5"
   },
   "source": [
    "## 6. Выявление важных признаков"
   ]
  },
  {
   "cell_type": "markdown",
   "metadata": {
    "id": "NCvDudjKLqc6"
   },
   "source": [
    "Признаки, используемые для обучения модели, оказывают большое влияние на качество результатов. Неинформативные или слабо информативные признаки могут снизить качество модели, использование избыточных признаков в модели замедляет скорость ее работы.\n",
    "\n",
    "Для того, чтобы отобрать признаки нам следует ответить на следующие вопросы: \n",
    "\n",
    "    1. Все ли признаки в наших данных заполненны разумными значениями?\n",
    "    2. Какие признаки будут больше всего влиять на значение целевой переменной?\n",
    "    3. Какие дополнительные признаки имело бы смысл добавить в список входных?"
   ]
  },
  {
   "cell_type": "markdown",
   "metadata": {
    "id": "QlM7skwULqc7"
   },
   "source": [
    "**6.1. Разглядывание значений признаков**\n",
    "\n",
    "Для того чтобы ответить на первый вопрос, нам необходимо получить некоторую нашу экспертную оценку данных. В наших данных нет пропусков, однако иногда пропуски предварительно заполняют другими значениями (0, 999 и другие) и их можно увидеть, только внимательно посмотрев на данные. \n",
    "\n",
    "Для того, чтобы это сделать, нужно вызвать у переменной *training_points* метод **head(10)**, который выводит первые 10 строк таблицы."
   ]
  },
  {
   "cell_type": "code",
   "metadata": {
    "id": "RF5s50mpLqc9",
    "colab": {
     "base_uri": "https://localhost:8080/",
     "height": 363
    },
    "outputId": "a9f67e1f-d47c-41bb-df78-5985af251723"
   },
   "source": [
    "training_points.head(10)"
   ],
   "execution_count": null,
   "outputs": [
    {
     "output_type": "execute_result",
     "data": {
      "text/plain": [
       "   Спальни  Ванные  Жилая площадь  Общая площадь  Количество этажей  \\\n",
       "0        5    3.50           3490          21780                2.0   \n",
       "1        4    1.75           2360           7620                1.0   \n",
       "2        6    2.75           2040           8560                1.0   \n",
       "3        3    1.75           1940           8376                1.0   \n",
       "4        3    2.75           3450           5350                1.5   \n",
       "5        3    2.25           2300           9914                2.0   \n",
       "6        3    2.50           2770           8820                1.0   \n",
       "7        2    1.75           1650           7500                1.0   \n",
       "8        1    1.00            580           1799                1.0   \n",
       "9        2    1.00            900           3400                1.0   \n",
       "\n",
       "   Вид на воду  Просмотрены ранее  Состояние  Оценка риелтора  \\\n",
       "0            0                  0          3                8   \n",
       "1            0                  0          4                7   \n",
       "2            0                  2          4                7   \n",
       "3            0                  0          4                8   \n",
       "4            0                  3          4                9   \n",
       "5            0                  0          4                8   \n",
       "6            0                  0          3                7   \n",
       "7            0                  0          4                7   \n",
       "8            0                  0          3                7   \n",
       "9            0                  0          5                6   \n",
       "\n",
       "   Площадь без подвала  Площадь подвала  Год постройки  Год реновации  \\\n",
       "0                 3490                0           1996              0   \n",
       "1                 1180             1180           1955              0   \n",
       "2                 1100              940           1961              0   \n",
       "3                 1290              650           1963              0   \n",
       "4                 2590              860           1925              0   \n",
       "5                 2300                0           1980              0   \n",
       "6                 1900              870           1980           2004   \n",
       "7                 1000              650           1959              0   \n",
       "8                  580                0           1908           2005   \n",
       "9                  900                0           1905              0   \n",
       "\n",
       "    Широта  Долгота  \n",
       "0  47.6707 -122.144  \n",
       "1  47.5278 -122.345  \n",
       "2  47.6160 -122.115  \n",
       "3  47.5586 -122.173  \n",
       "4  47.6389 -122.407  \n",
       "5  47.5677 -122.086  \n",
       "6  47.3685 -122.048  \n",
       "7  47.6871 -122.207  \n",
       "8  47.6829 -122.375  \n",
       "9  47.5269 -122.314  "
      ],
      "text/html": [
       "\n",
       "  <div id=\"df-a24dc461-b537-439d-8da9-9a8212ad76a1\">\n",
       "    <div class=\"colab-df-container\">\n",
       "      <div>\n",
       "<style scoped>\n",
       "    .dataframe tbody tr th:only-of-type {\n",
       "        vertical-align: middle;\n",
       "    }\n",
       "\n",
       "    .dataframe tbody tr th {\n",
       "        vertical-align: top;\n",
       "    }\n",
       "\n",
       "    .dataframe thead th {\n",
       "        text-align: right;\n",
       "    }\n",
       "</style>\n",
       "<table border=\"1\" class=\"dataframe\">\n",
       "  <thead>\n",
       "    <tr style=\"text-align: right;\">\n",
       "      <th></th>\n",
       "      <th>Спальни</th>\n",
       "      <th>Ванные</th>\n",
       "      <th>Жилая площадь</th>\n",
       "      <th>Общая площадь</th>\n",
       "      <th>Количество этажей</th>\n",
       "      <th>Вид на воду</th>\n",
       "      <th>Просмотрены ранее</th>\n",
       "      <th>Состояние</th>\n",
       "      <th>Оценка риелтора</th>\n",
       "      <th>Площадь без подвала</th>\n",
       "      <th>Площадь подвала</th>\n",
       "      <th>Год постройки</th>\n",
       "      <th>Год реновации</th>\n",
       "      <th>Широта</th>\n",
       "      <th>Долгота</th>\n",
       "    </tr>\n",
       "  </thead>\n",
       "  <tbody>\n",
       "    <tr>\n",
       "      <th>0</th>\n",
       "      <td>5</td>\n",
       "      <td>3.50</td>\n",
       "      <td>3490</td>\n",
       "      <td>21780</td>\n",
       "      <td>2.0</td>\n",
       "      <td>0</td>\n",
       "      <td>0</td>\n",
       "      <td>3</td>\n",
       "      <td>8</td>\n",
       "      <td>3490</td>\n",
       "      <td>0</td>\n",
       "      <td>1996</td>\n",
       "      <td>0</td>\n",
       "      <td>47.6707</td>\n",
       "      <td>-122.144</td>\n",
       "    </tr>\n",
       "    <tr>\n",
       "      <th>1</th>\n",
       "      <td>4</td>\n",
       "      <td>1.75</td>\n",
       "      <td>2360</td>\n",
       "      <td>7620</td>\n",
       "      <td>1.0</td>\n",
       "      <td>0</td>\n",
       "      <td>0</td>\n",
       "      <td>4</td>\n",
       "      <td>7</td>\n",
       "      <td>1180</td>\n",
       "      <td>1180</td>\n",
       "      <td>1955</td>\n",
       "      <td>0</td>\n",
       "      <td>47.5278</td>\n",
       "      <td>-122.345</td>\n",
       "    </tr>\n",
       "    <tr>\n",
       "      <th>2</th>\n",
       "      <td>6</td>\n",
       "      <td>2.75</td>\n",
       "      <td>2040</td>\n",
       "      <td>8560</td>\n",
       "      <td>1.0</td>\n",
       "      <td>0</td>\n",
       "      <td>2</td>\n",
       "      <td>4</td>\n",
       "      <td>7</td>\n",
       "      <td>1100</td>\n",
       "      <td>940</td>\n",
       "      <td>1961</td>\n",
       "      <td>0</td>\n",
       "      <td>47.6160</td>\n",
       "      <td>-122.115</td>\n",
       "    </tr>\n",
       "    <tr>\n",
       "      <th>3</th>\n",
       "      <td>3</td>\n",
       "      <td>1.75</td>\n",
       "      <td>1940</td>\n",
       "      <td>8376</td>\n",
       "      <td>1.0</td>\n",
       "      <td>0</td>\n",
       "      <td>0</td>\n",
       "      <td>4</td>\n",
       "      <td>8</td>\n",
       "      <td>1290</td>\n",
       "      <td>650</td>\n",
       "      <td>1963</td>\n",
       "      <td>0</td>\n",
       "      <td>47.5586</td>\n",
       "      <td>-122.173</td>\n",
       "    </tr>\n",
       "    <tr>\n",
       "      <th>4</th>\n",
       "      <td>3</td>\n",
       "      <td>2.75</td>\n",
       "      <td>3450</td>\n",
       "      <td>5350</td>\n",
       "      <td>1.5</td>\n",
       "      <td>0</td>\n",
       "      <td>3</td>\n",
       "      <td>4</td>\n",
       "      <td>9</td>\n",
       "      <td>2590</td>\n",
       "      <td>860</td>\n",
       "      <td>1925</td>\n",
       "      <td>0</td>\n",
       "      <td>47.6389</td>\n",
       "      <td>-122.407</td>\n",
       "    </tr>\n",
       "    <tr>\n",
       "      <th>5</th>\n",
       "      <td>3</td>\n",
       "      <td>2.25</td>\n",
       "      <td>2300</td>\n",
       "      <td>9914</td>\n",
       "      <td>2.0</td>\n",
       "      <td>0</td>\n",
       "      <td>0</td>\n",
       "      <td>4</td>\n",
       "      <td>8</td>\n",
       "      <td>2300</td>\n",
       "      <td>0</td>\n",
       "      <td>1980</td>\n",
       "      <td>0</td>\n",
       "      <td>47.5677</td>\n",
       "      <td>-122.086</td>\n",
       "    </tr>\n",
       "    <tr>\n",
       "      <th>6</th>\n",
       "      <td>3</td>\n",
       "      <td>2.50</td>\n",
       "      <td>2770</td>\n",
       "      <td>8820</td>\n",
       "      <td>1.0</td>\n",
       "      <td>0</td>\n",
       "      <td>0</td>\n",
       "      <td>3</td>\n",
       "      <td>7</td>\n",
       "      <td>1900</td>\n",
       "      <td>870</td>\n",
       "      <td>1980</td>\n",
       "      <td>2004</td>\n",
       "      <td>47.3685</td>\n",
       "      <td>-122.048</td>\n",
       "    </tr>\n",
       "    <tr>\n",
       "      <th>7</th>\n",
       "      <td>2</td>\n",
       "      <td>1.75</td>\n",
       "      <td>1650</td>\n",
       "      <td>7500</td>\n",
       "      <td>1.0</td>\n",
       "      <td>0</td>\n",
       "      <td>0</td>\n",
       "      <td>4</td>\n",
       "      <td>7</td>\n",
       "      <td>1000</td>\n",
       "      <td>650</td>\n",
       "      <td>1959</td>\n",
       "      <td>0</td>\n",
       "      <td>47.6871</td>\n",
       "      <td>-122.207</td>\n",
       "    </tr>\n",
       "    <tr>\n",
       "      <th>8</th>\n",
       "      <td>1</td>\n",
       "      <td>1.00</td>\n",
       "      <td>580</td>\n",
       "      <td>1799</td>\n",
       "      <td>1.0</td>\n",
       "      <td>0</td>\n",
       "      <td>0</td>\n",
       "      <td>3</td>\n",
       "      <td>7</td>\n",
       "      <td>580</td>\n",
       "      <td>0</td>\n",
       "      <td>1908</td>\n",
       "      <td>2005</td>\n",
       "      <td>47.6829</td>\n",
       "      <td>-122.375</td>\n",
       "    </tr>\n",
       "    <tr>\n",
       "      <th>9</th>\n",
       "      <td>2</td>\n",
       "      <td>1.00</td>\n",
       "      <td>900</td>\n",
       "      <td>3400</td>\n",
       "      <td>1.0</td>\n",
       "      <td>0</td>\n",
       "      <td>0</td>\n",
       "      <td>5</td>\n",
       "      <td>6</td>\n",
       "      <td>900</td>\n",
       "      <td>0</td>\n",
       "      <td>1905</td>\n",
       "      <td>0</td>\n",
       "      <td>47.5269</td>\n",
       "      <td>-122.314</td>\n",
       "    </tr>\n",
       "  </tbody>\n",
       "</table>\n",
       "</div>\n",
       "      <button class=\"colab-df-convert\" onclick=\"convertToInteractive('df-a24dc461-b537-439d-8da9-9a8212ad76a1')\"\n",
       "              title=\"Convert this dataframe to an interactive table.\"\n",
       "              style=\"display:none;\">\n",
       "        \n",
       "  <svg xmlns=\"http://www.w3.org/2000/svg\" height=\"24px\"viewBox=\"0 0 24 24\"\n",
       "       width=\"24px\">\n",
       "    <path d=\"M0 0h24v24H0V0z\" fill=\"none\"/>\n",
       "    <path d=\"M18.56 5.44l.94 2.06.94-2.06 2.06-.94-2.06-.94-.94-2.06-.94 2.06-2.06.94zm-11 1L8.5 8.5l.94-2.06 2.06-.94-2.06-.94L8.5 2.5l-.94 2.06-2.06.94zm10 10l.94 2.06.94-2.06 2.06-.94-2.06-.94-.94-2.06-.94 2.06-2.06.94z\"/><path d=\"M17.41 7.96l-1.37-1.37c-.4-.4-.92-.59-1.43-.59-.52 0-1.04.2-1.43.59L10.3 9.45l-7.72 7.72c-.78.78-.78 2.05 0 2.83L4 21.41c.39.39.9.59 1.41.59.51 0 1.02-.2 1.41-.59l7.78-7.78 2.81-2.81c.8-.78.8-2.07 0-2.86zM5.41 20L4 18.59l7.72-7.72 1.47 1.35L5.41 20z\"/>\n",
       "  </svg>\n",
       "      </button>\n",
       "      \n",
       "  <style>\n",
       "    .colab-df-container {\n",
       "      display:flex;\n",
       "      flex-wrap:wrap;\n",
       "      gap: 12px;\n",
       "    }\n",
       "\n",
       "    .colab-df-convert {\n",
       "      background-color: #E8F0FE;\n",
       "      border: none;\n",
       "      border-radius: 50%;\n",
       "      cursor: pointer;\n",
       "      display: none;\n",
       "      fill: #1967D2;\n",
       "      height: 32px;\n",
       "      padding: 0 0 0 0;\n",
       "      width: 32px;\n",
       "    }\n",
       "\n",
       "    .colab-df-convert:hover {\n",
       "      background-color: #E2EBFA;\n",
       "      box-shadow: 0px 1px 2px rgba(60, 64, 67, 0.3), 0px 1px 3px 1px rgba(60, 64, 67, 0.15);\n",
       "      fill: #174EA6;\n",
       "    }\n",
       "\n",
       "    [theme=dark] .colab-df-convert {\n",
       "      background-color: #3B4455;\n",
       "      fill: #D2E3FC;\n",
       "    }\n",
       "\n",
       "    [theme=dark] .colab-df-convert:hover {\n",
       "      background-color: #434B5C;\n",
       "      box-shadow: 0px 1px 3px 1px rgba(0, 0, 0, 0.15);\n",
       "      filter: drop-shadow(0px 1px 2px rgba(0, 0, 0, 0.3));\n",
       "      fill: #FFFFFF;\n",
       "    }\n",
       "  </style>\n",
       "\n",
       "      <script>\n",
       "        const buttonEl =\n",
       "          document.querySelector('#df-a24dc461-b537-439d-8da9-9a8212ad76a1 button.colab-df-convert');\n",
       "        buttonEl.style.display =\n",
       "          google.colab.kernel.accessAllowed ? 'block' : 'none';\n",
       "\n",
       "        async function convertToInteractive(key) {\n",
       "          const element = document.querySelector('#df-a24dc461-b537-439d-8da9-9a8212ad76a1');\n",
       "          const dataTable =\n",
       "            await google.colab.kernel.invokeFunction('convertToInteractive',\n",
       "                                                     [key], {});\n",
       "          if (!dataTable) return;\n",
       "\n",
       "          const docLinkHtml = 'Like what you see? Visit the ' +\n",
       "            '<a target=\"_blank\" href=https://colab.research.google.com/notebooks/data_table.ipynb>data table notebook</a>'\n",
       "            + ' to learn more about interactive tables.';\n",
       "          element.innerHTML = '';\n",
       "          dataTable['output_type'] = 'display_data';\n",
       "          await google.colab.output.renderOutput(dataTable, element);\n",
       "          const docLink = document.createElement('div');\n",
       "          docLink.innerHTML = docLinkHtml;\n",
       "          element.appendChild(docLink);\n",
       "        }\n",
       "      </script>\n",
       "    </div>\n",
       "  </div>\n",
       "  "
      ]
     },
     "metadata": {},
     "execution_count": 354
    }
   ]
  },
  {
   "cell_type": "markdown",
   "metadata": {
    "id": "g-MGwOMxLqdG"
   },
   "source": [
    "Рассмотрим столбец \"Год реновации\". Он содержит много нулей и мало реальных данных о годах, что как раз свидетельствует о том, что в этих данных изначально были пропуски, а к нам они попали уже заполненные нулями. \n",
    "\n",
    "Мы можем посмотреть количество уникальных значений и сколько раз эти значения встречаются в этом столбце. Для этого вызываем метод **value_counts()** у нашего столбца *training_points['Год реновации']*"
   ]
  },
  {
   "cell_type": "code",
   "metadata": {
    "scrolled": true,
    "id": "vZhcfLFXLqdJ",
    "colab": {
     "base_uri": "https://localhost:8080/"
    },
    "outputId": "fffc0d90-4adf-4208-bf0f-c08d0e3b55dd"
   },
   "source": [
    "training_points['Год реновации'].value_counts()"
   ],
   "execution_count": null,
   "outputs": [
    {
     "output_type": "execute_result",
     "data": {
      "text/plain": [
       "0       14490\n",
       "2014       63\n",
       "2013       31\n",
       "2000       28\n",
       "2003       24\n",
       "        ...  \n",
       "1948        1\n",
       "1950        1\n",
       "1953        1\n",
       "1934        1\n",
       "1955        1\n",
       "Name: Год реновации, Length: 67, dtype: int64"
      ]
     },
     "metadata": {},
     "execution_count": 355
    }
   ]
  },
  {
   "cell_type": "markdown",
   "metadata": {
    "id": "DnPPjFtGLqdL"
   },
   "source": [
    "Как видно, нулей существенно больше (14490), чем любых других значений (639), поэтому можем сделать вывод, что этот признак не информативен и может негативно повлиять на качество модели."
   ]
  },
  {
   "cell_type": "markdown",
   "metadata": {
    "id": "7kYhqu9ELqdM"
   },
   "source": [
    "**6.2. Какие признаки самые важные**\n",
    "\n",
    "Ручной перебор признаков невозможен, если их тысячи, кроме того, часто даже эксперты не могут сказать, использование каких признаков в модели даст прирост качества.\n",
    "Кроме ручного перебора всех признаков и их визуального анализа, можно использовать оценку значимости признаков с помощью обученных моделей. "
   ]
  },
  {
   "cell_type": "markdown",
   "metadata": {
    "id": "xMlw49Lxj1Ne"
   },
   "source": [
    "## Задание 3.7 "
   ]
  },
  {
   "cell_type": "code",
   "metadata": {
    "id": "TSzXSHgfLqdN"
   },
   "source": [
    "## введите свой код\n",
    "## напишите код, который вычисляет значимость признака (фактически это просто вес по модулю)\n",
    "\n",
    "weights = abs(linear_regression_model.coef_)"
   ],
   "execution_count": null,
   "outputs": []
  },
  {
   "cell_type": "markdown",
   "metadata": {
    "id": "zyK1fI42LqdT"
   },
   "source": [
    "Представьте полученные результаты в более удобном табличном виде. Создайте пустую таблицу *feature_importance* с двумя колонками \"Название признака\", \"Важность признака\". Для этого воспользуемся функцией **DataFrame()** из библиотеки pandas и передадим ей в качестве аргумента   \n",
    "*columns = [\"Название признака\", \"Важность признака\"]*"
   ]
  },
  {
   "cell_type": "code",
   "source": [
    "feature_importance = pd.DataFrame(columns = ['Название признака', 'Важность признака'])"
   ],
   "metadata": {
    "id": "dymhMvex4Gy-"
   },
   "execution_count": null,
   "outputs": []
  },
  {
   "cell_type": "markdown",
   "metadata": {
    "id": "2L5zngrOLqdX"
   },
   "source": [
    "Заполните соответствующие колонки значениями, которые мы получили выше. "
   ]
  },
  {
   "cell_type": "code",
   "metadata": {
    "id": "gb3TXJEbLqdZ",
    "colab": {
     "base_uri": "https://localhost:8080/",
     "height": 519
    },
    "outputId": "975e6636-63df-4089-aee1-f9a30a05156a"
   },
   "source": [
    "# выведите полученную таблицу\n",
    "feature_importance['Важность признака'] = weights\n",
    "feature_importance['Название признака'] = test_points.columns\n",
    "feature_importance"
   ],
   "execution_count": null,
   "outputs": [
    {
     "output_type": "execute_result",
     "data": {
      "text/plain": [
       "      Название признака  Важность признака\n",
       "0               Спальни       33756.870035\n",
       "1                Ванные       43121.015073\n",
       "2         Жилая площадь         115.347631\n",
       "3         Общая площадь           0.047273\n",
       "4     Количество этажей        6336.716142\n",
       "5           Вид на воду      591890.462867\n",
       "6     Просмотрены ранее       49759.881549\n",
       "7             Состояние       32162.797820\n",
       "8       Оценка риелтора       99635.317145\n",
       "9   Площадь без подвала          79.972561\n",
       "10      Площадь подвала          35.375070\n",
       "11        Год постройки        2449.058277\n",
       "12        Год реновации          24.569091\n",
       "13               Широта      570765.125799\n",
       "14              Долгота      108281.940471"
      ],
      "text/html": [
       "\n",
       "  <div id=\"df-e902fe2d-bcbb-4e8b-bf9b-b9b42016a38a\">\n",
       "    <div class=\"colab-df-container\">\n",
       "      <div>\n",
       "<style scoped>\n",
       "    .dataframe tbody tr th:only-of-type {\n",
       "        vertical-align: middle;\n",
       "    }\n",
       "\n",
       "    .dataframe tbody tr th {\n",
       "        vertical-align: top;\n",
       "    }\n",
       "\n",
       "    .dataframe thead th {\n",
       "        text-align: right;\n",
       "    }\n",
       "</style>\n",
       "<table border=\"1\" class=\"dataframe\">\n",
       "  <thead>\n",
       "    <tr style=\"text-align: right;\">\n",
       "      <th></th>\n",
       "      <th>Название признака</th>\n",
       "      <th>Важность признака</th>\n",
       "    </tr>\n",
       "  </thead>\n",
       "  <tbody>\n",
       "    <tr>\n",
       "      <th>0</th>\n",
       "      <td>Спальни</td>\n",
       "      <td>33756.870035</td>\n",
       "    </tr>\n",
       "    <tr>\n",
       "      <th>1</th>\n",
       "      <td>Ванные</td>\n",
       "      <td>43121.015073</td>\n",
       "    </tr>\n",
       "    <tr>\n",
       "      <th>2</th>\n",
       "      <td>Жилая площадь</td>\n",
       "      <td>115.347631</td>\n",
       "    </tr>\n",
       "    <tr>\n",
       "      <th>3</th>\n",
       "      <td>Общая площадь</td>\n",
       "      <td>0.047273</td>\n",
       "    </tr>\n",
       "    <tr>\n",
       "      <th>4</th>\n",
       "      <td>Количество этажей</td>\n",
       "      <td>6336.716142</td>\n",
       "    </tr>\n",
       "    <tr>\n",
       "      <th>5</th>\n",
       "      <td>Вид на воду</td>\n",
       "      <td>591890.462867</td>\n",
       "    </tr>\n",
       "    <tr>\n",
       "      <th>6</th>\n",
       "      <td>Просмотрены ранее</td>\n",
       "      <td>49759.881549</td>\n",
       "    </tr>\n",
       "    <tr>\n",
       "      <th>7</th>\n",
       "      <td>Состояние</td>\n",
       "      <td>32162.797820</td>\n",
       "    </tr>\n",
       "    <tr>\n",
       "      <th>8</th>\n",
       "      <td>Оценка риелтора</td>\n",
       "      <td>99635.317145</td>\n",
       "    </tr>\n",
       "    <tr>\n",
       "      <th>9</th>\n",
       "      <td>Площадь без подвала</td>\n",
       "      <td>79.972561</td>\n",
       "    </tr>\n",
       "    <tr>\n",
       "      <th>10</th>\n",
       "      <td>Площадь подвала</td>\n",
       "      <td>35.375070</td>\n",
       "    </tr>\n",
       "    <tr>\n",
       "      <th>11</th>\n",
       "      <td>Год постройки</td>\n",
       "      <td>2449.058277</td>\n",
       "    </tr>\n",
       "    <tr>\n",
       "      <th>12</th>\n",
       "      <td>Год реновации</td>\n",
       "      <td>24.569091</td>\n",
       "    </tr>\n",
       "    <tr>\n",
       "      <th>13</th>\n",
       "      <td>Широта</td>\n",
       "      <td>570765.125799</td>\n",
       "    </tr>\n",
       "    <tr>\n",
       "      <th>14</th>\n",
       "      <td>Долгота</td>\n",
       "      <td>108281.940471</td>\n",
       "    </tr>\n",
       "  </tbody>\n",
       "</table>\n",
       "</div>\n",
       "      <button class=\"colab-df-convert\" onclick=\"convertToInteractive('df-e902fe2d-bcbb-4e8b-bf9b-b9b42016a38a')\"\n",
       "              title=\"Convert this dataframe to an interactive table.\"\n",
       "              style=\"display:none;\">\n",
       "        \n",
       "  <svg xmlns=\"http://www.w3.org/2000/svg\" height=\"24px\"viewBox=\"0 0 24 24\"\n",
       "       width=\"24px\">\n",
       "    <path d=\"M0 0h24v24H0V0z\" fill=\"none\"/>\n",
       "    <path d=\"M18.56 5.44l.94 2.06.94-2.06 2.06-.94-2.06-.94-.94-2.06-.94 2.06-2.06.94zm-11 1L8.5 8.5l.94-2.06 2.06-.94-2.06-.94L8.5 2.5l-.94 2.06-2.06.94zm10 10l.94 2.06.94-2.06 2.06-.94-2.06-.94-.94-2.06-.94 2.06-2.06.94z\"/><path d=\"M17.41 7.96l-1.37-1.37c-.4-.4-.92-.59-1.43-.59-.52 0-1.04.2-1.43.59L10.3 9.45l-7.72 7.72c-.78.78-.78 2.05 0 2.83L4 21.41c.39.39.9.59 1.41.59.51 0 1.02-.2 1.41-.59l7.78-7.78 2.81-2.81c.8-.78.8-2.07 0-2.86zM5.41 20L4 18.59l7.72-7.72 1.47 1.35L5.41 20z\"/>\n",
       "  </svg>\n",
       "      </button>\n",
       "      \n",
       "  <style>\n",
       "    .colab-df-container {\n",
       "      display:flex;\n",
       "      flex-wrap:wrap;\n",
       "      gap: 12px;\n",
       "    }\n",
       "\n",
       "    .colab-df-convert {\n",
       "      background-color: #E8F0FE;\n",
       "      border: none;\n",
       "      border-radius: 50%;\n",
       "      cursor: pointer;\n",
       "      display: none;\n",
       "      fill: #1967D2;\n",
       "      height: 32px;\n",
       "      padding: 0 0 0 0;\n",
       "      width: 32px;\n",
       "    }\n",
       "\n",
       "    .colab-df-convert:hover {\n",
       "      background-color: #E2EBFA;\n",
       "      box-shadow: 0px 1px 2px rgba(60, 64, 67, 0.3), 0px 1px 3px 1px rgba(60, 64, 67, 0.15);\n",
       "      fill: #174EA6;\n",
       "    }\n",
       "\n",
       "    [theme=dark] .colab-df-convert {\n",
       "      background-color: #3B4455;\n",
       "      fill: #D2E3FC;\n",
       "    }\n",
       "\n",
       "    [theme=dark] .colab-df-convert:hover {\n",
       "      background-color: #434B5C;\n",
       "      box-shadow: 0px 1px 3px 1px rgba(0, 0, 0, 0.15);\n",
       "      filter: drop-shadow(0px 1px 2px rgba(0, 0, 0, 0.3));\n",
       "      fill: #FFFFFF;\n",
       "    }\n",
       "  </style>\n",
       "\n",
       "      <script>\n",
       "        const buttonEl =\n",
       "          document.querySelector('#df-e902fe2d-bcbb-4e8b-bf9b-b9b42016a38a button.colab-df-convert');\n",
       "        buttonEl.style.display =\n",
       "          google.colab.kernel.accessAllowed ? 'block' : 'none';\n",
       "\n",
       "        async function convertToInteractive(key) {\n",
       "          const element = document.querySelector('#df-e902fe2d-bcbb-4e8b-bf9b-b9b42016a38a');\n",
       "          const dataTable =\n",
       "            await google.colab.kernel.invokeFunction('convertToInteractive',\n",
       "                                                     [key], {});\n",
       "          if (!dataTable) return;\n",
       "\n",
       "          const docLinkHtml = 'Like what you see? Visit the ' +\n",
       "            '<a target=\"_blank\" href=https://colab.research.google.com/notebooks/data_table.ipynb>data table notebook</a>'\n",
       "            + ' to learn more about interactive tables.';\n",
       "          element.innerHTML = '';\n",
       "          dataTable['output_type'] = 'display_data';\n",
       "          await google.colab.output.renderOutput(dataTable, element);\n",
       "          const docLink = document.createElement('div');\n",
       "          docLink.innerHTML = docLinkHtml;\n",
       "          element.appendChild(docLink);\n",
       "        }\n",
       "      </script>\n",
       "    </div>\n",
       "  </div>\n",
       "  "
      ]
     },
     "metadata": {},
     "execution_count": 358
    }
   ]
  },
  {
   "cell_type": "markdown",
   "metadata": {
    "id": "HCqhWnNtLqdb"
   },
   "source": [
    "Мы можем отсортировать значения по важности, вызвав у *feature_importance* метод **sort_values()**.\n",
    "\n",
    "Обратите внимание, что в данном случае мы передаем два аргумента:\n",
    "\n",
    "1. by='Важность признака' - название столбца, по которому мы сортируем\n",
    "2. ascending=False - означает, что мы сортируем по убиыванию, а в случае ascending=True сортировка будет по возрастанию"
   ]
  },
  {
   "cell_type": "code",
   "metadata": {
    "id": "uAOXjcAxLqdb",
    "colab": {
     "base_uri": "https://localhost:8080/",
     "height": 519
    },
    "outputId": "215780ef-7484-4c2e-8f07-60d3404bf48f"
   },
   "source": [
    "feature_importance.sort_values(by='Важность признака', ascending=False)"
   ],
   "execution_count": null,
   "outputs": [
    {
     "output_type": "execute_result",
     "data": {
      "text/plain": [
       "      Название признака  Важность признака\n",
       "5           Вид на воду      591890.462867\n",
       "13               Широта      570765.125799\n",
       "14              Долгота      108281.940471\n",
       "8       Оценка риелтора       99635.317145\n",
       "6     Просмотрены ранее       49759.881549\n",
       "1                Ванные       43121.015073\n",
       "0               Спальни       33756.870035\n",
       "7             Состояние       32162.797820\n",
       "4     Количество этажей        6336.716142\n",
       "11        Год постройки        2449.058277\n",
       "2         Жилая площадь         115.347631\n",
       "9   Площадь без подвала          79.972561\n",
       "10      Площадь подвала          35.375070\n",
       "12        Год реновации          24.569091\n",
       "3         Общая площадь           0.047273"
      ],
      "text/html": [
       "\n",
       "  <div id=\"df-73e27119-8e9f-4775-bb8c-95c254f76079\">\n",
       "    <div class=\"colab-df-container\">\n",
       "      <div>\n",
       "<style scoped>\n",
       "    .dataframe tbody tr th:only-of-type {\n",
       "        vertical-align: middle;\n",
       "    }\n",
       "\n",
       "    .dataframe tbody tr th {\n",
       "        vertical-align: top;\n",
       "    }\n",
       "\n",
       "    .dataframe thead th {\n",
       "        text-align: right;\n",
       "    }\n",
       "</style>\n",
       "<table border=\"1\" class=\"dataframe\">\n",
       "  <thead>\n",
       "    <tr style=\"text-align: right;\">\n",
       "      <th></th>\n",
       "      <th>Название признака</th>\n",
       "      <th>Важность признака</th>\n",
       "    </tr>\n",
       "  </thead>\n",
       "  <tbody>\n",
       "    <tr>\n",
       "      <th>5</th>\n",
       "      <td>Вид на воду</td>\n",
       "      <td>591890.462867</td>\n",
       "    </tr>\n",
       "    <tr>\n",
       "      <th>13</th>\n",
       "      <td>Широта</td>\n",
       "      <td>570765.125799</td>\n",
       "    </tr>\n",
       "    <tr>\n",
       "      <th>14</th>\n",
       "      <td>Долгота</td>\n",
       "      <td>108281.940471</td>\n",
       "    </tr>\n",
       "    <tr>\n",
       "      <th>8</th>\n",
       "      <td>Оценка риелтора</td>\n",
       "      <td>99635.317145</td>\n",
       "    </tr>\n",
       "    <tr>\n",
       "      <th>6</th>\n",
       "      <td>Просмотрены ранее</td>\n",
       "      <td>49759.881549</td>\n",
       "    </tr>\n",
       "    <tr>\n",
       "      <th>1</th>\n",
       "      <td>Ванные</td>\n",
       "      <td>43121.015073</td>\n",
       "    </tr>\n",
       "    <tr>\n",
       "      <th>0</th>\n",
       "      <td>Спальни</td>\n",
       "      <td>33756.870035</td>\n",
       "    </tr>\n",
       "    <tr>\n",
       "      <th>7</th>\n",
       "      <td>Состояние</td>\n",
       "      <td>32162.797820</td>\n",
       "    </tr>\n",
       "    <tr>\n",
       "      <th>4</th>\n",
       "      <td>Количество этажей</td>\n",
       "      <td>6336.716142</td>\n",
       "    </tr>\n",
       "    <tr>\n",
       "      <th>11</th>\n",
       "      <td>Год постройки</td>\n",
       "      <td>2449.058277</td>\n",
       "    </tr>\n",
       "    <tr>\n",
       "      <th>2</th>\n",
       "      <td>Жилая площадь</td>\n",
       "      <td>115.347631</td>\n",
       "    </tr>\n",
       "    <tr>\n",
       "      <th>9</th>\n",
       "      <td>Площадь без подвала</td>\n",
       "      <td>79.972561</td>\n",
       "    </tr>\n",
       "    <tr>\n",
       "      <th>10</th>\n",
       "      <td>Площадь подвала</td>\n",
       "      <td>35.375070</td>\n",
       "    </tr>\n",
       "    <tr>\n",
       "      <th>12</th>\n",
       "      <td>Год реновации</td>\n",
       "      <td>24.569091</td>\n",
       "    </tr>\n",
       "    <tr>\n",
       "      <th>3</th>\n",
       "      <td>Общая площадь</td>\n",
       "      <td>0.047273</td>\n",
       "    </tr>\n",
       "  </tbody>\n",
       "</table>\n",
       "</div>\n",
       "      <button class=\"colab-df-convert\" onclick=\"convertToInteractive('df-73e27119-8e9f-4775-bb8c-95c254f76079')\"\n",
       "              title=\"Convert this dataframe to an interactive table.\"\n",
       "              style=\"display:none;\">\n",
       "        \n",
       "  <svg xmlns=\"http://www.w3.org/2000/svg\" height=\"24px\"viewBox=\"0 0 24 24\"\n",
       "       width=\"24px\">\n",
       "    <path d=\"M0 0h24v24H0V0z\" fill=\"none\"/>\n",
       "    <path d=\"M18.56 5.44l.94 2.06.94-2.06 2.06-.94-2.06-.94-.94-2.06-.94 2.06-2.06.94zm-11 1L8.5 8.5l.94-2.06 2.06-.94-2.06-.94L8.5 2.5l-.94 2.06-2.06.94zm10 10l.94 2.06.94-2.06 2.06-.94-2.06-.94-.94-2.06-.94 2.06-2.06.94z\"/><path d=\"M17.41 7.96l-1.37-1.37c-.4-.4-.92-.59-1.43-.59-.52 0-1.04.2-1.43.59L10.3 9.45l-7.72 7.72c-.78.78-.78 2.05 0 2.83L4 21.41c.39.39.9.59 1.41.59.51 0 1.02-.2 1.41-.59l7.78-7.78 2.81-2.81c.8-.78.8-2.07 0-2.86zM5.41 20L4 18.59l7.72-7.72 1.47 1.35L5.41 20z\"/>\n",
       "  </svg>\n",
       "      </button>\n",
       "      \n",
       "  <style>\n",
       "    .colab-df-container {\n",
       "      display:flex;\n",
       "      flex-wrap:wrap;\n",
       "      gap: 12px;\n",
       "    }\n",
       "\n",
       "    .colab-df-convert {\n",
       "      background-color: #E8F0FE;\n",
       "      border: none;\n",
       "      border-radius: 50%;\n",
       "      cursor: pointer;\n",
       "      display: none;\n",
       "      fill: #1967D2;\n",
       "      height: 32px;\n",
       "      padding: 0 0 0 0;\n",
       "      width: 32px;\n",
       "    }\n",
       "\n",
       "    .colab-df-convert:hover {\n",
       "      background-color: #E2EBFA;\n",
       "      box-shadow: 0px 1px 2px rgba(60, 64, 67, 0.3), 0px 1px 3px 1px rgba(60, 64, 67, 0.15);\n",
       "      fill: #174EA6;\n",
       "    }\n",
       "\n",
       "    [theme=dark] .colab-df-convert {\n",
       "      background-color: #3B4455;\n",
       "      fill: #D2E3FC;\n",
       "    }\n",
       "\n",
       "    [theme=dark] .colab-df-convert:hover {\n",
       "      background-color: #434B5C;\n",
       "      box-shadow: 0px 1px 3px 1px rgba(0, 0, 0, 0.15);\n",
       "      filter: drop-shadow(0px 1px 2px rgba(0, 0, 0, 0.3));\n",
       "      fill: #FFFFFF;\n",
       "    }\n",
       "  </style>\n",
       "\n",
       "      <script>\n",
       "        const buttonEl =\n",
       "          document.querySelector('#df-73e27119-8e9f-4775-bb8c-95c254f76079 button.colab-df-convert');\n",
       "        buttonEl.style.display =\n",
       "          google.colab.kernel.accessAllowed ? 'block' : 'none';\n",
       "\n",
       "        async function convertToInteractive(key) {\n",
       "          const element = document.querySelector('#df-73e27119-8e9f-4775-bb8c-95c254f76079');\n",
       "          const dataTable =\n",
       "            await google.colab.kernel.invokeFunction('convertToInteractive',\n",
       "                                                     [key], {});\n",
       "          if (!dataTable) return;\n",
       "\n",
       "          const docLinkHtml = 'Like what you see? Visit the ' +\n",
       "            '<a target=\"_blank\" href=https://colab.research.google.com/notebooks/data_table.ipynb>data table notebook</a>'\n",
       "            + ' to learn more about interactive tables.';\n",
       "          element.innerHTML = '';\n",
       "          dataTable['output_type'] = 'display_data';\n",
       "          await google.colab.output.renderOutput(dataTable, element);\n",
       "          const docLink = document.createElement('div');\n",
       "          docLink.innerHTML = docLinkHtml;\n",
       "          element.appendChild(docLink);\n",
       "        }\n",
       "      </script>\n",
       "    </div>\n",
       "  </div>\n",
       "  "
      ]
     },
     "metadata": {},
     "execution_count": 359
    }
   ]
  },
  {
   "cell_type": "markdown",
   "metadata": {
    "id": "y1W41te9H0CG"
   },
   "source": [
    "## Задание 3.8. \n",
    "\n",
    "Напомню исходную постановку задачи. Мы говорили о том, что оценка цены на недвижимость может быть нужна для выявления аномально низких цен на объект недвижимости. Давайте попробуем найти такие в датасете."
   ]
  },
  {
   "cell_type": "code",
   "source": [
    "mae = mean_absolute_error(test_values, predicted)\n",
    "price_comparison = pd.DataFrame(data={'Целевая цена': test_data['Целевая.Цена'], 'Предсказанная цена': predicted[:, 0], 'Разница в цене': test_data['Целевая.Цена'] - predicted[:, 0]})\n",
    "price_comparison = price_comparison[price_comparison['Разница в цене'] < 0]\n",
    "price_comparison['Предсказанная цена'] = price_comparison['Предсказанная цена'].apply(lambda x: round(x / 1000, 4) * 1000)\n",
    "price_comparison['Разница в цене'] = price_comparison['Разница в цене'].apply(lambda x: abs(round(x / 1000, 4) * 1000))\n",
    "price_comparison.sort_values('Разница в цене', ascending=False)"
   ],
   "metadata": {
    "colab": {
     "base_uri": "https://localhost:8080/",
     "height": 423
    },
    "id": "BR5p-IEQ6VcI",
    "outputId": "dc8c10c1-8e05-41c7-8091-8dce9ae7626b"
   },
   "execution_count": null,
   "outputs": [
    {
     "output_type": "execute_result",
     "data": {
      "text/plain": [
       "      Целевая цена  Предсказанная цена  Разница в цене\n",
       "632         425000           1480530.7       1055530.7\n",
       "4675        380000           1281900.7        901900.7\n",
       "1032       2280000           3084330.3        804330.3\n",
       "2765        357000           1114482.6        757482.6\n",
       "4270        995000           1741409.6        746409.6\n",
       "...            ...                 ...             ...\n",
       "5484        290000            290169.6           169.6\n",
       "3160        425000            425162.8           162.8\n",
       "4138        554000            554147.9           147.9\n",
       "3328        354000            354072.6            72.6\n",
       "5177        405000            405000.3             0.3\n",
       "\n",
       "[3458 rows x 3 columns]"
      ],
      "text/html": [
       "\n",
       "  <div id=\"df-a051e4cb-b32e-4c61-ad55-80cfae593f4b\">\n",
       "    <div class=\"colab-df-container\">\n",
       "      <div>\n",
       "<style scoped>\n",
       "    .dataframe tbody tr th:only-of-type {\n",
       "        vertical-align: middle;\n",
       "    }\n",
       "\n",
       "    .dataframe tbody tr th {\n",
       "        vertical-align: top;\n",
       "    }\n",
       "\n",
       "    .dataframe thead th {\n",
       "        text-align: right;\n",
       "    }\n",
       "</style>\n",
       "<table border=\"1\" class=\"dataframe\">\n",
       "  <thead>\n",
       "    <tr style=\"text-align: right;\">\n",
       "      <th></th>\n",
       "      <th>Целевая цена</th>\n",
       "      <th>Предсказанная цена</th>\n",
       "      <th>Разница в цене</th>\n",
       "    </tr>\n",
       "  </thead>\n",
       "  <tbody>\n",
       "    <tr>\n",
       "      <th>632</th>\n",
       "      <td>425000</td>\n",
       "      <td>1480530.7</td>\n",
       "      <td>1055530.7</td>\n",
       "    </tr>\n",
       "    <tr>\n",
       "      <th>4675</th>\n",
       "      <td>380000</td>\n",
       "      <td>1281900.7</td>\n",
       "      <td>901900.7</td>\n",
       "    </tr>\n",
       "    <tr>\n",
       "      <th>1032</th>\n",
       "      <td>2280000</td>\n",
       "      <td>3084330.3</td>\n",
       "      <td>804330.3</td>\n",
       "    </tr>\n",
       "    <tr>\n",
       "      <th>2765</th>\n",
       "      <td>357000</td>\n",
       "      <td>1114482.6</td>\n",
       "      <td>757482.6</td>\n",
       "    </tr>\n",
       "    <tr>\n",
       "      <th>4270</th>\n",
       "      <td>995000</td>\n",
       "      <td>1741409.6</td>\n",
       "      <td>746409.6</td>\n",
       "    </tr>\n",
       "    <tr>\n",
       "      <th>...</th>\n",
       "      <td>...</td>\n",
       "      <td>...</td>\n",
       "      <td>...</td>\n",
       "    </tr>\n",
       "    <tr>\n",
       "      <th>5484</th>\n",
       "      <td>290000</td>\n",
       "      <td>290169.6</td>\n",
       "      <td>169.6</td>\n",
       "    </tr>\n",
       "    <tr>\n",
       "      <th>3160</th>\n",
       "      <td>425000</td>\n",
       "      <td>425162.8</td>\n",
       "      <td>162.8</td>\n",
       "    </tr>\n",
       "    <tr>\n",
       "      <th>4138</th>\n",
       "      <td>554000</td>\n",
       "      <td>554147.9</td>\n",
       "      <td>147.9</td>\n",
       "    </tr>\n",
       "    <tr>\n",
       "      <th>3328</th>\n",
       "      <td>354000</td>\n",
       "      <td>354072.6</td>\n",
       "      <td>72.6</td>\n",
       "    </tr>\n",
       "    <tr>\n",
       "      <th>5177</th>\n",
       "      <td>405000</td>\n",
       "      <td>405000.3</td>\n",
       "      <td>0.3</td>\n",
       "    </tr>\n",
       "  </tbody>\n",
       "</table>\n",
       "<p>3458 rows × 3 columns</p>\n",
       "</div>\n",
       "      <button class=\"colab-df-convert\" onclick=\"convertToInteractive('df-a051e4cb-b32e-4c61-ad55-80cfae593f4b')\"\n",
       "              title=\"Convert this dataframe to an interactive table.\"\n",
       "              style=\"display:none;\">\n",
       "        \n",
       "  <svg xmlns=\"http://www.w3.org/2000/svg\" height=\"24px\"viewBox=\"0 0 24 24\"\n",
       "       width=\"24px\">\n",
       "    <path d=\"M0 0h24v24H0V0z\" fill=\"none\"/>\n",
       "    <path d=\"M18.56 5.44l.94 2.06.94-2.06 2.06-.94-2.06-.94-.94-2.06-.94 2.06-2.06.94zm-11 1L8.5 8.5l.94-2.06 2.06-.94-2.06-.94L8.5 2.5l-.94 2.06-2.06.94zm10 10l.94 2.06.94-2.06 2.06-.94-2.06-.94-.94-2.06-.94 2.06-2.06.94z\"/><path d=\"M17.41 7.96l-1.37-1.37c-.4-.4-.92-.59-1.43-.59-.52 0-1.04.2-1.43.59L10.3 9.45l-7.72 7.72c-.78.78-.78 2.05 0 2.83L4 21.41c.39.39.9.59 1.41.59.51 0 1.02-.2 1.41-.59l7.78-7.78 2.81-2.81c.8-.78.8-2.07 0-2.86zM5.41 20L4 18.59l7.72-7.72 1.47 1.35L5.41 20z\"/>\n",
       "  </svg>\n",
       "      </button>\n",
       "      \n",
       "  <style>\n",
       "    .colab-df-container {\n",
       "      display:flex;\n",
       "      flex-wrap:wrap;\n",
       "      gap: 12px;\n",
       "    }\n",
       "\n",
       "    .colab-df-convert {\n",
       "      background-color: #E8F0FE;\n",
       "      border: none;\n",
       "      border-radius: 50%;\n",
       "      cursor: pointer;\n",
       "      display: none;\n",
       "      fill: #1967D2;\n",
       "      height: 32px;\n",
       "      padding: 0 0 0 0;\n",
       "      width: 32px;\n",
       "    }\n",
       "\n",
       "    .colab-df-convert:hover {\n",
       "      background-color: #E2EBFA;\n",
       "      box-shadow: 0px 1px 2px rgba(60, 64, 67, 0.3), 0px 1px 3px 1px rgba(60, 64, 67, 0.15);\n",
       "      fill: #174EA6;\n",
       "    }\n",
       "\n",
       "    [theme=dark] .colab-df-convert {\n",
       "      background-color: #3B4455;\n",
       "      fill: #D2E3FC;\n",
       "    }\n",
       "\n",
       "    [theme=dark] .colab-df-convert:hover {\n",
       "      background-color: #434B5C;\n",
       "      box-shadow: 0px 1px 3px 1px rgba(0, 0, 0, 0.15);\n",
       "      filter: drop-shadow(0px 1px 2px rgba(0, 0, 0, 0.3));\n",
       "      fill: #FFFFFF;\n",
       "    }\n",
       "  </style>\n",
       "\n",
       "      <script>\n",
       "        const buttonEl =\n",
       "          document.querySelector('#df-a051e4cb-b32e-4c61-ad55-80cfae593f4b button.colab-df-convert');\n",
       "        buttonEl.style.display =\n",
       "          google.colab.kernel.accessAllowed ? 'block' : 'none';\n",
       "\n",
       "        async function convertToInteractive(key) {\n",
       "          const element = document.querySelector('#df-a051e4cb-b32e-4c61-ad55-80cfae593f4b');\n",
       "          const dataTable =\n",
       "            await google.colab.kernel.invokeFunction('convertToInteractive',\n",
       "                                                     [key], {});\n",
       "          if (!dataTable) return;\n",
       "\n",
       "          const docLinkHtml = 'Like what you see? Visit the ' +\n",
       "            '<a target=\"_blank\" href=https://colab.research.google.com/notebooks/data_table.ipynb>data table notebook</a>'\n",
       "            + ' to learn more about interactive tables.';\n",
       "          element.innerHTML = '';\n",
       "          dataTable['output_type'] = 'display_data';\n",
       "          await google.colab.output.renderOutput(dataTable, element);\n",
       "          const docLink = document.createElement('div');\n",
       "          docLink.innerHTML = docLinkHtml;\n",
       "          element.appendChild(docLink);\n",
       "        }\n",
       "      </script>\n",
       "    </div>\n",
       "  </div>\n",
       "  "
      ]
     },
     "metadata": {},
     "execution_count": 361
    }
   ]
  }
 ]
}
