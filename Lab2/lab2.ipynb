{
  "nbformat": 4,
  "nbformat_minor": 0,
  "metadata": {
    "hide_input": false,
    "kernelspec": {
      "display_name": "Python 3",
      "language": "python",
      "name": "python3"
    },
    "language_info": {
      "codemirror_mode": {
        "name": "ipython",
        "version": 3
      },
      "file_extension": ".py",
      "mimetype": "text/x-python",
      "name": "python",
      "nbconvert_exporter": "python",
      "pygments_lexer": "ipython3",
      "version": "3.7.1"
    },
    "toc": {
      "base_numbering": 1,
      "nav_menu": {},
      "number_sections": true,
      "sideBar": true,
      "skip_h1_title": false,
      "title_cell": "Table of Contents",
      "title_sidebar": "Contents",
      "toc_cell": true,
      "toc_position": {},
      "toc_section_display": true,
      "toc_window_display": false
    },
    "varInspector": {
      "cols": {
        "lenName": 16,
        "lenType": 16,
        "lenVar": 40
      },
      "kernels_config": {
        "python": {
          "delete_cmd_postfix": "",
          "delete_cmd_prefix": "del ",
          "library": "var_list.py",
          "varRefreshCmd": "print(var_dic_list())"
        },
        "r": {
          "delete_cmd_postfix": ") ",
          "delete_cmd_prefix": "rm(",
          "library": "var_list.r",
          "varRefreshCmd": "cat(var_dic_list()) "
        }
      },
      "types_to_exclude": [
        "module",
        "function",
        "builtin_function_or_method",
        "instance",
        "_Feature"
      ],
      "window_display": false
    },
    "colab": {
      "provenance": []
    }
  },
  "cells": [
    {
      "cell_type": "code",
      "metadata": {
        "ExecuteTime": {
          "end_time": "2020-04-23T10:16:05.965275Z",
          "start_time": "2020-04-23T10:16:05.312704Z"
        },
        "id": "bZ7J0si68JdT"
      },
      "source": [
        "import pandas as pd\n",
        "import numpy as np\n",
        "import matplotlib.pyplot as plt"
      ],
      "execution_count": 80,
      "outputs": []
    },
    {
      "cell_type": "markdown",
      "metadata": {
        "id": "xjvL0IIG8Jd0"
      },
      "source": [
        "## Задание 0\n"
      ]
    },
    {
      "cell_type": "markdown",
      "metadata": {
        "id": "yaSxXHvxO0qo"
      },
      "source": [
        "Для всех  заданий будем использовать обезличенные транзакционные банковские данные. Для этого считайте в переменные **tr_mcc_codes, tr_types, transactions и gender_train** из одноимённых таблиц из папки [data](https://drive.google.com/drive/folders/1YAMe7MiTxA-RSSd8Ex2p-L0Dspe6Gs4L). \n",
        "\n",
        "Для таблицы transactions используйте только первые n=1000000 строк. При чтении файлов обратите внимание на разделители внутри каждого из файлов - они могут различаться!"
      ]
    },
    {
      "cell_type": "code",
      "source": [
        "from google.colab import drive\n",
        "drive.mount('/content/drive')"
      ],
      "metadata": {
        "colab": {
          "base_uri": "https://localhost:8080/"
        },
        "id": "fC2INV0E2UV6",
        "outputId": "71cdc8eb-1291-405d-94e1-53a0be8074d0"
      },
      "execution_count": null,
      "outputs": [
        {
          "output_type": "stream",
          "name": "stdout",
          "text": [
            "Mounted at /content/drive\n"
          ]
        }
      ]
    },
    {
      "cell_type": "code",
      "source": [
        "tr_mcc_codes = pd.read_csv('/content/drive/MyDrive/Data/tr_mcc_codes.csv', sep=';')\n",
        "tr_types = pd.read_csv('/content/drive/MyDrive/Data/tr_types.csv', sep=';')\n",
        "transactions = pd.read_csv('/content/drive/MyDrive/Data/transactions.csv', nrows=1000000, sep=',')\n",
        "gender_train = pd.read_csv('/content/drive/MyDrive/Data/gender_train.csv', sep=',')"
      ],
      "metadata": {
        "id": "lWUXo1JQ3xXl"
      },
      "execution_count": null,
      "outputs": []
    },
    {
      "cell_type": "markdown",
      "metadata": {
        "id": "oP3lX9xC8Jd8"
      },
      "source": [
        "###  Описание данных\n",
        "#### Таблица ```transactions.csv```\n",
        "##### Описание\n",
        "Таблица содержит историю транзакций клиентов банка за один год и три месяца.\n",
        "\n",
        "##### Формат данных\n",
        "\n",
        "```\n",
        "customer_id,tr_datetime,mcc_code,tr_type,amount,term_id\n",
        "111111,15 01:40:52,1111,1000,-5224,111111\n",
        "111112,15 15:18:32,3333,2000,-100,11122233\n",
        "...\n",
        "```\n",
        "##### Описание полей\n",
        "\n",
        " - ```customer_id``` — идентификатор клиента;\n",
        " - ```tr_datetime``` — день и время совершения транзакции (дни нумеруются с начала данных);\n",
        " - ```mcc_code``` — mcc-код транзакции;\n",
        " - ```tr_type``` — тип транзакции;\n",
        " - ```amount``` — сумма транзакции в условных единицах со знаком; ```+``` — начисление средств клиенту (приходная транзакция), ```-``` — списание средств (расходная транзакция);\n",
        " - ```term_id``` — идентификатор терминала;\n",
        "\n",
        "\n",
        "#### Таблица ```gender_train.csv```\n",
        "\n",
        "##### Описание\n",
        "Данная таблица содержит информацию по полу для части клиентов, для которых он известен. Для остальных клиентов пол неизвестен.\n",
        "\n",
        "##### Формат данных\n",
        "```\n",
        "customer_id,gender\n",
        "111111,0\n",
        "111112,1\n",
        "...\n",
        "```\n",
        "\n",
        "##### Описание полей\n",
        " - ```customer_id``` — идентификатор клиента;\n",
        " - ```gender``` — пол клиента;\n",
        "\n",
        "### Таблица ```tr_mcc_codes.csv```\n",
        "\n",
        "##### Описание\n",
        "Данная таблица содержит описание mcc-кодов транзакций.\n",
        "\n",
        "##### Формат данных\n",
        "```\n",
        "mcc_code;mcc_description\n",
        "1000;словесное описание mcc-кода 1000\n",
        "2000;словесное описание mcc-кода 2000\n",
        "...\n",
        "```\n",
        "\n",
        "##### Описание полей\n",
        " - ```mcc_code``` – mcc-код транзакции;\n",
        " - ```mcc_description``` — описание mcc-кода транзакции.\n",
        "\n",
        "#### Таблица ```tr_types.csv```\n",
        "\n",
        "##### Описание\n",
        "Данная таблица содержит описание типов транзакций.\n",
        "\n",
        "##### Формат данных\n",
        "```\n",
        "tr_type;tr_description\n",
        "1000;словесное описание типа транзакции 1000\n",
        "2000;словесное описание типа транзакции 2000\n",
        "...\n",
        "```\n",
        "\n",
        "##### Описание полей\n",
        " - ```tr_type``` – тип транзакции;\n",
        " - ```tr_description``` — описание типа транзакции;"
      ]
    },
    {
      "cell_type": "markdown",
      "metadata": {
        "id": "04CYsBKz8JeB"
      },
      "source": [
        "\n",
        "Задания 1-4 делаются без использования merge!\n",
        "\n",
        "## Задание 1\n",
        "\n"
      ]
    },
    {
      "cell_type": "markdown",
      "metadata": {
        "id": "1hcrfwsYN_Yz"
      },
      "source": [
        "1. Для столбца tr_type датафрейма transactions выберите произвольные 1000 строк с помощью метода sample\n",
        "2. В полученной на предыдущем этапе подвыборке найдите долю транзакций (стобец tr_description в датасете tr_types), в которой содержится подстрока 'POS' или 'ATM'\n"
      ]
    },
    {
      "cell_type": "code",
      "source": [
        "transactions_types_sample = transactions['tr_type'].sample(n=1000)\n",
        "selected_types = tr_types[tr_types['tr_description'].str.contains('POS') | tr_types['tr_description'].str.contains('ATM')]['tr_type']\n",
        "matched_count = selected_types.isin(transactions_types_sample).value_counts()[True]\n",
        "round(matched_count / 1000, 4)\n"
      ],
      "metadata": {
        "colab": {
          "base_uri": "https://localhost:8080/"
        },
        "id": "D-PER6Q06f4t",
        "outputId": "21c81492-7a5a-46d7-e053-d53657ea5601"
      },
      "execution_count": null,
      "outputs": [
        {
          "output_type": "execute_result",
          "data": {
            "text/plain": [
              "0.007"
            ]
          },
          "metadata": {},
          "execution_count": 10
        }
      ]
    },
    {
      "cell_type": "markdown",
      "metadata": {
        "id": "fiZBDIZt8JeS"
      },
      "source": [
        "## Задание 2 \n"
      ]
    },
    {
      "cell_type": "markdown",
      "metadata": {
        "id": "FFKeBUThOCrz"
      },
      "source": [
        "1. Для столбца tr_type датафрейма transactions посчитайте частоту встречаемости всех типов транзакций tr_type в transactions.\n",
        "2. Выведите топ-10 транзакций по частоте встречаемости (вывести для них tr_description тоже)."
      ]
    },
    {
      "cell_type": "code",
      "source": [
        "top10_types = transactions['tr_type'].value_counts().head(10).index\n",
        "tr_types[tr_types['tr_type'].isin(top10_types)]"
      ],
      "metadata": {
        "colab": {
          "base_uri": "https://localhost:8080/",
          "height": 363
        },
        "id": "fS95Ou_AKAZ5",
        "outputId": "97992c56-aa8a-4f5e-d1fb-f0a417f11090"
      },
      "execution_count": null,
      "outputs": [
        {
          "output_type": "execute_result",
          "data": {
            "text/plain": [
              "     tr_type                                     tr_description\n",
              "39      7010       Взнос наличных через АТМ (в своем тер.банке)\n",
              "47      7030  Перевод на карту (с карты) через АТМ (в предел...\n",
              "59      7070  Перевод на карту (с карты) через Мобильный бан...\n",
              "60      7071  Перевод на карту (с карты) через Мобильный бан...\n",
              "98      1010                              Покупка. POS ТУ СБ РФ\n",
              "99      1030                     Оплата услуги. Банкоматы СБ РФ\n",
              "100     1100                                Покупка. ТУ  Россия\n",
              "101     1110                             Покупка. POS ТУ Россия\n",
              "106     2010              Выдача наличных в АТМ Сбербанк России\n",
              "129     2370  Списание с карты на карту по операции <перевод..."
            ],
            "text/html": [
              "\n",
              "  <div id=\"df-b4be3d52-91f5-46b3-839c-8cd66542572b\">\n",
              "    <div class=\"colab-df-container\">\n",
              "      <div>\n",
              "<style scoped>\n",
              "    .dataframe tbody tr th:only-of-type {\n",
              "        vertical-align: middle;\n",
              "    }\n",
              "\n",
              "    .dataframe tbody tr th {\n",
              "        vertical-align: top;\n",
              "    }\n",
              "\n",
              "    .dataframe thead th {\n",
              "        text-align: right;\n",
              "    }\n",
              "</style>\n",
              "<table border=\"1\" class=\"dataframe\">\n",
              "  <thead>\n",
              "    <tr style=\"text-align: right;\">\n",
              "      <th></th>\n",
              "      <th>tr_type</th>\n",
              "      <th>tr_description</th>\n",
              "    </tr>\n",
              "  </thead>\n",
              "  <tbody>\n",
              "    <tr>\n",
              "      <th>39</th>\n",
              "      <td>7010</td>\n",
              "      <td>Взнос наличных через АТМ (в своем тер.банке)</td>\n",
              "    </tr>\n",
              "    <tr>\n",
              "      <th>47</th>\n",
              "      <td>7030</td>\n",
              "      <td>Перевод на карту (с карты) через АТМ (в предел...</td>\n",
              "    </tr>\n",
              "    <tr>\n",
              "      <th>59</th>\n",
              "      <td>7070</td>\n",
              "      <td>Перевод на карту (с карты) через Мобильный бан...</td>\n",
              "    </tr>\n",
              "    <tr>\n",
              "      <th>60</th>\n",
              "      <td>7071</td>\n",
              "      <td>Перевод на карту (с карты) через Мобильный бан...</td>\n",
              "    </tr>\n",
              "    <tr>\n",
              "      <th>98</th>\n",
              "      <td>1010</td>\n",
              "      <td>Покупка. POS ТУ СБ РФ</td>\n",
              "    </tr>\n",
              "    <tr>\n",
              "      <th>99</th>\n",
              "      <td>1030</td>\n",
              "      <td>Оплата услуги. Банкоматы СБ РФ</td>\n",
              "    </tr>\n",
              "    <tr>\n",
              "      <th>100</th>\n",
              "      <td>1100</td>\n",
              "      <td>Покупка. ТУ  Россия</td>\n",
              "    </tr>\n",
              "    <tr>\n",
              "      <th>101</th>\n",
              "      <td>1110</td>\n",
              "      <td>Покупка. POS ТУ Россия</td>\n",
              "    </tr>\n",
              "    <tr>\n",
              "      <th>106</th>\n",
              "      <td>2010</td>\n",
              "      <td>Выдача наличных в АТМ Сбербанк России</td>\n",
              "    </tr>\n",
              "    <tr>\n",
              "      <th>129</th>\n",
              "      <td>2370</td>\n",
              "      <td>Списание с карты на карту по операции &lt;перевод...</td>\n",
              "    </tr>\n",
              "  </tbody>\n",
              "</table>\n",
              "</div>\n",
              "      <button class=\"colab-df-convert\" onclick=\"convertToInteractive('df-b4be3d52-91f5-46b3-839c-8cd66542572b')\"\n",
              "              title=\"Convert this dataframe to an interactive table.\"\n",
              "              style=\"display:none;\">\n",
              "        \n",
              "  <svg xmlns=\"http://www.w3.org/2000/svg\" height=\"24px\"viewBox=\"0 0 24 24\"\n",
              "       width=\"24px\">\n",
              "    <path d=\"M0 0h24v24H0V0z\" fill=\"none\"/>\n",
              "    <path d=\"M18.56 5.44l.94 2.06.94-2.06 2.06-.94-2.06-.94-.94-2.06-.94 2.06-2.06.94zm-11 1L8.5 8.5l.94-2.06 2.06-.94-2.06-.94L8.5 2.5l-.94 2.06-2.06.94zm10 10l.94 2.06.94-2.06 2.06-.94-2.06-.94-.94-2.06-.94 2.06-2.06.94z\"/><path d=\"M17.41 7.96l-1.37-1.37c-.4-.4-.92-.59-1.43-.59-.52 0-1.04.2-1.43.59L10.3 9.45l-7.72 7.72c-.78.78-.78 2.05 0 2.83L4 21.41c.39.39.9.59 1.41.59.51 0 1.02-.2 1.41-.59l7.78-7.78 2.81-2.81c.8-.78.8-2.07 0-2.86zM5.41 20L4 18.59l7.72-7.72 1.47 1.35L5.41 20z\"/>\n",
              "  </svg>\n",
              "      </button>\n",
              "      \n",
              "  <style>\n",
              "    .colab-df-container {\n",
              "      display:flex;\n",
              "      flex-wrap:wrap;\n",
              "      gap: 12px;\n",
              "    }\n",
              "\n",
              "    .colab-df-convert {\n",
              "      background-color: #E8F0FE;\n",
              "      border: none;\n",
              "      border-radius: 50%;\n",
              "      cursor: pointer;\n",
              "      display: none;\n",
              "      fill: #1967D2;\n",
              "      height: 32px;\n",
              "      padding: 0 0 0 0;\n",
              "      width: 32px;\n",
              "    }\n",
              "\n",
              "    .colab-df-convert:hover {\n",
              "      background-color: #E2EBFA;\n",
              "      box-shadow: 0px 1px 2px rgba(60, 64, 67, 0.3), 0px 1px 3px 1px rgba(60, 64, 67, 0.15);\n",
              "      fill: #174EA6;\n",
              "    }\n",
              "\n",
              "    [theme=dark] .colab-df-convert {\n",
              "      background-color: #3B4455;\n",
              "      fill: #D2E3FC;\n",
              "    }\n",
              "\n",
              "    [theme=dark] .colab-df-convert:hover {\n",
              "      background-color: #434B5C;\n",
              "      box-shadow: 0px 1px 3px 1px rgba(0, 0, 0, 0.15);\n",
              "      filter: drop-shadow(0px 1px 2px rgba(0, 0, 0, 0.3));\n",
              "      fill: #FFFFFF;\n",
              "    }\n",
              "  </style>\n",
              "\n",
              "      <script>\n",
              "        const buttonEl =\n",
              "          document.querySelector('#df-b4be3d52-91f5-46b3-839c-8cd66542572b button.colab-df-convert');\n",
              "        buttonEl.style.display =\n",
              "          google.colab.kernel.accessAllowed ? 'block' : 'none';\n",
              "\n",
              "        async function convertToInteractive(key) {\n",
              "          const element = document.querySelector('#df-b4be3d52-91f5-46b3-839c-8cd66542572b');\n",
              "          const dataTable =\n",
              "            await google.colab.kernel.invokeFunction('convertToInteractive',\n",
              "                                                     [key], {});\n",
              "          if (!dataTable) return;\n",
              "\n",
              "          const docLinkHtml = 'Like what you see? Visit the ' +\n",
              "            '<a target=\"_blank\" href=https://colab.research.google.com/notebooks/data_table.ipynb>data table notebook</a>'\n",
              "            + ' to learn more about interactive tables.';\n",
              "          element.innerHTML = '';\n",
              "          dataTable['output_type'] = 'display_data';\n",
              "          await google.colab.output.renderOutput(dataTable, element);\n",
              "          const docLink = document.createElement('div');\n",
              "          docLink.innerHTML = docLinkHtml;\n",
              "          element.appendChild(docLink);\n",
              "        }\n",
              "      </script>\n",
              "    </div>\n",
              "  </div>\n",
              "  "
            ]
          },
          "metadata": {},
          "execution_count": 48
        }
      ]
    },
    {
      "cell_type": "markdown",
      "metadata": {
        "id": "mktm_JeA8JeX"
      },
      "source": [
        "## Задание 3\n",
        "1. В датафрейме transactions найдите клиента с максимальной суммой приходов на карту\n",
        "2. В датафрейме transactions найдите клиента с максимальной суммой расходов по карте\n",
        "3. Найдите модуль разницы для этих клиентов между суммой расходов и суммой приходов"
      ]
    },
    {
      "cell_type": "code",
      "source": [
        "customer_amount = transactions[['customer_id', 'amount']]\n",
        "customer_amount_income = customer_amount[customer_amount['amount'] > 0]\n",
        "customer_amount_outcome = customer_amount[customer_amount['amount'] < 0]"
      ],
      "metadata": {
        "id": "qe0UVp8Ti4-4"
      },
      "execution_count": null,
      "outputs": []
    },
    {
      "cell_type": "code",
      "source": [
        "income_sum_groupby_customer = customer_amount_income.groupby('customer_id').sum()\n",
        "outcome_sum_groupby_customer = customer_amount_outcome.groupby('customer_id').sum()"
      ],
      "metadata": {
        "id": "2jN8wQyVj5Q1"
      },
      "execution_count": null,
      "outputs": []
    },
    {
      "cell_type": "code",
      "source": [
        "top_income_customer = income_sum_groupby_customer.idxmax().item()\n",
        "top_income_amount = income_sum_groupby_customer.max().item()\n",
        "top_income_customer"
      ],
      "metadata": {
        "colab": {
          "base_uri": "https://localhost:8080/"
        },
        "id": "nvu7zJCXN99m",
        "outputId": "938578b4-b767-4237-a4a7-041de16e2e41"
      },
      "execution_count": null,
      "outputs": [
        {
          "output_type": "execute_result",
          "data": {
            "text/plain": [
              "70780820"
            ]
          },
          "metadata": {},
          "execution_count": 14
        }
      ]
    },
    {
      "cell_type": "code",
      "source": [
        "top_outcome_customer = outcome_sum_groupby_customer.idxmin().item()\n",
        "top_outcome_amount = outcome_sum_groupby_customer.min().item()\n",
        "top_outcome_customer"
      ],
      "metadata": {
        "colab": {
          "base_uri": "https://localhost:8080/"
        },
        "id": "kdtw0P9SjDCc",
        "outputId": "bdab32e1-bf19-414d-a53a-688bc23262af"
      },
      "execution_count": null,
      "outputs": [
        {
          "output_type": "execute_result",
          "data": {
            "text/plain": [
              "70780820"
            ]
          },
          "metadata": {},
          "execution_count": 29
        }
      ]
    },
    {
      "cell_type": "code",
      "source": [
        "abs(top_income_amount - top_outcome_amount)"
      ],
      "metadata": {
        "colab": {
          "base_uri": "https://localhost:8080/"
        },
        "id": "visYQvUAjaXQ",
        "outputId": "879843a9-1454-4721-eddf-74e307853776"
      },
      "execution_count": null,
      "outputs": [
        {
          "output_type": "execute_result",
          "data": {
            "text/plain": [
              "2498067091.6"
            ]
          },
          "metadata": {},
          "execution_count": 30
        }
      ]
    },
    {
      "cell_type": "markdown",
      "metadata": {
        "id": "BYrJ5b_E8Jee"
      },
      "source": [
        "## Задание 4\n",
        "1. Найдите среднее арифметическое и медиану по amount по всем типам транзакций из топ 10 из задания 2\n",
        "1. Найдите среднее арифметическое и медиану по amount по всем типам транзакций для клиентов из задания 3"
      ]
    },
    {
      "cell_type": "code",
      "source": [
        "transactions_from_top10 = transactions[transactions['tr_type'].isin(top10_types)]\n",
        "\n",
        "tr_type_mean = transactions_from_top10[['tr_type', 'amount']].groupby('tr_type').mean('amount')\n",
        "tr_type_median = transactions_from_top10[['tr_type', 'amount']].groupby('tr_type').median('amount')\n",
        "\n",
        "print('Mean:', tr_type_mean)\n",
        "print('Median:', tr_type_median)"
      ],
      "metadata": {
        "colab": {
          "base_uri": "https://localhost:8080/"
        },
        "id": "gyGSuym8l1aB",
        "outputId": "63ec2e1a-095d-4850-fd0c-470c64bc447a"
      },
      "execution_count": null,
      "outputs": [
        {
          "output_type": "stream",
          "name": "stdout",
          "text": [
            "Mean:                 amount\n",
            "tr_type               \n",
            "1010     -19784.748640\n",
            "1030      -5320.980222\n",
            "1100     -44061.827262\n",
            "1110     -32119.330371\n",
            "2010    -136077.629325\n",
            "2370    -205418.249032\n",
            "7010     276391.789596\n",
            "7030      86104.332909\n",
            "7070      65569.831700\n",
            "7071      66806.826623\n",
            "Median:             amount\n",
            "tr_type           \n",
            "1010      -7411.52\n",
            "1030      -2245.92\n",
            "1100     -10188.26\n",
            "1110     -11207.57\n",
            "2010     -44918.32\n",
            "2370     -44918.32\n",
            "7010     112295.79\n",
            "7030      13951.52\n",
            "7070      11319.42\n",
            "7071       3593.47\n"
          ]
        }
      ]
    },
    {
      "cell_type": "code",
      "source": [
        "# Клиент в 3-ем задании в обоих пунктах один и тот же.\n",
        "\n",
        "customer_transactions = transactions[transactions['customer_id'] == top_income_customer]\n",
        "customer_tr_type_amount = customer_transactions[['tr_type','amount']]\n",
        "\n",
        "customer_tr_type_mean = customer_tr_type_amount.groupby('tr_type').mean('amount')\n",
        "customer_tr_type_median = customer_tr_type_amount.groupby('tr_type').median('amount')\n",
        "\n",
        "print('Mean:', customer_tr_type_mean)\n",
        "print('Median:', customer_tr_type_median)"
      ],
      "metadata": {
        "colab": {
          "base_uri": "https://localhost:8080/"
        },
        "id": "IVJdwAgqo3_v",
        "outputId": "2a595e22-aefe-4b51-af84-e41b0c33c67d"
      },
      "execution_count": null,
      "outputs": [
        {
          "output_type": "stream",
          "name": "stdout",
          "text": [
            "Mean:                amount\n",
            "tr_type              \n",
            "2010    -2.941056e+06\n",
            "2330    -2.382398e+06\n",
            "2370    -2.218505e+06\n",
            "6110     1.756293e+04\n",
            "7020     1.465129e+04\n",
            "7021     2.850067e+04\n",
            "7030     1.406196e+04\n",
            "7031     1.921036e+04\n",
            "7034     1.430648e+04\n",
            "7040     2.153833e+04\n",
            "7070     1.384821e+04\n",
            "7071     1.860057e+04\n",
            "7074     2.281159e+04\n",
            "Median:               amount\n",
            "tr_type             \n",
            "2010    -3368873.660\n",
            "2330    -2245915.770\n",
            "2370    -2245915.770\n",
            "6110       10028.010\n",
            "7020       10319.985\n",
            "7021       28500.670\n",
            "7030        8848.910\n",
            "7031       12992.620\n",
            "7034       14306.480\n",
            "7040       14396.320\n",
            "7070        8714.150\n",
            "7071       12543.440\n",
            "7074        9387.930\n"
          ]
        }
      ]
    },
    {
      "cell_type": "markdown",
      "metadata": {
        "id": "BYXwM4l3QDBu"
      },
      "source": [
        "## Подготовка для заданий 5-8"
      ]
    },
    {
      "cell_type": "markdown",
      "metadata": {
        "id": "XWQzFeKcQHRe"
      },
      "source": [
        "*Из заданий 5-8 нужно выполнить минимум два любых*\n",
        "\n",
        "Соедините transactions с всеми остальными таблицами (tr_mcc_codes, tr_types, gender_train). Причём с gender_train необходимо смёрджиться с помощью left join, а с оставшимися датафреймами - через inner.\n",
        "После получения результата таблицы gender_train, tr_types, tr_mcc_codes можно удалить. В результате соединения датафреймов должно получиться 999584 строки."
      ]
    },
    {
      "cell_type": "code",
      "metadata": {
        "id": "sndJxjJ7QQf5",
        "colab": {
          "base_uri": "https://localhost:8080/"
        },
        "outputId": "4b8c91a7-03fd-44c2-c212-b76d47f84504"
      },
      "source": [
        "transactions = pd.merge(transactions, gender_train, how='left')\n",
        "transactions = pd.merge(transactions, tr_mcc_codes, how='inner')\n",
        "transactions = pd.merge(transactions, tr_types, how='inner')\n",
        "transactions.shape"
      ],
      "execution_count": null,
      "outputs": [
        {
          "output_type": "execute_result",
          "data": {
            "text/plain": [
              "(999584, 9)"
            ]
          },
          "metadata": {},
          "execution_count": 19
        }
      ]
    },
    {
      "cell_type": "markdown",
      "metadata": {
        "id": "8vrFauJ8QgmT"
      },
      "source": [
        "## Задание 5"
      ]
    },
    {
      "cell_type": "markdown",
      "metadata": {
        "id": "rOjEQ5xyQfE_"
      },
      "source": [
        "1. Определите модуль разницы между средними тратами женщин и мужчин (трата - отрицательное значение amount).\n",
        "2. Определите модуль разницы между средними поступлениями у мужчин и женщин\n",
        "\n",
        "Обратите внимание, что для вычисления модуля разности точных знаний о том, \n",
        "какой класc относится к мужчинам, а какой - к женщинам, не требуется."
      ]
    },
    {
      "cell_type": "code",
      "source": [
        "gender_transaction = transactions[['gender', 'amount']]\n",
        "gender_transaction_outcome = gender_transaction[gender_transaction['amount'] < 0]\n",
        "gender_transaction_income = gender_transaction[gender_transaction['amount'] > 0]\n",
        "\n",
        "gender_mean_outcome = gender_transaction_outcome.groupby('gender').mean()\n",
        "gender_mean_income = gender_transaction_income.groupby('gender').mean()"
      ],
      "metadata": {
        "id": "0Du0p8kVifCS"
      },
      "execution_count": null,
      "outputs": []
    },
    {
      "cell_type": "code",
      "source": [
        "gender_1_outcome = gender_mean_outcome[gender_mean_outcome.index == 1.0]['amount'].item()\n",
        "gender_0_outcome = gender_mean_outcome[gender_mean_outcome.index == 0.0]['amount'].item()\n",
        "abs(gender_1_outcome - gender_0_outcome)"
      ],
      "metadata": {
        "colab": {
          "base_uri": "https://localhost:8080/"
        },
        "id": "sNGlGy4norhc",
        "outputId": "310b61af-d685-428e-a277-2b431df1df25"
      },
      "execution_count": null,
      "outputs": [
        {
          "output_type": "execute_result",
          "data": {
            "text/plain": [
              "32718.054920224655"
            ]
          },
          "metadata": {},
          "execution_count": 21
        }
      ]
    },
    {
      "cell_type": "code",
      "source": [
        "gender_1_income = gender_mean_income[gender_mean_outcome.index == 1.0]['amount'].item()\n",
        "gender_0_income = gender_mean_income[gender_mean_outcome.index == 0.0]['amount'].item()\n",
        "abs(gender_1_income - gender_0_income)"
      ],
      "metadata": {
        "colab": {
          "base_uri": "https://localhost:8080/"
        },
        "id": "YcjYhpybo2-Y",
        "outputId": "84e8151a-60ca-446c-f5ff-366214f79084"
      },
      "execution_count": null,
      "outputs": [
        {
          "output_type": "execute_result",
          "data": {
            "text/plain": [
              "63366.57104801464"
            ]
          },
          "metadata": {},
          "execution_count": 22
        }
      ]
    },
    {
      "cell_type": "markdown",
      "metadata": {
        "id": "DSHFLbepQ7G1"
      },
      "source": [
        "## Задание 6"
      ]
    },
    {
      "cell_type": "markdown",
      "metadata": {
        "id": "2EF1490bQ-17"
      },
      "source": [
        "1. По всем типам транзакций рассчитайте максимальную сумму прихода на карту (из строго положительных сумм по столбцу amount) отдельно для мужчин и женщин (назовите ее \"max_income\"). Оставьте по 10 типов транзакций для мужчин и для женщин, наименьших среди всех типов транзакций по полученным значениям \"max_income\". \n",
        "2. Выделите среди них те типы транзакций, которые встречаются одновременно и у мужчин, и у женщин"
      ]
    },
    {
      "cell_type": "code",
      "source": [
        "transactions_income = transactions[transactions['amount'] > 0][['gender', 'tr_type', 'amount']]\n",
        "\n",
        "gender_1_income = transactions_income[transactions_income['gender'] == 1.0][['tr_type', 'amount']]\n",
        "gender_0_income = transactions_income[transactions_income['gender'] == 0.0][['tr_type', 'amount']]\n",
        "\n",
        "gender_1_type_max_income = gender_1_income.groupby('tr_type').max('amount').sort_values(by='amount').head(10)\n",
        "gender_0_type_max_income = gender_0_income.groupby('tr_type').max('amount').sort_values(by='amount').head(10)\n",
        "\n",
        "print('Gender 1:', gender_1_type_max_income)\n",
        "print('Gender 0:', gender_0_type_max_income)"
      ],
      "metadata": {
        "colab": {
          "base_uri": "https://localhost:8080/"
        },
        "id": "tXB_huklpkNQ",
        "outputId": "2fc7757d-1844-4fbf-91bc-dffc0552aa81"
      },
      "execution_count": null,
      "outputs": [
        {
          "output_type": "stream",
          "name": "stdout",
          "text": [
            "Gender 1:             amount\n",
            "tr_type           \n",
            "4110       2245.92\n",
            "2020       2245.92\n",
            "1010      28803.87\n",
            "8100      64682.37\n",
            "6000      79280.83\n",
            "7041      87590.72\n",
            "2010      89836.63\n",
            "2110     112295.79\n",
            "2370     113194.15\n",
            "7015     121279.45\n",
            "Gender 0:            amount\n",
            "tr_type          \n",
            "4051      1122.96\n",
            "4110      2245.92\n",
            "4210      2245.92\n",
            "2370      2335.75\n",
            "4100      5041.86\n",
            "7075      6737.75\n",
            "2110     22459.16\n",
            "1010     24839.83\n",
            "2010     44918.32\n",
            "2210     68315.82\n"
          ]
        }
      ]
    },
    {
      "cell_type": "code",
      "source": [
        "intersect_types = gender_1_type_max_income[gender_1_type_max_income.index.isin(gender_0_type_max_income.index)].index\n",
        "intersect_types"
      ],
      "metadata": {
        "colab": {
          "base_uri": "https://localhost:8080/"
        },
        "id": "Z3kuS5Q6FqjW",
        "outputId": "c559369c-75e1-412c-e6da-7b228ed5f2a9"
      },
      "execution_count": null,
      "outputs": [
        {
          "output_type": "execute_result",
          "data": {
            "text/plain": [
              "Int64Index([4110, 1010, 2010, 2110, 2370], dtype='int64', name='tr_type')"
            ]
          },
          "metadata": {},
          "execution_count": 24
        }
      ]
    },
    {
      "cell_type": "markdown",
      "metadata": {
        "id": "W-LaVwRdR3UB"
      },
      "source": [
        "## Задание 7"
      ]
    },
    {
      "cell_type": "markdown",
      "metadata": {
        "id": "rhI4NOciR7e0"
      },
      "source": [
        "1. Найдите суммы затрат по каждой категории (mcc) для мужчин и для женщин. \n",
        "2. Найдите топ 10 категорий с самыми большими относительными модулями разности в тратах для разных полов (в ответе должны присутствовать описания mcc кодов)."
      ]
    },
    {
      "cell_type": "code",
      "source": [
        "gender_mcc_amount_outcome = transactions[transactions['amount'] < 0][['gender', 'mcc_code', 'amount']]\n",
        "\n",
        "gender_1_mcc_amount = gender_mcc_amount_outcome[gender_mcc_amount_outcome['gender'] == 1.0][['mcc_code', 'amount']]\n",
        "gender_0_mcc_amount = gender_mcc_amount_outcome[gender_mcc_amount_outcome['gender'] == 0.0][['mcc_code', 'amount']]\n",
        "\n",
        "gender_1_mcc_sum = gender_1_mcc_amount.groupby('mcc_code').sum().apply(abs)\n",
        "print('Gender 1:', gender_1_mcc_sum)\n",
        "\n",
        "gender_0_mcc_sum = gender_0_mcc_amount.groupby('mcc_code').sum().apply(abs)\n",
        "print('Gender 0:', gender_0_mcc_sum)"
      ],
      "metadata": {
        "colab": {
          "base_uri": "https://localhost:8080/"
        },
        "id": "bfKSrfJAIdQo",
        "outputId": "9cbe88c8-ed82-41a8-c863-6a63fc3b253c"
      },
      "execution_count": null,
      "outputs": [
        {
          "output_type": "stream",
          "name": "stdout",
          "text": [
            "Gender 1:                amount\n",
            "mcc_code             \n",
            "742         132277.93\n",
            "1711        206264.90\n",
            "1731        121542.67\n",
            "1799       1129257.68\n",
            "2741        221290.08\n",
            "...               ...\n",
            "8999      28643346.63\n",
            "9222        988205.17\n",
            "9311        373271.22\n",
            "9399       1810820.67\n",
            "9402          4581.67\n",
            "\n",
            "[175 rows x 1 columns]\n",
            "Gender 0:                amount\n",
            "mcc_code             \n",
            "742         386207.68\n",
            "1711        674897.69\n",
            "1799        261626.73\n",
            "2741         20746.42\n",
            "3000      74431645.27\n",
            "...               ...\n",
            "8699        521107.48\n",
            "8999      19432057.92\n",
            "9222        361143.24\n",
            "9311        406197.45\n",
            "9399       1481389.65\n",
            "\n",
            "[174 rows x 1 columns]\n"
          ]
        }
      ]
    },
    {
      "cell_type": "code",
      "source": [
        "top10_mcc_amount = abs(gender_1_mcc_sum - gender_0_mcc_sum).sort_values(by='amount', ascending=False).head(10)\n",
        "tr_mcc_codes[tr_mcc_codes['mcc_code'].isin(top10_mcc_amount.index)]"
      ],
      "metadata": {
        "colab": {
          "base_uri": "https://localhost:8080/",
          "height": 363
        },
        "id": "OycDKHw3LZ9r",
        "outputId": "21d67b1b-a6c6-4435-fd6f-60a5a1698ea3"
      },
      "execution_count": null,
      "outputs": [
        {
          "output_type": "execute_result",
          "data": {
            "text/plain": [
              "     mcc_code                                    mcc_description\n",
              "22       4829                                  Денежные переводы\n",
              "62       5511  Легковой и грузовой транспорт — продажа, серви...\n",
              "64       5533                          Автозапчасти и аксессуары\n",
              "65       5541                            Станции техобслуживания\n",
              "75       5661                                   Обувные магазины\n",
              "90       5812             Места общественного питания, рестораны\n",
              "116      5977                                 Магазины косметики\n",
              "123      6010   Финансовые институты — снятие наличности вручную\n",
              "124      6011  Финансовые институты — снятие наличности автом...\n",
              "162      7995                       Транзакции по азартным играм"
            ],
            "text/html": [
              "\n",
              "  <div id=\"df-e98de309-92f7-4898-88d1-be22d9227fea\">\n",
              "    <div class=\"colab-df-container\">\n",
              "      <div>\n",
              "<style scoped>\n",
              "    .dataframe tbody tr th:only-of-type {\n",
              "        vertical-align: middle;\n",
              "    }\n",
              "\n",
              "    .dataframe tbody tr th {\n",
              "        vertical-align: top;\n",
              "    }\n",
              "\n",
              "    .dataframe thead th {\n",
              "        text-align: right;\n",
              "    }\n",
              "</style>\n",
              "<table border=\"1\" class=\"dataframe\">\n",
              "  <thead>\n",
              "    <tr style=\"text-align: right;\">\n",
              "      <th></th>\n",
              "      <th>mcc_code</th>\n",
              "      <th>mcc_description</th>\n",
              "    </tr>\n",
              "  </thead>\n",
              "  <tbody>\n",
              "    <tr>\n",
              "      <th>22</th>\n",
              "      <td>4829</td>\n",
              "      <td>Денежные переводы</td>\n",
              "    </tr>\n",
              "    <tr>\n",
              "      <th>62</th>\n",
              "      <td>5511</td>\n",
              "      <td>Легковой и грузовой транспорт — продажа, серви...</td>\n",
              "    </tr>\n",
              "    <tr>\n",
              "      <th>64</th>\n",
              "      <td>5533</td>\n",
              "      <td>Автозапчасти и аксессуары</td>\n",
              "    </tr>\n",
              "    <tr>\n",
              "      <th>65</th>\n",
              "      <td>5541</td>\n",
              "      <td>Станции техобслуживания</td>\n",
              "    </tr>\n",
              "    <tr>\n",
              "      <th>75</th>\n",
              "      <td>5661</td>\n",
              "      <td>Обувные магазины</td>\n",
              "    </tr>\n",
              "    <tr>\n",
              "      <th>90</th>\n",
              "      <td>5812</td>\n",
              "      <td>Места общественного питания, рестораны</td>\n",
              "    </tr>\n",
              "    <tr>\n",
              "      <th>116</th>\n",
              "      <td>5977</td>\n",
              "      <td>Магазины косметики</td>\n",
              "    </tr>\n",
              "    <tr>\n",
              "      <th>123</th>\n",
              "      <td>6010</td>\n",
              "      <td>Финансовые институты — снятие наличности вручную</td>\n",
              "    </tr>\n",
              "    <tr>\n",
              "      <th>124</th>\n",
              "      <td>6011</td>\n",
              "      <td>Финансовые институты — снятие наличности автом...</td>\n",
              "    </tr>\n",
              "    <tr>\n",
              "      <th>162</th>\n",
              "      <td>7995</td>\n",
              "      <td>Транзакции по азартным играм</td>\n",
              "    </tr>\n",
              "  </tbody>\n",
              "</table>\n",
              "</div>\n",
              "      <button class=\"colab-df-convert\" onclick=\"convertToInteractive('df-e98de309-92f7-4898-88d1-be22d9227fea')\"\n",
              "              title=\"Convert this dataframe to an interactive table.\"\n",
              "              style=\"display:none;\">\n",
              "        \n",
              "  <svg xmlns=\"http://www.w3.org/2000/svg\" height=\"24px\"viewBox=\"0 0 24 24\"\n",
              "       width=\"24px\">\n",
              "    <path d=\"M0 0h24v24H0V0z\" fill=\"none\"/>\n",
              "    <path d=\"M18.56 5.44l.94 2.06.94-2.06 2.06-.94-2.06-.94-.94-2.06-.94 2.06-2.06.94zm-11 1L8.5 8.5l.94-2.06 2.06-.94-2.06-.94L8.5 2.5l-.94 2.06-2.06.94zm10 10l.94 2.06.94-2.06 2.06-.94-2.06-.94-.94-2.06-.94 2.06-2.06.94z\"/><path d=\"M17.41 7.96l-1.37-1.37c-.4-.4-.92-.59-1.43-.59-.52 0-1.04.2-1.43.59L10.3 9.45l-7.72 7.72c-.78.78-.78 2.05 0 2.83L4 21.41c.39.39.9.59 1.41.59.51 0 1.02-.2 1.41-.59l7.78-7.78 2.81-2.81c.8-.78.8-2.07 0-2.86zM5.41 20L4 18.59l7.72-7.72 1.47 1.35L5.41 20z\"/>\n",
              "  </svg>\n",
              "      </button>\n",
              "      \n",
              "  <style>\n",
              "    .colab-df-container {\n",
              "      display:flex;\n",
              "      flex-wrap:wrap;\n",
              "      gap: 12px;\n",
              "    }\n",
              "\n",
              "    .colab-df-convert {\n",
              "      background-color: #E8F0FE;\n",
              "      border: none;\n",
              "      border-radius: 50%;\n",
              "      cursor: pointer;\n",
              "      display: none;\n",
              "      fill: #1967D2;\n",
              "      height: 32px;\n",
              "      padding: 0 0 0 0;\n",
              "      width: 32px;\n",
              "    }\n",
              "\n",
              "    .colab-df-convert:hover {\n",
              "      background-color: #E2EBFA;\n",
              "      box-shadow: 0px 1px 2px rgba(60, 64, 67, 0.3), 0px 1px 3px 1px rgba(60, 64, 67, 0.15);\n",
              "      fill: #174EA6;\n",
              "    }\n",
              "\n",
              "    [theme=dark] .colab-df-convert {\n",
              "      background-color: #3B4455;\n",
              "      fill: #D2E3FC;\n",
              "    }\n",
              "\n",
              "    [theme=dark] .colab-df-convert:hover {\n",
              "      background-color: #434B5C;\n",
              "      box-shadow: 0px 1px 3px 1px rgba(0, 0, 0, 0.15);\n",
              "      filter: drop-shadow(0px 1px 2px rgba(0, 0, 0, 0.3));\n",
              "      fill: #FFFFFF;\n",
              "    }\n",
              "  </style>\n",
              "\n",
              "      <script>\n",
              "        const buttonEl =\n",
              "          document.querySelector('#df-e98de309-92f7-4898-88d1-be22d9227fea button.colab-df-convert');\n",
              "        buttonEl.style.display =\n",
              "          google.colab.kernel.accessAllowed ? 'block' : 'none';\n",
              "\n",
              "        async function convertToInteractive(key) {\n",
              "          const element = document.querySelector('#df-e98de309-92f7-4898-88d1-be22d9227fea');\n",
              "          const dataTable =\n",
              "            await google.colab.kernel.invokeFunction('convertToInteractive',\n",
              "                                                     [key], {});\n",
              "          if (!dataTable) return;\n",
              "\n",
              "          const docLinkHtml = 'Like what you see? Visit the ' +\n",
              "            '<a target=\"_blank\" href=https://colab.research.google.com/notebooks/data_table.ipynb>data table notebook</a>'\n",
              "            + ' to learn more about interactive tables.';\n",
              "          element.innerHTML = '';\n",
              "          dataTable['output_type'] = 'display_data';\n",
              "          await google.colab.output.renderOutput(dataTable, element);\n",
              "          const docLink = document.createElement('div');\n",
              "          docLink.innerHTML = docLinkHtml;\n",
              "          element.appendChild(docLink);\n",
              "        }\n",
              "      </script>\n",
              "    </div>\n",
              "  </div>\n",
              "  "
            ]
          },
          "metadata": {},
          "execution_count": 26
        }
      ]
    },
    {
      "cell_type": "markdown",
      "metadata": {
        "id": "aGaPkQkVSvl8"
      },
      "source": [
        "## Задание 8"
      ]
    },
    {
      "cell_type": "markdown",
      "metadata": {
        "id": "T7Ox1qAXTHQl"
      },
      "source": [
        "1. Из поля tr_datetime выделите час tr_hour, в который произошла транзакция, как первые 2 цифры до \":\". (\\**)\n",
        "2. Посчитайте количество транзакций с amount<0 в ночное время для мужчин и женщин. Ночное время - это примерно 00-06 часов. "
      ]
    },
    {
      "cell_type": "code",
      "source": [
        "hours = transactions['tr_datetime'].str.split().apply(lambda x: int(x[1].split(':')[0]))\n",
        "night_hours = hours[(hours > 0) & (hours < 6)]"
      ],
      "metadata": {
        "id": "rljI1StW7B8E"
      },
      "execution_count": null,
      "outputs": []
    },
    {
      "cell_type": "code",
      "source": [
        "night_outcomes = transactions[transactions.index.isin(night_hours.index) & (transactions['amount'] < 0)].value_counts('gender')\n",
        "night_outcomes"
      ],
      "metadata": {
        "colab": {
          "base_uri": "https://localhost:8080/"
        },
        "id": "zegxw07Z-waZ",
        "outputId": "3a211712-fd1b-44c9-e971-a0b6debc5625"
      },
      "execution_count": null,
      "outputs": [
        {
          "output_type": "execute_result",
          "data": {
            "text/plain": [
              "gender\n",
              "0.0    9767\n",
              "1.0    7320\n",
              "dtype: int64"
            ]
          },
          "metadata": {},
          "execution_count": 28
        }
      ]
    },
    {
      "cell_type": "markdown",
      "source": [
        "## Задание на защиту\n",
        "\n",
        "В задании 6 нашли пять типов транзакций. Для каждого из этих типов постройте один график, на котором для 24 часов покажите количество транзакций каждого типа."
      ],
      "metadata": {
        "id": "EvwueC1Ah5Us"
      }
    },
    {
      "cell_type": "code",
      "source": [
        "intersect_transactions = transactions[transactions['tr_type'].isin(intersect_types)]\n",
        "intersect_transactions['tr_datetime'] = intersect_transactions['tr_datetime'].str.split().apply(lambda x: int(x[1].split(':')[0]))\n",
        "transaction_count = intersect_transactions.value_counts(['tr_type', 'tr_datetime']).reset_index().sort_values(by=['tr_datetime'])\n",
        "for i in range(1, len(intersect_types.values)):\n",
        "  plt.plot(transaction_count.reset_index()[transaction_count.reset_index()['tr_type'] == intersect_types[i]][0].values)\n",
        "  \n",
        "plt.show()"
      ],
      "metadata": {
        "colab": {
          "base_uri": "https://localhost:8080/",
          "height": 369
        },
        "id": "HmprOQ2IltQE",
        "outputId": "e0bdf956-a234-4d15-a316-e75367327e54"
      },
      "execution_count": 123,
      "outputs": [
        {
          "output_type": "stream",
          "name": "stderr",
          "text": [
            "/usr/local/lib/python3.7/dist-packages/ipykernel_launcher.py:2: SettingWithCopyWarning: \n",
            "A value is trying to be set on a copy of a slice from a DataFrame.\n",
            "Try using .loc[row_indexer,col_indexer] = value instead\n",
            "\n",
            "See the caveats in the documentation: https://pandas.pydata.org/pandas-docs/stable/user_guide/indexing.html#returning-a-view-versus-a-copy\n",
            "  \n"
          ]
        },
        {
          "output_type": "display_data",
          "data": {
            "text/plain": [
              "<Figure size 432x288 with 1 Axes>"
            ],
            "image/png": "[encoded data removed]"
          },
          "metadata": {
            "needs_background": "light"
          }
        }
      ]
    }
  ]
}