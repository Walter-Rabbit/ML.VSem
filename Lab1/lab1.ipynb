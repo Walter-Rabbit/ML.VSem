{
  "nbformat": 4,
  "nbformat_minor": 0,
  "metadata": {
    "colab": {
      "provenance": [],
      "collapsed_sections": [
        "MFKSC2UUA7Ne",
        "Mth2u7nzAiqw",
        "JrEY8hzdfmM2",
        "mrm41pzufmNy",
        "2kJObRBHfmOd",
        "ylh_09YIfmOg",
        "QeBH-jT4fmOy"
      ]
    },
    "kernelspec": {
      "display_name": "Python 3",
      "language": "python",
      "name": "python3"
    },
    "language_info": {
      "codemirror_mode": {
        "name": "ipython",
        "version": 3
      },
      "file_extension": ".py",
      "mimetype": "text/x-python",
      "name": "python",
      "nbconvert_exporter": "python",
      "pygments_lexer": "ipython3",
      "version": "3.7.4"
    }
  },
  "cells": [
    {
      "cell_type": "code",
      "execution_count": null,
      "outputs": [],
      "source": [
        "import numpy as np\n",
        "from scipy import optimize\n",
        "import matplotlib.pyplot as plt\n",
        "import random"
      ],
      "metadata": {
        "pycharm": {
          "name": "#%%\n"
        },
        "id": "dHqpNz-t5VHD"
      }
    },
    {
      "cell_type": "markdown",
      "metadata": {
        "id": "BsNwjQDRfmLY"
      },
      "source": [
        "# Задание 1\n",
        "\n",
        "---\n",
        "\n",
        "Напишите программу, которая будет решать систему линейных уравнений вида:\n",
        "\n",
        "\\begin{matrix} a_{11}x+a_{12}y=b_{1}&(1) \\\\ a_{21}x+a_{22}y=b_{2} &(2) \\end{matrix}\n",
        "\n",
        "На вход программа должна принимать 2 строки.\n",
        "\n",
        "Каждая строка содержит 3 действительных числа через пробел: коэффициенты a и b.\n",
        "\n",
        "На выходе программа должна выдавать значения x и y в одну строку через пробел.\n",
        " \n",
        "\n",
        "Примечание 1. Для разделения строки на отдельные элементы используйте функцию split()\n",
        "\n",
        "Примечание 2. В качестве разделителя между целой и дробной частью используйте точку, например 0.2"
      ]
    },
    {
      "cell_type": "markdown",
      "source": [
        "## Решение"
      ],
      "metadata": {
        "collapsed": false,
        "id": "HD81Ob385VHG"
      }
    },
    {
      "cell_type": "code",
      "execution_count": null,
      "outputs": [],
      "source": [
        "def linan():\n",
        "    a11, a12, b1 = map(float, input(\"Введите 3 коэффициента для 1-ого уравнения: \").split())\n",
        "    a21, a22, b2 = map(float, input(\"Введите 3 коэффициента для 2-ого уравнения: \").split())\n",
        "\n",
        "    a = np.array([[a11, a12], [a21, a22]])\n",
        "    b = np.array([b1, b2])\n",
        "\n",
        "    x = np.linalg.solve(a, b)\n",
        "\n",
        "    print(round(x[0], 4), round(x[1], 4))"
      ],
      "metadata": {
        "pycharm": {
          "name": "#%%\n"
        },
        "id": "f0rewpio5VHH"
      }
    },
    {
      "cell_type": "code",
      "execution_count": null,
      "outputs": [
        {
          "output_type": "stream",
          "name": "stdout",
          "text": [
            "Введите 3 коэффициента для 1-ого уравнения: 1 2 3\n",
            "Введите 3 коэффициента для 2-ого уравнения: 4 3 2\n",
            "-1.0 2.0\n"
          ]
        }
      ],
      "source": [
        "linan()"
      ],
      "metadata": {
        "pycharm": {
          "name": "#%%\n"
        },
        "colab": {
          "base_uri": "https://localhost:8080/"
        },
        "id": "lRkRwEyC5VHH",
        "outputId": "36f56dc2-e32f-452e-baa8-6f9d9ed13ff5"
      }
    },
    {
      "cell_type": "markdown",
      "metadata": {
        "id": "wLoVDMQnfmOv"
      },
      "source": [
        "# Задание 2\n",
        "\n",
        "---\n",
        "\n",
        "Напишите функцию `decorate_matrix`, которая получает на вход одно целое число больше единицы. Функция должна возвращать матрицу n на n, у которой на границах стоят единицы, а на всех остальных позициях(если остались позиции не на границах) стоят нули.\n",
        "\n",
        "Нужно сделать без использования  циклов.\n",
        "\n",
        "```\n",
        "# ожидаемый резальтат для аргумента 5\n",
        "array([[1., 1., 1., 1., 1.],\n",
        "[1., 0., 0., 0., 1.],\n",
        "[1., 0., 0., 0., 1.],\n",
        "[1., 0., 0., 0., 1.],\n",
        "[1., 1., 1., 1., 1.]])\n",
        "```"
      ]
    },
    {
      "cell_type": "markdown",
      "source": [
        "## Решение"
      ],
      "metadata": {
        "collapsed": false,
        "id": "GtzbE2FE5VHJ"
      }
    },
    {
      "cell_type": "code",
      "execution_count": null,
      "outputs": [],
      "source": [
        "def decorate_matrix(n: int):\n",
        "    matrix = np.zeros((n, n), dtype=int)\n",
        "\n",
        "    matrix[0] = np.ones(n)\n",
        "    matrix[:, 0] = np.ones(n)\n",
        "    matrix[:, n - 1] = np.ones(n)\n",
        "    matrix[n - 1] = np.ones(n)\n",
        "\n",
        "    return matrix"
      ],
      "metadata": {
        "pycharm": {
          "name": "#%%\n"
        },
        "id": "O1_49mZw5VHJ"
      }
    },
    {
      "cell_type": "code",
      "execution_count": null,
      "outputs": [
        {
          "name": "stdout",
          "output_type": "stream",
          "text": [
            "Введите размерность матрицы: 7\n"
          ]
        },
        {
          "output_type": "execute_result",
          "data": {
            "text/plain": [
              "array([[1, 1, 1, 1, 1, 1, 1],\n",
              "       [1, 0, 0, 0, 0, 0, 1],\n",
              "       [1, 0, 0, 0, 0, 0, 1],\n",
              "       [1, 0, 0, 0, 0, 0, 1],\n",
              "       [1, 0, 0, 0, 0, 0, 1],\n",
              "       [1, 0, 0, 0, 0, 0, 1],\n",
              "       [1, 1, 1, 1, 1, 1, 1]])"
            ]
          },
          "metadata": {},
          "execution_count": 14
        }
      ],
      "source": [
        "n = int(input(\"Введите размерность матрицы: \"))\n",
        "decorate_matrix(n)"
      ],
      "metadata": {
        "pycharm": {
          "name": "#%%\n"
        },
        "colab": {
          "base_uri": "https://localhost:8080/"
        },
        "id": "mkELYWaj5VHJ",
        "outputId": "2f503afc-4e6a-45ea-af64-f90596c1bae0"
      }
    },
    {
      "cell_type": "markdown",
      "metadata": {
        "id": "75sxny1zSCbl"
      },
      "source": [
        "# Задание 3\n",
        "\n",
        "---\n",
        "\n",
        "1) реализуйте 2 функции:\n",
        "\n",
        "$f(x) = (x+a)^2 - b$ \n",
        "\n",
        "$g(x) = |f(x)|$\n",
        "\n",
        "2) Найдите аргументы, при которых достигается минимум функций $f(x)$ и $g(x)$\n",
        "\n",
        "Пример. \n",
        "Входные значение: $a=3$ и $b=4$\n",
        "\n",
        "Выходные значения:\n",
        "\n",
        "`-3.0 -1.0`"
      ]
    },
    {
      "cell_type": "markdown",
      "source": [
        "## Решение"
      ],
      "metadata": {
        "collapsed": false,
        "id": "bAAB3OKT5VHK"
      }
    },
    {
      "cell_type": "code",
      "execution_count": null,
      "outputs": [
        {
          "name": "stdout",
          "output_type": "stream",
          "text": [
            "Введите 2 коэффициента a и b: 4 6\n"
          ]
        }
      ],
      "source": [
        "a, b = map(float, input(\"Введите 2 коэффициента a и b: \").split())\n",
        "\n",
        "def f(x):\n",
        "    return (x[0] + a) ** 2 - b\n",
        "\n",
        "def g(x):\n",
        "    return abs(f(x))"
      ],
      "metadata": {
        "pycharm": {
          "name": "#%%\n"
        },
        "colab": {
          "base_uri": "https://localhost:8080/"
        },
        "id": "93LH7VrW5VHK",
        "outputId": "5797696a-de91-4da2-bad0-02cc8f80f01f"
      }
    },
    {
      "cell_type": "markdown",
      "source": [
        "Для функции F(x) найду минимум с помощью optimize.minimize. \n",
        "\n",
        "Для функции G(X) воспользуюсь тем, что это парабола с модулем, то она имеет 1 или 2 минимума. Найду 1 минимум, потом отражу его через центр и так получу 2-ой минимум. Если разница между центром и найденным минимумом меньше заданного eps, то минимум 1."
      ],
      "metadata": {
        "id": "7KBJ09l_fTnY"
      }
    },
    {
      "cell_type": "code",
      "execution_count": null,
      "outputs": [
        {
          "output_type": "stream",
          "name": "stdout",
          "text": [
            "-4.0 [-1.5505, -6.4495]\n"
          ]
        }
      ],
      "source": [
        "f_opt = optimize.minimize(f, np.zeros(1))\n",
        "g_opt = optimize.minimize(g, np.zeros(1), method='Nelder-Mead')\n",
        "\n",
        "f_min = f_opt.fun\n",
        "fx_min = np.round(f_opt.x[0], 4)\n",
        "\n",
        "calculated_gx_min = g_opt.x[0]\n",
        "g_min = [g_opt.fun]\n",
        "gx_min = [round(g_opt.x[0], 4)]\n",
        "g_diff = abs(fx_min - calculated_gx_min)\n",
        "\n",
        "if g_diff > 0.0001:\n",
        "    g_min.append(g_opt.fun)\n",
        "\n",
        "    if g_opt.x[0] > fx_min:\n",
        "        gx_min.append(round(fx_min - g_diff, 4))\n",
        "    else:\n",
        "        gx_min.append(round(fx_min + g_diff, 4))\n",
        "\n",
        "print(fx_min, gx_min)"
      ],
      "metadata": {
        "pycharm": {
          "name": "#%%\n"
        },
        "colab": {
          "base_uri": "https://localhost:8080/"
        },
        "id": "nMoKWTpV5VHK",
        "outputId": "d1b0d736-377f-4ffa-a06a-1ea7c35bace6"
      }
    },
    {
      "cell_type": "markdown",
      "metadata": {
        "id": "efml9GzISC9Q"
      },
      "source": [
        "# Задание 4\n",
        "\n",
        "---\n",
        "\n",
        "Постройте графики для функций из предыдущего задания и отметьте другим цветом на графиках точки найденных минимумов."
      ]
    },
    {
      "cell_type": "markdown",
      "source": [
        "## Решение"
      ],
      "metadata": {
        "collapsed": false,
        "id": "0fZuH1-k5VHL"
      }
    },
    {
      "cell_type": "code",
      "execution_count": null,
      "outputs": [
        {
          "output_type": "display_data",
          "data": {
            "text/plain": [
              "<Figure size 432x288 with 1 Axes>"
            ],
            "image/png": "[encoded data removed]"
          },
          "metadata": {
            "needs_background": "light"
          }
        },
        {
          "output_type": "display_data",
          "data": {
            "text/plain": [
              "<Figure size 432x288 with 1 Axes>"
            ],
            "image/png": "[encoded data removed]"
          },
          "metadata": {
            "needs_background": "light"
          }
        }
      ],
      "source": [
        "x = np.arange(-10, 10, 0.01).reshape((2000 , 1))\n",
        "f_plot = list(map(f, x.tolist()))\n",
        "g_plot = list(map(g, x.tolist()))\n",
        "\n",
        "plt.plot(x, f_plot)\n",
        "plt.scatter(fx_min, f_min, color='red')\n",
        "plt.show()\n",
        "\n",
        "plt.plot(x, g_plot)\n",
        "plt.scatter(gx_min, g_min, color='red')\n",
        "plt.show()"
      ],
      "metadata": {
        "pycharm": {
          "name": "#%%\n"
        },
        "colab": {
          "base_uri": "https://localhost:8080/",
          "height": 513
        },
        "id": "jXGvJCj85VHL",
        "outputId": "4b61f504-0cad-414c-af4e-5af2ed38e895"
      }
    },
    {
      "cell_type": "markdown",
      "metadata": {
        "id": "mrby3EfiSDKJ"
      },
      "source": [
        "# Задание 5\n",
        "\n",
        "---\n",
        "\n",
        "1000 человек бросают монетку. Каждый бросил 10 раз подряд.\n",
        "\n",
        " 1. Какова вероятность того, что хотя бы у одного человека монетка выпала 10 раз подряд той же самой стороной (орлом или решкой)? \n",
        " 2. Какова вероятность того, что хотя бы у одного человека монетка выпала 8 раз подряд той же самой стороной (орлом или решкой)? \n",
        " 3. Какова вероятность того, что ровно у троих человек из 1000 монетка выпала 10 раз подряд той же самой стороной (орлом или решкой)?"
      ]
    },
    {
      "cell_type": "markdown",
      "source": [
        "## Решение"
      ],
      "metadata": {
        "collapsed": false,
        "pycharm": {
          "name": "#%% md\n"
        },
        "id": "R4hN5KUE5VHM"
      }
    },
    {
      "cell_type": "markdown",
      "source": [
        "1. Найдём вероятность выпадения решки/орла равна 0.5. Нам не важно, какая сторона выпала на первом броске, главное, чтобы остальные 9 бросков совпали с первым.\n",
        "2. Найдём обратную вероятность. Вероятность того, что человеку НЕ выпало 10 раз та же самая сторона.\n",
        "3. Найдём вероятность того, что у всех 1000 людей НЕ выпадет 10 раз та же самая сторона.\n",
        "4. Найдём обратную вероятность. Вероятность того, что хотя бы одному человеку выдадет 10 раз та же самая сторона."
      ],
      "metadata": {
        "id": "rBoRkFgpdX0u"
      }
    },
    {
      "cell_type": "code",
      "execution_count": null,
      "outputs": [
        {
          "output_type": "stream",
          "name": "stdout",
          "text": [
            "Пункт 1: 0.8584\n"
          ]
        }
      ],
      "source": [
        "one_man_success = pow(0.5, 9)\n",
        "one_man_failure = 1 - one_man_success\n",
        "\n",
        "all_men_failure = pow(one_man_failure, 1000)\n",
        "any_men_success = 1 - all_men_failure\n",
        "\n",
        "print(\"Пункт 1:\", np.round(any_men_success, 4))"
      ],
      "metadata": {
        "pycharm": {
          "name": "#%%\n"
        },
        "colab": {
          "base_uri": "https://localhost:8080/"
        },
        "id": "L4QbdhiO5VHM",
        "outputId": "ad8c7e89-2f7e-4c23-c19c-932da779f3c3"
      }
    },
    {
      "cell_type": "markdown",
      "source": [
        "1. Найдём вероятность того, что 1-ые 8 раз выпадет одна и та же сторона. 1-ый бросок нам не важен.\n",
        "2. Найдём вероятность того, что со 2-ого раза выпадет НЕ та же сторона, что на 1-ом броске, а последующие 7 бросоков совпадут с 2-ым.\n",
        "3. Найдём вероятность того, что со 3-ого раза выпадет НЕ та же сторона, что на 2-ом броске, а последующие 7 бросоков совпадут с 3-им.\n",
        "4. Найдём суммарную вероятность этих 3-ёх вероятностей - это вероятность того, что у человека выпала 8 раз одно и то же.\n",
        "5. Найдём обратную вероятность. Вероятность того, что 8 подряд НЕ выпало.\n",
        "6. Найдём вероятность того, что у всех 1000 людей НЕ выпадет 8 раз подряд та же самая сторона.\n",
        "7. Найдём обратную вероятность. Вероятность того, что хотя бы одному человеку выдадет 8 раз подряд та же самая сторона."
      ],
      "metadata": {
        "id": "3mHnmNcld5Qe"
      }
    },
    {
      "cell_type": "code",
      "execution_count": null,
      "outputs": [
        {
          "output_type": "stream",
          "name": "stdout",
          "text": [
            "Пункт 2: 0.99999986\n"
          ]
        }
      ],
      "source": [
        "start_from_1 = pow(0.5, 7)\n",
        "start_from_2 = pow(0.5, 7) * 0.5\n",
        "start_from_3 = pow(0.5, 7) * 0.5\n",
        "\n",
        "one_man_success = start_from_1 + start_from_2 + start_from_3\n",
        "one_man_failure = 1 - one_man_success\n",
        "\n",
        "all_men_failure = pow(one_man_failure, 1000)\n",
        "any_men_success = 1 - all_men_failure\n",
        "\n",
        "print(\"Пункт 2:\", np.round(any_men_success, 8))"
      ],
      "metadata": {
        "pycharm": {
          "name": "#%%\n"
        },
        "colab": {
          "base_uri": "https://localhost:8080/"
        },
        "id": "4T6eiBpr5VHN",
        "outputId": "5fd680cb-65d1-4081-8993-a9216090ebc3"
      }
    },
    {
      "cell_type": "markdown",
      "source": [
        "1. Вероятность выпадения решки/орла равна 0.5. Нам не важно, какая сторона выпала на первом броске, главное, чтобы остальные 9 бросков совпали с первым.\n",
        "2. Найдём обратную вероятность. Вероятность того, что человеку НЕ выпало 10 раз та же самая сторона.\n",
        "\n",
        "3. Вероятность того, что сначала у 997 людей не получится выбросить 10 раз ту же самую сторону, а потом у 3-их людей получится.\n",
        "4. Сколькими способами можно разместить 3-ёх людей (удачливых) среди всех 1000 людей.\n",
        "5. Домножим перестановки на посчитаную вероятность и получим вероятность того, что 3 удачливых могут быть любыми в очереди."
      ],
      "metadata": {
        "id": "LKnWbCJGeYFE"
      }
    },
    {
      "cell_type": "code",
      "execution_count": null,
      "outputs": [
        {
          "output_type": "stream",
          "name": "stdout",
          "text": [
            "Пункт 3: 0.1763\n"
          ]
        }
      ],
      "source": [
        "one_man_success = pow(0.5, 9)\n",
        "one_man_failure = 1 - one_man_success\n",
        "\n",
        "_997_failure_3_success_order = pow(one_man_failure, 997) * pow(one_man_success, 3)\n",
        "permutations = 1000 * 999 * 998 / (3 * 2 * 1)\n",
        "_997_failure_3_success = _997_failure_3_success_order * permutations\n",
        "\n",
        "print(\"Пункт 3:\", np.round(_997_failure_3_success, 4))"
      ],
      "metadata": {
        "pycharm": {
          "name": "#%%\n"
        },
        "colab": {
          "base_uri": "https://localhost:8080/"
        },
        "id": "0ulbdTQL5VHN",
        "outputId": "355ab9c5-0568-4d94-ce6e-2c2c26c7dead"
      }
    },
    {
      "cell_type": "markdown",
      "source": [
        "### Проверка случайной выборкой"
      ],
      "metadata": {
        "collapsed": false,
        "pycharm": {
          "name": "#%% md\n"
        },
        "id": "8GhfKpY25VHO"
      }
    },
    {
      "cell_type": "code",
      "execution_count": null,
      "outputs": [],
      "source": [
        "def rand():\n",
        "    men = []\n",
        "    for i in range(0, 1000, 1):\n",
        "        throws = []\n",
        "        for j in range(0, 10, 1):\n",
        "            throws.append(random.randint(0, 1))\n",
        "\n",
        "        men.append(throws)\n",
        "    return men"
      ],
      "metadata": {
        "pycharm": {
          "name": "#%%\n"
        },
        "id": "NuzJHsic5VHO"
      }
    },
    {
      "cell_type": "code",
      "execution_count": null,
      "outputs": [],
      "source": [
        "def test(men):\n",
        "    count_13 = 0\n",
        "    count_2 = 0\n",
        "    for i in range(0, 1000, 1):\n",
        "        count0, count1 = 0, 0\n",
        "        count_same = 1\n",
        "\n",
        "        for j in range(0, 10, 1):\n",
        "            if men[i][j] == 0:\n",
        "                count0 += 1\n",
        "            else:\n",
        "                count1 += 1\n",
        "            if j != 0 and men[i][j] == men[i][j - 1]:\n",
        "                count_same += 1\n",
        "            elif count_same != 8:\n",
        "                count_same = 1\n",
        "\n",
        "        if count0 == 10 or count1 == 10:\n",
        "            count_13 += 1\n",
        "        if count_same == 8:\n",
        "            count_2 += 1\n",
        "\n",
        "    return count_13 > 0, count_2 > 0, count_13 == 3"
      ],
      "metadata": {
        "pycharm": {
          "name": "#%%\n"
        },
        "id": "IGAaqpXM5VHP"
      }
    },
    {
      "cell_type": "code",
      "execution_count": null,
      "outputs": [
        {
          "output_type": "stream",
          "name": "stdout",
          "text": [
            "Для точности, по которой можно делать выводы, подойдёт n равное хотя бы 10,000, но имейте ввиду, что тестирование будет длиться несколько минут.\n",
            "Введите количество итераций для проверки: 10000\n",
            "При n = 10000 , вероятность в пункте 1 равна:  0.8613\n",
            "При n = 10000 , вероятность в пункте 2 равна:  0.9997\n",
            "При n = 10000 , вероятность в пункте 3 равна:  0.1858\n"
          ]
        }
      ],
      "source": [
        "print(\"Для точности, по которой можно делать выводы, подойдёт n равное хотя бы 10,000, \"\n",
        "      \"но имейте ввиду, что тестирование будет длиться несколько минут.\")\n",
        "n = int(input(\"Введите количество итераций для проверки: \"))\n",
        "count1 = 0\n",
        "count2 = 0\n",
        "count3 = 0\n",
        "for i in range(0, n, 1):\n",
        "    fl1, fl2, fl3 = test(rand())\n",
        "\n",
        "    if fl1:\n",
        "        count1 += 1\n",
        "\n",
        "    if fl2:\n",
        "        count2 += 1\n",
        "\n",
        "    if fl3:\n",
        "        count3 += 1\n",
        "\n",
        "print(\"При n =\", n, \", вероятность в пункте 1 равна: \", round(count1 / n, 5))\n",
        "print(\"При n =\", n, \", вероятность в пункте 2 равна: \", round(count2 / n, 5))\n",
        "print(\"При n =\", n, \", вероятность в пункте 3 равна: \", round(count3 / n, 5))"
      ],
      "metadata": {
        "pycharm": {
          "name": "#%%\n"
        },
        "colab": {
          "base_uri": "https://localhost:8080/"
        },
        "id": "yYIQbkum5VHP",
        "outputId": "3fdf224d-7293-4aef-9ecc-2cc972e6fb6a"
      }
    }
  ]
}